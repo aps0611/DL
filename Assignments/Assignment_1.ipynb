{
  "nbformat": 4,
  "nbformat_minor": 0,
  "metadata": {
    "colab": {
      "provenance": []
    },
    "kernelspec": {
      "name": "python3",
      "display_name": "Python 3"
    },
    "language_info": {
      "name": "python"
    },
    "accelerator": "GPU",
    "gpuClass": "standard"
  },
  "cells": [
    {
      "cell_type": "markdown",
      "source": [
        "Q1"
      ],
      "metadata": {
        "id": "HSFXjYVStOWT"
      }
    },
    {
      "cell_type": "markdown",
      "source": [
        "# What is the function of a summation junction of a neuron? What is threshold activation function?"
      ],
      "metadata": {
        "id": "NhM660_CtQ22"
      }
    },
    {
      "cell_type": "markdown",
      "source": [
        "The summation junction of a neuron, also known as the dendritic tree, is responsible for `integrating the input signals received from other neurons` or external stimuli. The dendritic tree receives electrical signals in the form of neurotransmitters from the axons of other neurons, and it `sums up` these signals to determine whether the neuron should fire or not."
      ],
      "metadata": {
        "id": "TxZZTL-ltbv8"
      }
    },
    {
      "cell_type": "markdown",
      "source": [
        "The `threshold activation` function is a mathematical function used by neurons to determine whether they should fire or not. It compares the sum of the input signals received by the neuron to a threshold value. If the sum of the input signals is greater than or equal to the threshold value, the neuron fires an action potential, which is an electrical signal that travels down the axon of the neuron to communicate with other neurons. If the sum of the input signals is less than the threshold value, the neuron remains inactive and does not fire an action potential"
      ],
      "metadata": {
        "id": "q__iTtHgtubb"
      }
    },
    {
      "cell_type": "markdown",
      "source": [
        "Q2"
      ],
      "metadata": {
        "id": "zjM2tg5buFRS"
      }
    },
    {
      "cell_type": "markdown",
      "source": [
        "# What is a `step function`? What is the difference of step function with threshold function?\n"
      ],
      "metadata": {
        "id": "Jbfs2XNRuAUx"
      }
    },
    {
      "cell_type": "markdown",
      "source": [
        "The main difference between the step function and the threshold activation function is that the step function is a mathematical function used to transform any continuous input signal into a `binary output` signal, while the threshold activation function is a specific type of function used by neurons to determine their firing behavior based on the input signals they receive."
      ],
      "metadata": {
        "id": "-UWxMGpquHII"
      }
    },
    {
      "cell_type": "markdown",
      "source": [
        "Q3"
      ],
      "metadata": {
        "id": "sE5qqvcTv6zY"
      }
    },
    {
      "cell_type": "markdown",
      "source": [
        "# Explain the McCulloch–Pitts model of neuron."
      ],
      "metadata": {
        "id": "ah3lU9kkv7IN"
      }
    },
    {
      "cell_type": "markdown",
      "source": [
        "The first computational model of a neuron was proposed by Warren MuCulloch (neuroscientist) and Walter Pitts (logician) in 1943.\n",
        "\n",
        "It may be divided into 2 parts. The first part, g takes an input (ahem dendrite ahem), performs an aggregation and based on the aggregated value the second part, f makes a decision.\n",
        "\n"
      ],
      "metadata": {
        "id": "g6LK_aAjv7r3"
      }
    },
    {
      "cell_type": "markdown",
      "source": [
        "![1_piths model.webp](data:image/webp;base64,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)"
      ],
      "metadata": {
        "id": "sA7BS55qxKvL"
      }
    },
    {
      "cell_type": "markdown",
      "source": [
        "These inputs can either be excitatory or inhibitory. Inhibitory inputs are those that have maximum effect on the decision making irrespective of other inputs i.e., if x_3 is 1 (not home) then my output will always be 0 i.e., the neuron will never fire, so x_3 is an inhibitory input. Excitatory inputs are NOT the ones that will make the neuron fire on their own but they might fire it when combined together."
      ],
      "metadata": {
        "id": "OTsEc904xKow"
      }
    },
    {
      "cell_type": "markdown",
      "source": [
        "These inputs can either be excitatory or inhibitory. Inhibitory inputs are those that have maximum effect on the decision making irrespective of other inputs i.e., if x_3 is 1 (not home) then my output will always be 0 i.e., the neuron will never fire, so x_3 is an inhibitory input. Excitatory inputs are NOT the ones that will make the neuron fire on their own but they might fire it when combined together."
      ],
      "metadata": {
        "id": "JI889R4Vx420"
      }
    },
    {
      "cell_type": "markdown",
      "source": [
        "Source: https://towardsdatascience.com/mcculloch-pitts-model-5fdf65ac5dd1"
      ],
      "metadata": {
        "id": "klZzSP4-x7Dx"
      }
    },
    {
      "cell_type": "markdown",
      "source": [
        "However, it has several limitations, including the fact that it `only allows binary inputs and outputs`, and `it cannot learn from data`."
      ],
      "metadata": {
        "id": "xwfmI5w_yTmI"
      }
    },
    {
      "cell_type": "markdown",
      "source": [
        "Q4:"
      ],
      "metadata": {
        "id": "umNezsUcyHdY"
      }
    },
    {
      "cell_type": "markdown",
      "source": [
        "# Explain the ADALINE network model."
      ],
      "metadata": {
        "id": "pjbTta8UyJ7W"
      }
    },
    {
      "cell_type": "markdown",
      "source": [
        "The ADALINE (Adaptive Linear Neuron) network model is a type of neural network that was proposed by Bernard Widrow and Ted Hoff in 1960. It is a modification of the earlier Perceptron model, but instead of using a step function as the activation function, ADALINE uses a linear activation function. This allows ADALINE to output `continuous values` rather than binary values, making it more suitable for regression problems."
      ],
      "metadata": {
        "id": "NDTzdSC8yjZQ"
      }
    },
    {
      "cell_type": "markdown",
      "source": [
        "ADALINE consists of a single layer of input neurons, each with an associated weight. The inputs are multiplied by their weights, and the resulting values are summed together to produce a net input value. This net input value is then fed into a linear activation function, which produces the output of the neuron.\n",
        "\n"
      ],
      "metadata": {
        "id": "c6m_Nil2ykiH"
      }
    },
    {
      "cell_type": "markdown",
      "source": [
        "Mathematically, the output of an ADALINE neuron can be represented as follows:\n",
        "\n",
        "$output = ∑ (input * weight) + bias$"
      ],
      "metadata": {
        "id": "RcM-oT2yys-k"
      }
    },
    {
      "cell_type": "markdown",
      "source": [
        "Q5"
      ],
      "metadata": {
        "id": "a1lmp9_KzZ8G"
      }
    },
    {
      "cell_type": "markdown",
      "source": [
        "# What is the constraint of a simple perceptron? Why it may fail with a real-world data set?"
      ],
      "metadata": {
        "id": "OQSCtJT6zh16"
      }
    },
    {
      "cell_type": "markdown",
      "source": [
        "The simple perceptron is a type of neural network that can only be used for linearly separable problems. This means that it can only classify data points that can be separated by a linear boundary in the feature space. If the data is not linearly separable, the simple perceptron may not be able to find a solution that separates the data points correctly.\n",
        "\n",
        "Moreover, the simple perceptron has limitations in handling noisy data and outliers"
      ],
      "metadata": {
        "id": "k-rm-zlSzcLi"
      }
    },
    {
      "cell_type": "markdown",
      "source": [
        "Q6"
      ],
      "metadata": {
        "id": "Dmj7AzskzmaJ"
      }
    },
    {
      "cell_type": "markdown",
      "source": [
        "# What is linearly inseparable problem? What is the role of the hidden layer?"
      ],
      "metadata": {
        "id": "NFHD3AkkznmJ"
      }
    },
    {
      "cell_type": "markdown",
      "source": [
        "A linearly inseparable problem is a problem where the classes of data points cannot be separated by a linear boundary in the feature space. In other words, there is no straight line, plane, or hyperplane that can completely separate the data points of different classes. Nonlinear decision boundaries are required to accurately classify the data in such problems."
      ],
      "metadata": {
        "id": "U1rVs5Iqz0Jl"
      }
    },
    {
      "cell_type": "markdown",
      "source": [
        "The role of the hidden layer in a neural network is to enable the network to learn nonlinear decision boundaries for such problems. The hidden layer consists of one or more layers of neurons that process the input data and extract relevant features. Each neuron in the hidden layer applies a nonlinear activation function to the weighted sum of the inputs, which allows the network to learn complex nonlinear mappings between the input and output."
      ],
      "metadata": {
        "id": "zD74QK-Iz2C2"
      }
    },
    {
      "cell_type": "markdown",
      "source": [
        "Q7"
      ],
      "metadata": {
        "id": "fHcDEjlG0KvM"
      }
    },
    {
      "cell_type": "markdown",
      "source": [
        "# Explain XOR problem in case of a simple perceptron.\n",
        "\n"
      ],
      "metadata": {
        "id": "N2rWEfGm0rSF"
      }
    },
    {
      "cell_type": "markdown",
      "source": [
        "The XOR problem is a classic example of a problem that cannot be solved by a simple perceptron. The problem involves classifying input pairs (x1, x2) into two classes: 0 and 1, based on the exclusive OR (XOR) operation of the inputs.\n",
        "\n",
        "The XOR function returns 1 if either x1 or x2 is 1, but not both. Otherwise, it returns 0. The XOR problem can be represented as follows:\n",
        "\n",
        "|Input| Output\n",
        "|-----|------\n",
        "|(0,0)| 0\n",
        "|(0,1)| 1\n",
        "|(1,0)| 1\n",
        "|(1,1)| 0\n",
        "\n",
        "The problem with the XOR function is that it is not linearly separable, meaning there is no straight line or hyperplane that can completely separate the two classes of points. This makes it impossible for a simple perceptron, which can only classify linearly separable problems, to accurately classify the XOR problem.\n",
        "\n",
        "When the XOR problem is presented to a simple perceptron, it will not be able to learn a decision boundary that separates the two classes of data. The perceptron algorithm will continue to adjust the weights in an attempt to minimize the error, but it will not be able to find a solution that accurately classifies all of the input pairs.\n",
        "\n",
        "To solve the XOR problem, a more complex neural network architecture is required, such as a multi-layer perceptron with at least one hidden layer. The hidden layer allows the network to learn nonlinear decision boundaries and represent complex relationships between the input and output."
      ],
      "metadata": {
        "id": "PpfHEa3Z0Lyf"
      }
    },
    {
      "cell_type": "markdown",
      "source": [
        "Q8"
      ],
      "metadata": {
        "id": "9waM7EWH0wyw"
      }
    },
    {
      "cell_type": "markdown",
      "source": [
        "# Design a multi-layer perceptron to implement A XOR B."
      ],
      "metadata": {
        "id": "rIPoVlx70yUH"
      }
    },
    {
      "cell_type": "code",
      "source": [
        "import tensorflow as tf\n",
        "from tensorflow import keras\n",
        "from tensorflow.keras import layers\n",
        "\n",
        "# Define the model architecture\n",
        "model = keras.Sequential()\n",
        "model.add(layers.Dense(2, input_dim=2, activation='sigmoid')) #  two-layer perceptron with one hidden layer and 2 neurons each\n",
        "model.add(layers.Dense(1, activation='sigmoid')) # one output layer \n",
        "\n",
        "# Compile the model\n",
        "model.compile(loss='binary_crossentropy', optimizer='adam', metrics=['accuracy'])\n",
        "\n",
        "# Define the training data\n",
        "X_train = [[0, 0], [0, 1], [1, 0], [1, 1]]\n",
        "y_train = [0, 1, 1, 0]\n",
        "\n",
        "# Train the model\n",
        "model.fit(X_train, y_train, epochs=1000, verbose=0)\n",
        "\n",
        "# Test the model\n",
        "X_test = [[0, 0], [0, 1], [1, 0], [1, 1]]\n",
        "y_pred = model.predict(X_test)\n",
        "print(y_pred)"
      ],
      "metadata": {
        "colab": {
          "base_uri": "https://localhost:8080/"
        },
        "id": "LOB9IxbS1HII",
        "outputId": "1f16a701-68be-4082-8961-90035c1e1e26"
      },
      "execution_count": 6,
      "outputs": [
        {
          "output_type": "stream",
          "name": "stdout",
          "text": [
            "1/1 [==============================] - 0s 59ms/step\n",
            "[[0.5196844 ]\n",
            " [0.46960276]\n",
            " [0.5538944 ]\n",
            " [0.48815978]]\n"
          ]
        }
      ]
    },
    {
      "cell_type": "markdown",
      "source": [
        "Q9"
      ],
      "metadata": {
        "id": "Z2gHMGbqD06C"
      }
    },
    {
      "cell_type": "markdown",
      "source": [
        "# Explain the single-layer feed forward architecture of ANN."
      ],
      "metadata": {
        "id": "hM2hi1bi04F3"
      }
    },
    {
      "cell_type": "markdown",
      "source": [
        "* **Single layer feedforward network** − The concept is of feedforward ANN having only one weighted layer. In other words, we can say the input layer is fully connected to the output layer.\n",
        "\n",
        "* ![single_layer_feedforward_network.jpg](data:image/jpeg;base64,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)"
      ],
      "metadata": {
        "id": "uSDA-DrxD3e3"
      }
    },
    {
      "cell_type": "markdown",
      "source": [
        "The single-layer feedforward architecture is the simplest type of artificial neural network (ANN) that can be used for pattern classification. It consists of a single layer of perceptron neurons, which are fully connected to the input layer.\n",
        "\n",
        "The input layer contains the input variables or features that are used to classify the patterns, and each neuron in the output layer computes a weighted sum of the inputs and applies a non-linear activation function to produce the output."
      ],
      "metadata": {
        "id": "OGjwZ6lfE3KM"
      }
    },
    {
      "cell_type": "markdown",
      "source": [
        "Read more: https://www.geeksforgeeks.org/introduction-to-ann-set-4-network-architectures/"
      ],
      "metadata": {
        "id": "xfhURSogFEii"
      }
    },
    {
      "cell_type": "markdown",
      "source": [
        "Q10"
      ],
      "metadata": {
        "id": "3krpA4ejGoTB"
      }
    },
    {
      "cell_type": "markdown",
      "source": [
        "# Explain the competitive network architecture of ANN."
      ],
      "metadata": {
        "id": "BbfDsH8eFLXC"
      }
    },
    {
      "cell_type": "markdown",
      "source": [
        "It is as same as the single-layer feed-forward network in structure. The only difference is that the output neurons are connected with each other (either partially or fully). "
      ],
      "metadata": {
        "id": "7Hk_MDLDFMpc"
      }
    },
    {
      "cell_type": "markdown",
      "source": [
        "Q11"
      ],
      "metadata": {
        "id": "1DTul53YGpnr"
      }
    },
    {
      "cell_type": "markdown",
      "source": [
        "# Consider a multi-layer feed forward neural network. Enumerate and explain steps in the backpropagation algorithm used to train the network."
      ],
      "metadata": {
        "id": "8c2U04biGqz6"
      }
    },
    {
      "cell_type": "markdown",
      "source": [
        "* Forward Pass: The input is presented to the network, and the activations of each neuron in each layer are computed using the current weights of the connections. This process continues until the output of the network is produced.\n",
        "\n",
        "* Calculation of Error: The error of the network is calculated by comparing the output of the network with the desired output. This error is used to adjust the weights of the connections in the network.\n",
        "\n",
        "* Backward Pass: The error is propagated backward through the network, starting from the output layer and moving towards the input layer. The derivative of the activation function is used to compute the error signal at each neuron.\n",
        "\n",
        "* Weight Update: The weights of the connections in the network are updated based on the error signal and the input to the neuron. The weights are adjusted in the direction of steepest descent of the error function, which is determined by the gradient of the error function with respect to the weights.\n",
        "\n",
        "* Repeat: Steps 1-4 are repeated for each input in the training set, and the weights of the network are updated after each input is processed. This process is repeated for a fixed number of epochs or until the error on the training set reaches a satisfactory level."
      ],
      "metadata": {
        "id": "tJYY2ia2GuQP"
      }
    },
    {
      "cell_type": "markdown",
      "source": [
        "Q12\n"
      ],
      "metadata": {
        "id": "yDohbNplHW57"
      }
    },
    {
      "cell_type": "markdown",
      "source": [
        "# What are the advantages and disadvantages of neural networks?"
      ],
      "metadata": {
        "id": "Iy3yE-DBHYgn"
      }
    },
    {
      "cell_type": "markdown",
      "source": [
        "Advantages\n",
        "-----------------------------\n",
        "* Neural networks can learn complex non-linear relationships between input and output data, making them well-suited for a wide range of applications in fields such as image recognition, natural language processing, and predictive modeling.\n",
        "* They can perform parallel processing, which makes them efficient in processing large amounts of data simultaneously.\n",
        "They are robust to noisy and incomplete data, and can handle missing values in the input data.\n",
        "* Neural networks can generalize well to new data, which means that they can make accurate predictions on unseen data after being trained on a representative sample.\n",
        "* They are capable of self-organizing and self-learning, which makes them adaptable to changing environments and datasets.\n",
        "\n",
        "\n",
        "Disadvantages:\n",
        "----------------------------------\n",
        "\n",
        "* Neural networks can be computationally expensive, especially for large datasets and complex models.\n",
        "* They require a large amount of training data to learn accurately, and the training process can be time-consuming.\n",
        "* Neural networks can suffer from overfitting, where they learn the noise in the training data rather than the underlying patterns, leading to poor performance on new data.\n",
        "* They are often considered to be black-box models, as it can be difficult to interpret how they arrived at a particular decision or prediction.\n",
        "* Neural networks may require a large number of hyperparameters to be tuned, which can be difficult and time-consuming.\n"
      ],
      "metadata": {
        "id": "nHf9agiXHZrg"
      }
    },
    {
      "cell_type": "markdown",
      "source": [],
      "metadata": {
        "id": "kCEMM_7mHyzM"
      }
    },
    {
      "cell_type": "code",
      "source": [],
      "metadata": {
        "id": "DP-eouZj0JdK"
      },
      "execution_count": null,
      "outputs": []
    }
  ]
}