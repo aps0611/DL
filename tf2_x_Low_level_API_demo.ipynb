{
  "nbformat": 4,
  "nbformat_minor": 0,
  "metadata": {
    "colab": {
      "provenance": []
    },
    "kernelspec": {
      "name": "python3",
      "display_name": "Python 3"
    },
    "language_info": {
      "name": "python"
    },
    "accelerator": "GPU"
  },
  "cells": [
    {
      "cell_type": "markdown",
      "metadata": {
        "id": "B9ecDAtcJt_N"
      },
      "source": [
        "# Tf 2.x low level API"
      ]
    },
    {
      "cell_type": "code",
      "metadata": {
        "id": "SdL6h7ChJgGH"
      },
      "source": [
        "import tensorflow as tf"
      ],
      "execution_count": null,
      "outputs": []
    },
    {
      "cell_type": "code",
      "metadata": {
        "id": "oM4enaytKC6G"
      },
      "source": [
        "# What is keras? is it High level API or Low level?\n",
        "\n",
        "## High level API "
      ],
      "execution_count": null,
      "outputs": []
    },
    {
      "cell_type": "markdown",
      "metadata": {
        "id": "GgknDFEcKZPB"
      },
      "source": [
        "## tensor constant\n",
        "\n",
        "### Tensor: Multi dim arrays"
      ]
    },
    {
      "cell_type": "code",
      "metadata": {
        "id": "kSNni2s0KK4K"
      },
      "source": [
        "const = tf.constant(43)"
      ],
      "execution_count": null,
      "outputs": []
    },
    {
      "cell_type": "code",
      "metadata": {
        "colab": {
          "base_uri": "https://localhost:8080/"
        },
        "id": "Rn3dKBTmKyi2",
        "outputId": "e562801e-3b56-482d-9f22-b45c6666fa44"
      },
      "source": [
        "const"
      ],
      "execution_count": null,
      "outputs": [
        {
          "output_type": "execute_result",
          "data": {
            "text/plain": [
              "<tf.Tensor: shape=(), dtype=int32, numpy=43>"
            ]
          },
          "metadata": {},
          "execution_count": 8
        }
      ]
    },
    {
      "cell_type": "code",
      "metadata": {
        "colab": {
          "base_uri": "https://localhost:8080/"
        },
        "id": "LSxhc4sUKzgK",
        "outputId": "86ce4d05-fa34-48d6-a568-85b629a96dc2"
      },
      "source": [
        "const.numpy()\n"
      ],
      "execution_count": null,
      "outputs": [
        {
          "output_type": "execute_result",
          "data": {
            "text/plain": [
              "43"
            ]
          },
          "metadata": {},
          "execution_count": 9
        }
      ]
    },
    {
      "cell_type": "code",
      "metadata": {
        "colab": {
          "base_uri": "https://localhost:8080/"
        },
        "id": "arT3aclNK9BJ",
        "outputId": "0de4afe5-8602-4acd-dc81-f976e9708038"
      },
      "source": [
        "## specify the datatype\n",
        "const = tf.constant(43, dtype=tf.int64)\n",
        "const"
      ],
      "execution_count": null,
      "outputs": [
        {
          "output_type": "execute_result",
          "data": {
            "text/plain": [
              "<tf.Tensor: shape=(), dtype=int64, numpy=43>"
            ]
          },
          "metadata": {},
          "execution_count": 11
        }
      ]
    },
    {
      "cell_type": "code",
      "metadata": {
        "colab": {
          "base_uri": "https://localhost:8080/"
        },
        "id": "NbABqxkxLMp0",
        "outputId": "b57b246d-0179-4ef1-e115-b864597b5be1"
      },
      "source": [
        "const_mat = tf.constant([[4,2],[9,5]])\n",
        "const_mat"
      ],
      "execution_count": null,
      "outputs": [
        {
          "output_type": "execute_result",
          "data": {
            "text/plain": [
              "<tf.Tensor: shape=(2, 2), dtype=int32, numpy=\n",
              "array([[4, 2],\n",
              "       [9, 5]], dtype=int32)>"
            ]
          },
          "metadata": {},
          "execution_count": 12
        }
      ]
    },
    {
      "cell_type": "code",
      "metadata": {
        "colab": {
          "base_uri": "https://localhost:8080/"
        },
        "id": "ovv9mu_jLdWV",
        "outputId": "9850258a-c342-4e35-84ba-bc3378477d21"
      },
      "source": [
        "const_mat.shape"
      ],
      "execution_count": null,
      "outputs": [
        {
          "output_type": "execute_result",
          "data": {
            "text/plain": [
              "TensorShape([2, 2])"
            ]
          },
          "metadata": {},
          "execution_count": 13
        }
      ]
    },
    {
      "cell_type": "code",
      "metadata": {
        "colab": {
          "base_uri": "https://localhost:8080/"
        },
        "id": "YjiX1JtpLl9i",
        "outputId": "7e52526f-2cb8-4281-b98c-3b4f1b4c874b"
      },
      "source": [
        "const_mat.dtype"
      ],
      "execution_count": null,
      "outputs": [
        {
          "output_type": "execute_result",
          "data": {
            "text/plain": [
              "tf.int32"
            ]
          },
          "metadata": {},
          "execution_count": 14
        }
      ]
    },
    {
      "cell_type": "markdown",
      "metadata": {
        "id": "DCr6-i0GL0eW"
      },
      "source": [
        "`observe: Increase the no. hidden layers and observe what happens to size of the model that you save.\n",
        "\n",
        "Query: Before and after training will the model size will remain same or increase or decrease? ==> remains same`"
      ]
    },
    {
      "cell_type": "markdown",
      "metadata": {
        "id": "u-O4Z4BgM1xI"
      },
      "source": [
        "## Commonly used method"
      ]
    },
    {
      "cell_type": "code",
      "metadata": {
        "colab": {
          "base_uri": "https://localhost:8080/"
        },
        "id": "MbCS7lctLqKJ",
        "outputId": "901d17b4-49c4-42e5-98b7-39c337e6a847"
      },
      "source": [
        "tf.ones(shape=(2,3))"
      ],
      "execution_count": null,
      "outputs": [
        {
          "output_type": "execute_result",
          "data": {
            "text/plain": [
              "<tf.Tensor: shape=(2, 3), dtype=float32, numpy=\n",
              "array([[1., 1., 1.],\n",
              "       [1., 1., 1.]], dtype=float32)>"
            ]
          },
          "metadata": {},
          "execution_count": 15
        }
      ]
    },
    {
      "cell_type": "code",
      "metadata": {
        "colab": {
          "base_uri": "https://localhost:8080/"
        },
        "id": "u2XUog5BNOjs",
        "outputId": "48f34a6c-4020-4b9e-848b-eec1ee54041b"
      },
      "source": [
        "5 * tf.ones(shape=(2,3))"
      ],
      "execution_count": null,
      "outputs": [
        {
          "output_type": "execute_result",
          "data": {
            "text/plain": [
              "<tf.Tensor: shape=(2, 3), dtype=float32, numpy=\n",
              "array([[5., 5., 5.],\n",
              "       [5., 5., 5.]], dtype=float32)>"
            ]
          },
          "metadata": {},
          "execution_count": 17
        }
      ]
    },
    {
      "cell_type": "code",
      "metadata": {
        "colab": {
          "base_uri": "https://localhost:8080/"
        },
        "id": "cd4PzAjSNDD8",
        "outputId": "39c0998c-e6e3-416c-877e-f9366ecf51cb"
      },
      "source": [
        "tf.zeros(shape=(2,3))"
      ],
      "execution_count": null,
      "outputs": [
        {
          "output_type": "execute_result",
          "data": {
            "text/plain": [
              "<tf.Tensor: shape=(2, 3), dtype=float32, numpy=\n",
              "array([[0., 0., 0.],\n",
              "       [0., 0., 0.]], dtype=float32)>"
            ]
          },
          "metadata": {},
          "execution_count": 16
        }
      ]
    },
    {
      "cell_type": "markdown",
      "metadata": {
        "id": "vHbr_Ta9NlnV"
      },
      "source": [
        "## add operations"
      ]
    },
    {
      "cell_type": "code",
      "metadata": {
        "id": "6H33On74NL0L"
      },
      "source": [
        "const1 = tf.constant([[11,3,4],[3,4,5]])\n",
        "const2 = tf.constant([[7,9,5],[3,4,5]])"
      ],
      "execution_count": null,
      "outputs": []
    },
    {
      "cell_type": "code",
      "metadata": {
        "colab": {
          "base_uri": "https://localhost:8080/"
        },
        "id": "eqdRi-7QN1HT",
        "outputId": "3b1b36d7-3828-40f6-93ab-76883c3ab512"
      },
      "source": [
        "result = tf.add(const1, const2)\n",
        "result"
      ],
      "execution_count": null,
      "outputs": [
        {
          "output_type": "execute_result",
          "data": {
            "text/plain": [
              "<tf.Tensor: shape=(2, 3), dtype=int32, numpy=\n",
              "array([[18, 12,  9],\n",
              "       [ 6,  8, 10]], dtype=int32)>"
            ]
          },
          "metadata": {},
          "execution_count": 21
        }
      ]
    },
    {
      "cell_type": "code",
      "metadata": {
        "colab": {
          "base_uri": "https://localhost:8080/"
        },
        "id": "Ql-LAfscOAYW",
        "outputId": "5bbec168-5766-492c-9687-dd8fb42447e7"
      },
      "source": [
        "const1 + const2"
      ],
      "execution_count": null,
      "outputs": [
        {
          "output_type": "execute_result",
          "data": {
            "text/plain": [
              "<tf.Tensor: shape=(2, 3), dtype=int32, numpy=\n",
              "array([[18, 12,  9],\n",
              "       [ 6,  8, 10]], dtype=int32)>"
            ]
          },
          "metadata": {},
          "execution_count": 22
        }
      ]
    },
    {
      "cell_type": "markdown",
      "metadata": {
        "id": "5SvTYstMOyUY"
      },
      "source": [
        "## Random const"
      ]
    },
    {
      "cell_type": "code",
      "metadata": {
        "colab": {
          "base_uri": "https://localhost:8080/"
        },
        "id": "6e3cbb83Oqsd",
        "outputId": "7bd1ee94-bf9a-4ce5-ee5d-41411aba0d4f"
      },
      "source": [
        "x = tf.random.normal(shape=(2,2), mean=0, stddev=1.0)\n",
        "x"
      ],
      "execution_count": null,
      "outputs": [
        {
          "output_type": "execute_result",
          "data": {
            "text/plain": [
              "<tf.Tensor: shape=(2, 2), dtype=float32, numpy=\n",
              "array([[ 0.06385966, -1.2362483 ],\n",
              "       [-0.3649998 , -0.83387613]], dtype=float32)>"
            ]
          },
          "metadata": {},
          "execution_count": 23
        }
      ]
    },
    {
      "cell_type": "code",
      "metadata": {
        "colab": {
          "base_uri": "https://localhost:8080/"
        },
        "id": "J_l1VARkPAWs",
        "outputId": "2f77dc82-517a-44e5-d2ac-0ad140d0b775"
      },
      "source": [
        "x = tf.random.uniform(shape=(2,2), minval=0, maxval=10)\n",
        "x"
      ],
      "execution_count": null,
      "outputs": [
        {
          "output_type": "execute_result",
          "data": {
            "text/plain": [
              "<tf.Tensor: shape=(2, 2), dtype=float32, numpy=\n",
              "array([[3.2337928, 6.402439 ],\n",
              "       [9.346653 , 2.2888386]], dtype=float32)>"
            ]
          },
          "metadata": {},
          "execution_count": 24
        }
      ]
    },
    {
      "cell_type": "code",
      "metadata": {
        "colab": {
          "base_uri": "https://localhost:8080/"
        },
        "id": "K63t_onQPepb",
        "outputId": "52e97e63-ac1d-4951-be6b-f1594b3231b5"
      },
      "source": [
        "x = tf.random.uniform(shape=(2,2), minval=0, maxval=10, dtype=tf.int32)\n",
        "x"
      ],
      "execution_count": null,
      "outputs": [
        {
          "output_type": "execute_result",
          "data": {
            "text/plain": [
              "<tf.Tensor: shape=(2, 2), dtype=int32, numpy=\n",
              "array([[9, 8],\n",
              "       [4, 4]], dtype=int32)>"
            ]
          },
          "metadata": {},
          "execution_count": 25
        }
      ]
    },
    {
      "cell_type": "markdown",
      "metadata": {
        "id": "aFn9GLnIPyAW"
      },
      "source": [
        "## Variables\n",
        "\n"
      ]
    },
    {
      "cell_type": "code",
      "metadata": {
        "id": "rxX--18ZPqOj"
      },
      "source": [
        "var1 = tf.Variable(45)\n",
        "\n",
        "var2 = tf.Variable([[4,2],[9,5]])"
      ],
      "execution_count": null,
      "outputs": []
    },
    {
      "cell_type": "code",
      "metadata": {
        "colab": {
          "base_uri": "https://localhost:8080/"
        },
        "id": "RJZhwwxsQ8v0",
        "outputId": "c64fb823-c49d-4f90-9907-8764e9d9f4cd"
      },
      "source": [
        "var1"
      ],
      "execution_count": null,
      "outputs": [
        {
          "output_type": "execute_result",
          "data": {
            "text/plain": [
              "<tf.Variable 'Variable:0' shape=() dtype=int32, numpy=45>"
            ]
          },
          "metadata": {},
          "execution_count": 27
        }
      ]
    },
    {
      "cell_type": "code",
      "metadata": {
        "colab": {
          "base_uri": "https://localhost:8080/"
        },
        "id": "j6UO7vTSQ-Ui",
        "outputId": "644d4211-a890-4633-fd5f-bfbe122eda81"
      },
      "source": [
        "var1.numpy()"
      ],
      "execution_count": null,
      "outputs": [
        {
          "output_type": "execute_result",
          "data": {
            "text/plain": [
              "45"
            ]
          },
          "metadata": {},
          "execution_count": 28
        }
      ]
    },
    {
      "cell_type": "code",
      "metadata": {
        "colab": {
          "base_uri": "https://localhost:8080/"
        },
        "id": "OHNj31OLRI2f",
        "outputId": "7aa8526f-48c3-414c-e3fe-4d42b6bf8e71"
      },
      "source": [
        "var1 = tf.Variable(45.4)\n",
        "var1"
      ],
      "execution_count": null,
      "outputs": [
        {
          "output_type": "execute_result",
          "data": {
            "text/plain": [
              "<tf.Variable 'Variable:0' shape=() dtype=float32, numpy=45.4>"
            ]
          },
          "metadata": {},
          "execution_count": 29
        }
      ]
    },
    {
      "cell_type": "code",
      "metadata": {
        "colab": {
          "base_uri": "https://localhost:8080/"
        },
        "id": "OJ2qJlqnRXu2",
        "outputId": "c38fbf2d-ded4-439f-cc1b-875327174998"
      },
      "source": [
        "var1 = tf.Variable(45.4, dtype=tf.float16)\n",
        "var1"
      ],
      "execution_count": null,
      "outputs": [
        {
          "output_type": "execute_result",
          "data": {
            "text/plain": [
              "<tf.Variable 'Variable:0' shape=() dtype=float16, numpy=45.4>"
            ]
          },
          "metadata": {},
          "execution_count": 30
        }
      ]
    },
    {
      "cell_type": "markdown",
      "metadata": {
        "id": "1OZS7nuEToEp"
      },
      "source": [
        "reassign a variable, var.assign()"
      ]
    },
    {
      "cell_type": "code",
      "metadata": {
        "id": "e5M7bHcfRv77"
      },
      "source": [
        "var1 = tf.Variable(45.4, dtype=tf.float16)"
      ],
      "execution_count": null,
      "outputs": []
    },
    {
      "cell_type": "code",
      "metadata": {
        "colab": {
          "base_uri": "https://localhost:8080/"
        },
        "id": "dC6aE0jtRcpi",
        "outputId": "2b137247-a604-4a14-9195-652216519094"
      },
      "source": [
        "var1.assign(99)\n",
        "var1"
      ],
      "execution_count": null,
      "outputs": [
        {
          "output_type": "execute_result",
          "data": {
            "text/plain": [
              "<tf.Variable 'Variable:0' shape=() dtype=float16, numpy=99.0>"
            ]
          },
          "metadata": {},
          "execution_count": 32
        }
      ]
    },
    {
      "cell_type": "markdown",
      "metadata": {
        "id": "YhhbN4GBUI5H"
      },
      "source": [
        "### reshaping operation"
      ]
    },
    {
      "cell_type": "code",
      "metadata": {
        "colab": {
          "base_uri": "https://localhost:8080/"
        },
        "id": "HYeBRsZ_T5RF",
        "outputId": "10594bba-9f78-4fc1-a5d8-d1cde11c01c1"
      },
      "source": [
        "tensor = tf.Variable([[[10, 11, 12], [13, 15, 18]],[[10, 11, 12], [13, 15, 18]]])\n",
        "tensor"
      ],
      "execution_count": null,
      "outputs": [
        {
          "output_type": "execute_result",
          "data": {
            "text/plain": [
              "<tf.Variable 'Variable:0' shape=(2, 2, 3) dtype=int32, numpy=\n",
              "array([[[10, 11, 12],\n",
              "        [13, 15, 18]],\n",
              "\n",
              "       [[10, 11, 12],\n",
              "        [13, 15, 18]]], dtype=int32)>"
            ]
          },
          "metadata": {},
          "execution_count": 34
        }
      ]
    },
    {
      "cell_type": "code",
      "metadata": {
        "colab": {
          "base_uri": "https://localhost:8080/"
        },
        "id": "auyBdaSZWFe8",
        "outputId": "a14bab23-2c2f-4e9a-cf82-227d574268c2"
      },
      "source": [
        "tf.rank(tensor)"
      ],
      "execution_count": null,
      "outputs": [
        {
          "output_type": "execute_result",
          "data": {
            "text/plain": [
              "<tf.Tensor: shape=(), dtype=int32, numpy=3>"
            ]
          },
          "metadata": {},
          "execution_count": 38
        }
      ]
    },
    {
      "cell_type": "code",
      "metadata": {
        "colab": {
          "base_uri": "https://localhost:8080/"
        },
        "id": "8UcIrG41Uh3m",
        "outputId": "6aa997f9-59c7-4882-fd7d-a68bbc2378d0"
      },
      "source": [
        "reshape_val = tf.reshape(tensor, [2,6])\n",
        "reshape_val"
      ],
      "execution_count": null,
      "outputs": [
        {
          "output_type": "execute_result",
          "data": {
            "text/plain": [
              "<tf.Tensor: shape=(2, 6), dtype=int32, numpy=\n",
              "array([[10, 11, 12, 13, 15, 18],\n",
              "       [10, 11, 12, 13, 15, 18]], dtype=int32)>"
            ]
          },
          "metadata": {},
          "execution_count": 35
        }
      ]
    },
    {
      "cell_type": "code",
      "metadata": {
        "colab": {
          "base_uri": "https://localhost:8080/"
        },
        "id": "F9TGpC9cUyad",
        "outputId": "10e5e642-b56a-45d3-c0a7-78d7a1a96685"
      },
      "source": [
        "reshape_val = tf.reshape(tensor, [1,12])\n",
        "reshape_val"
      ],
      "execution_count": null,
      "outputs": [
        {
          "output_type": "execute_result",
          "data": {
            "text/plain": [
              "<tf.Tensor: shape=(1, 12), dtype=int32, numpy=array([[10, 11, 12, 13, 15, 18, 10, 11, 12, 13, 15, 18]], dtype=int32)>"
            ]
          },
          "metadata": {},
          "execution_count": 36
        }
      ]
    },
    {
      "cell_type": "markdown",
      "metadata": {
        "id": "ze74sSuEV4zg"
      },
      "source": [
        "## Rank of tensor\n",
        "\n",
        "no of dimensions, "
      ]
    },
    {
      "cell_type": "code",
      "metadata": {
        "colab": {
          "base_uri": "https://localhost:8080/"
        },
        "id": "umwn4X4BVrdo",
        "outputId": "ed2c6f0c-e82d-4ac3-f8f1-07f5f2f5fad9"
      },
      "source": [
        "tf.rank(reshape_val)"
      ],
      "execution_count": null,
      "outputs": [
        {
          "output_type": "execute_result",
          "data": {
            "text/plain": [
              "<tf.Tensor: shape=(), dtype=int32, numpy=2>"
            ]
          },
          "metadata": {},
          "execution_count": 37
        }
      ]
    },
    {
      "cell_type": "code",
      "metadata": {
        "colab": {
          "base_uri": "https://localhost:8080/"
        },
        "id": "nT9Sfj7iV3T0",
        "outputId": "b5e6001d-b3d1-48ae-e47b-87f63d9ab546"
      },
      "source": [
        "tensor"
      ],
      "execution_count": null,
      "outputs": [
        {
          "output_type": "execute_result",
          "data": {
            "text/plain": [
              "<tf.Variable 'Variable:0' shape=(2, 2, 3) dtype=int32, numpy=\n",
              "array([[[10, 11, 12],\n",
              "        [13, 15, 18]],\n",
              "\n",
              "       [[10, 11, 12],\n",
              "        [13, 15, 18]]], dtype=int32)>"
            ]
          },
          "metadata": {},
          "execution_count": 39
        }
      ]
    },
    {
      "cell_type": "code",
      "metadata": {
        "colab": {
          "base_uri": "https://localhost:8080/"
        },
        "id": "KQieVeadWVbW",
        "outputId": "d58611a8-c005-4e96-9825-ec719c288db2"
      },
      "source": [
        "tensor[0, 1, 1]"
      ],
      "execution_count": null,
      "outputs": [
        {
          "output_type": "execute_result",
          "data": {
            "text/plain": [
              "<tf.Tensor: shape=(), dtype=int32, numpy=15>"
            ]
          },
          "metadata": {},
          "execution_count": 41
        }
      ]
    },
    {
      "cell_type": "code",
      "metadata": {
        "colab": {
          "base_uri": "https://localhost:8080/"
        },
        "id": "e6mI2lhWWlMb",
        "outputId": "8bc18c1c-bea7-4a7b-c733-fdef5724fd4f"
      },
      "source": [
        "tensor[0,:,1:]"
      ],
      "execution_count": null,
      "outputs": [
        {
          "output_type": "execute_result",
          "data": {
            "text/plain": [
              "<tf.Tensor: shape=(2, 2), dtype=int32, numpy=\n",
              "array([[11, 12],\n",
              "       [15, 18]], dtype=int32)>"
            ]
          },
          "metadata": {},
          "execution_count": 44
        }
      ]
    },
    {
      "cell_type": "markdown",
      "metadata": {
        "id": "6ogOKRkNYz0q"
      },
      "source": [
        "## more mathematical operations"
      ]
    },
    {
      "cell_type": "code",
      "metadata": {
        "id": "T9qWodG8XF-J"
      },
      "source": [
        "a = tf.random.normal((2,2))\n",
        "b = tf.random.normal((2,2))\n",
        "\n",
        "\n",
        "c = a + b"
      ],
      "execution_count": null,
      "outputs": []
    },
    {
      "cell_type": "code",
      "metadata": {
        "colab": {
          "base_uri": "https://localhost:8080/"
        },
        "id": "by1Ro4U8Y9TM",
        "outputId": "4591b477-e81a-4a68-b2b7-4792775e3e7b"
      },
      "source": [
        "c"
      ],
      "execution_count": null,
      "outputs": [
        {
          "output_type": "execute_result",
          "data": {
            "text/plain": [
              "<tf.Tensor: shape=(2, 2), dtype=float32, numpy=\n",
              "array([[ 1.2585579 ,  2.3138201 ],\n",
              "       [-1.5514584 ,  0.21320283]], dtype=float32)>"
            ]
          },
          "metadata": {},
          "execution_count": 46
        }
      ]
    },
    {
      "cell_type": "code",
      "metadata": {
        "colab": {
          "base_uri": "https://localhost:8080/"
        },
        "id": "eCYHVLwIY9yF",
        "outputId": "9f915e01-584a-4d19-cefb-a75aa901b893"
      },
      "source": [
        "tf.square(c)"
      ],
      "execution_count": null,
      "outputs": [
        {
          "output_type": "execute_result",
          "data": {
            "text/plain": [
              "<tf.Tensor: shape=(2, 2), dtype=float32, numpy=\n",
              "array([[1.583968  , 5.3537636 ],\n",
              "       [2.407023  , 0.04545545]], dtype=float32)>"
            ]
          },
          "metadata": {},
          "execution_count": 47
        }
      ]
    },
    {
      "cell_type": "code",
      "metadata": {
        "colab": {
          "base_uri": "https://localhost:8080/"
        },
        "id": "9oV9SnvtZAil",
        "outputId": "fcf2781d-15dc-4ddc-d5c0-5562247ccc40"
      },
      "source": [
        "tf.exp(c)"
      ],
      "execution_count": null,
      "outputs": [
        {
          "output_type": "execute_result",
          "data": {
            "text/plain": [
              "<tf.Tensor: shape=(2, 2), dtype=float32, numpy=\n",
              "array([[ 3.5203412 , 10.112984  ],\n",
              "       [ 0.21193866,  1.2376357 ]], dtype=float32)>"
            ]
          },
          "metadata": {},
          "execution_count": 48
        }
      ]
    },
    {
      "cell_type": "code",
      "metadata": {
        "colab": {
          "base_uri": "https://localhost:8080/"
        },
        "id": "Q2ZFTm3XZGtm",
        "outputId": "a6960156-1789-4308-ee24-1532fa7f72ff"
      },
      "source": [
        "# Element wise multiplication - \n",
        "tensor"
      ],
      "execution_count": null,
      "outputs": [
        {
          "output_type": "execute_result",
          "data": {
            "text/plain": [
              "<tf.Variable 'Variable:0' shape=(2, 2, 3) dtype=int32, numpy=\n",
              "array([[[10, 11, 12],\n",
              "        [13, 15, 18]],\n",
              "\n",
              "       [[10, 11, 12],\n",
              "        [13, 15, 18]]], dtype=int32)>"
            ]
          },
          "metadata": {},
          "execution_count": 49
        }
      ]
    },
    {
      "cell_type": "code",
      "metadata": {
        "colab": {
          "base_uri": "https://localhost:8080/"
        },
        "id": "K82rPKLwZRGS",
        "outputId": "7ef969c6-f203-48ed-8413-122b7a6db0c8"
      },
      "source": [
        "tensor * tensor"
      ],
      "execution_count": null,
      "outputs": [
        {
          "output_type": "execute_result",
          "data": {
            "text/plain": [
              "<tf.Tensor: shape=(2, 2, 3), dtype=int32, numpy=\n",
              "array([[[100, 121, 144],\n",
              "        [169, 225, 324]],\n",
              "\n",
              "       [[100, 121, 144],\n",
              "        [169, 225, 324]]], dtype=int32)>"
            ]
          },
          "metadata": {},
          "execution_count": 50
        }
      ]
    },
    {
      "cell_type": "markdown",
      "metadata": {
        "id": "VclzS1uRZbrE"
      },
      "source": [
        "## Boradcasting in Tensorflow -\n"
      ]
    },
    {
      "cell_type": "code",
      "metadata": {
        "colab": {
          "base_uri": "https://localhost:8080/"
        },
        "id": "BRo-MawyZUw_",
        "outputId": "12f18332-3c98-45ed-9903-1c956180722f"
      },
      "source": [
        "scaler = 4\n",
        "scaler * tensor"
      ],
      "execution_count": null,
      "outputs": [
        {
          "output_type": "execute_result",
          "data": {
            "text/plain": [
              "<tf.Tensor: shape=(2, 2, 3), dtype=int32, numpy=\n",
              "array([[[40, 44, 48],\n",
              "        [52, 60, 72]],\n",
              "\n",
              "       [[40, 44, 48],\n",
              "        [52, 60, 72]]], dtype=int32)>"
            ]
          },
          "metadata": {},
          "execution_count": 52
        }
      ]
    },
    {
      "cell_type": "code",
      "metadata": {
        "colab": {
          "base_uri": "https://localhost:8080/"
        },
        "id": "8VF_6ZsIZlax",
        "outputId": "d931cd83-af50-4c57-ac88-90dda13d0eea"
      },
      "source": [
        "scaler + tensor"
      ],
      "execution_count": null,
      "outputs": [
        {
          "output_type": "execute_result",
          "data": {
            "text/plain": [
              "<tf.Tensor: shape=(2, 2, 3), dtype=int32, numpy=\n",
              "array([[[14, 15, 16],\n",
              "        [17, 19, 22]],\n",
              "\n",
              "       [[14, 15, 16],\n",
              "        [17, 19, 22]]], dtype=int32)>"
            ]
          },
          "metadata": {},
          "execution_count": 53
        }
      ]
    },
    {
      "cell_type": "code",
      "metadata": {
        "colab": {
          "base_uri": "https://localhost:8080/"
        },
        "id": "pCP1gM0lZwX5",
        "outputId": "09aa0106-60ad-4948-bf98-8aefd15e1c22"
      },
      "source": [
        "scaler - tensor\n"
      ],
      "execution_count": null,
      "outputs": [
        {
          "output_type": "execute_result",
          "data": {
            "text/plain": [
              "<tf.Tensor: shape=(2, 2, 3), dtype=int32, numpy=\n",
              "array([[[ -6,  -7,  -8],\n",
              "        [ -9, -11, -14]],\n",
              "\n",
              "       [[ -6,  -7,  -8],\n",
              "        [ -9, -11, -14]]], dtype=int32)>"
            ]
          },
          "metadata": {},
          "execution_count": 54
        }
      ]
    },
    {
      "cell_type": "markdown",
      "metadata": {
        "id": "0I05A0fxZ-ye"
      },
      "source": [
        "# Matrix multiplication"
      ]
    },
    {
      "cell_type": "code",
      "metadata": {
        "id": "3hxebwrFZ2lG"
      },
      "source": [
        "mat_u = tf.constant([[6,7,7]])\n",
        "mat_v = tf.constant([[3,4,3]])"
      ],
      "execution_count": null,
      "outputs": []
    },
    {
      "cell_type": "code",
      "metadata": {
        "colab": {
          "base_uri": "https://localhost:8080/"
        },
        "id": "iPAVKrsParx-",
        "outputId": "fa220475-0425-4a02-e4c0-c7cba2892123"
      },
      "source": [
        "mat_u.shape"
      ],
      "execution_count": null,
      "outputs": [
        {
          "output_type": "execute_result",
          "data": {
            "text/plain": [
              "TensorShape([1, 3])"
            ]
          },
          "metadata": {},
          "execution_count": 61
        }
      ]
    },
    {
      "cell_type": "code",
      "metadata": {
        "colab": {
          "base_uri": "https://localhost:8080/"
        },
        "id": "EgP3TdLGau51",
        "outputId": "e53fb75a-e292-46cb-cb5d-a1a0e4845ccc"
      },
      "source": [
        "mat_v.shape"
      ],
      "execution_count": null,
      "outputs": [
        {
          "output_type": "execute_result",
          "data": {
            "text/plain": [
              "TensorShape([1, 3])"
            ]
          },
          "metadata": {},
          "execution_count": 62
        }
      ]
    },
    {
      "cell_type": "code",
      "metadata": {
        "colab": {
          "base_uri": "https://localhost:8080/"
        },
        "id": "PR7m6J_TazXr",
        "outputId": "83d9d0e9-ff10-4965-da67-607d52469a82"
      },
      "source": [
        "tf.transpose(mat_v).shape"
      ],
      "execution_count": null,
      "outputs": [
        {
          "output_type": "execute_result",
          "data": {
            "text/plain": [
              "TensorShape([3, 1])"
            ]
          },
          "metadata": {},
          "execution_count": 64
        }
      ]
    },
    {
      "cell_type": "code",
      "metadata": {
        "colab": {
          "base_uri": "https://localhost:8080/"
        },
        "id": "TI-xyyUOa51a",
        "outputId": "c1d33818-7484-4492-d280-e0dae52dc2ba"
      },
      "source": [
        "mat_u.numpy()"
      ],
      "execution_count": null,
      "outputs": [
        {
          "output_type": "execute_result",
          "data": {
            "text/plain": [
              "array([[6, 7, 7]], dtype=int32)"
            ]
          },
          "metadata": {},
          "execution_count": 66
        }
      ]
    },
    {
      "cell_type": "code",
      "metadata": {
        "colab": {
          "base_uri": "https://localhost:8080/"
        },
        "id": "pWMjypbrbB03",
        "outputId": "5bf35ec5-1c3c-4e03-b208-fc96da2c92a7"
      },
      "source": [
        "tf.transpose(mat_v).numpy()"
      ],
      "execution_count": null,
      "outputs": [
        {
          "output_type": "execute_result",
          "data": {
            "text/plain": [
              "array([[3],\n",
              "       [4],\n",
              "       [3]], dtype=int32)"
            ]
          },
          "metadata": {},
          "execution_count": 67
        }
      ]
    },
    {
      "cell_type": "code",
      "metadata": {
        "colab": {
          "base_uri": "https://localhost:8080/"
        },
        "id": "uRIIIUDVaZFf",
        "outputId": "75326a23-209d-410d-f8b1-ef0a65dee19f"
      },
      "source": [
        "tf.matmul(mat_u, tf.transpose(mat_v))"
      ],
      "execution_count": null,
      "outputs": [
        {
          "output_type": "execute_result",
          "data": {
            "text/plain": [
              "<tf.Tensor: shape=(1, 1), dtype=int32, numpy=array([[67]], dtype=int32)>"
            ]
          },
          "metadata": {},
          "execution_count": 59
        }
      ]
    },
    {
      "cell_type": "code",
      "metadata": {
        "colab": {
          "base_uri": "https://localhost:8080/"
        },
        "id": "FGf4WnLabEv-",
        "outputId": "c0656185-78a4-42d2-c007-dc95580e67b5"
      },
      "source": [
        "tf.matmul(tf.transpose(mat_v), mat_u)"
      ],
      "execution_count": null,
      "outputs": [
        {
          "output_type": "execute_result",
          "data": {
            "text/plain": [
              "<tf.Tensor: shape=(3, 3), dtype=int32, numpy=\n",
              "array([[18, 21, 21],\n",
              "       [24, 28, 28],\n",
              "       [18, 21, 21]], dtype=int32)>"
            ]
          },
          "metadata": {},
          "execution_count": 68
        }
      ]
    },
    {
      "cell_type": "code",
      "metadata": {
        "colab": {
          "base_uri": "https://localhost:8080/"
        },
        "id": "r1jPwTrKcPXW",
        "outputId": "3a9e1b91-aeb9-4754-9cfc-421ad65f4090"
      },
      "source": [
        "tf.transpose(mat_v) @ mat_u ### <<< Matrix mul"
      ],
      "execution_count": null,
      "outputs": [
        {
          "output_type": "execute_result",
          "data": {
            "text/plain": [
              "<tf.Tensor: shape=(3, 3), dtype=int32, numpy=\n",
              "array([[18, 21, 21],\n",
              "       [24, 28, 28],\n",
              "       [18, 21, 21]], dtype=int32)>"
            ]
          },
          "metadata": {},
          "execution_count": 70
        }
      ]
    },
    {
      "cell_type": "code",
      "metadata": {
        "colab": {
          "base_uri": "https://localhost:8080/"
        },
        "id": "e3GgqxqlcYD7",
        "outputId": "e8c6e454-2f6a-4b27-be0b-af633c3fbc2d"
      },
      "source": [
        "mat_u @ tf.transpose(mat_v) ### <<< Matrix mul\n"
      ],
      "execution_count": null,
      "outputs": [
        {
          "output_type": "execute_result",
          "data": {
            "text/plain": [
              "<tf.Tensor: shape=(1, 1), dtype=int32, numpy=array([[67]], dtype=int32)>"
            ]
          },
          "metadata": {},
          "execution_count": 71
        }
      ]
    },
    {
      "cell_type": "code",
      "metadata": {
        "colab": {
          "base_uri": "https://localhost:8080/"
        },
        "id": "-mIiCWb7aPn2",
        "outputId": "26dcf39a-e774-409a-97c3-569f0041a797"
      },
      "source": [
        "mat_u * mat_v # element wise multiplication"
      ],
      "execution_count": null,
      "outputs": [
        {
          "output_type": "execute_result",
          "data": {
            "text/plain": [
              "<tf.Tensor: shape=(1, 3), dtype=int32, numpy=array([[18, 28, 21]], dtype=int32)>"
            ]
          },
          "metadata": {},
          "execution_count": 57
        }
      ]
    },
    {
      "cell_type": "markdown",
      "metadata": {
        "id": "Y8L7A0cBcix1"
      },
      "source": [
        "## Casting method in tensorflow to change the datatype"
      ]
    },
    {
      "cell_type": "code",
      "metadata": {
        "colab": {
          "base_uri": "https://localhost:8080/"
        },
        "id": "6BfW8hHOciHF",
        "outputId": "76921b08-e4a4-4036-bff5-8a0b3063a0ca"
      },
      "source": [
        "tf.cast(mat_u, dtype=tf.int16) ### < can be utilized in quantization"
      ],
      "execution_count": null,
      "outputs": [
        {
          "output_type": "execute_result",
          "data": {
            "text/plain": [
              "<tf.Tensor: shape=(1, 3), dtype=int16, numpy=array([[6, 7, 7]], dtype=int16)>"
            ]
          },
          "metadata": {},
          "execution_count": 75
        }
      ]
    },
    {
      "cell_type": "code",
      "metadata": {
        "colab": {
          "base_uri": "https://localhost:8080/"
        },
        "id": "XwdMAHu4aUlx",
        "outputId": "4b4eac9f-66af-411f-f841-2c4e33190997"
      },
      "source": [
        "tf.cast(tf.constant(444.1324), dtype=tf.int32)"
      ],
      "execution_count": null,
      "outputs": [
        {
          "output_type": "execute_result",
          "data": {
            "text/plain": [
              "<tf.Tensor: shape=(), dtype=int32, numpy=444>"
            ]
          },
          "metadata": {},
          "execution_count": 76
        }
      ]
    },
    {
      "cell_type": "markdown",
      "metadata": {
        "id": "HmciIV0UfnUL"
      },
      "source": [
        "## Ragged tensors\n",
        "nested variable length arrays"
      ]
    },
    {
      "cell_type": "code",
      "metadata": {
        "id": "jmwrO7k5fmz1"
      },
      "source": [
        "ragged = tf.ragged.constant([[1,2,3,4,5], [], [1,2,3]])"
      ],
      "execution_count": null,
      "outputs": []
    },
    {
      "cell_type": "code",
      "metadata": {
        "id": "wB0U78ulgd-h"
      },
      "source": [
        "# ragged = tf.constant([[1,2,3,4,5], [], [1,2,3]])\n"
      ],
      "execution_count": null,
      "outputs": []
    },
    {
      "cell_type": "code",
      "metadata": {
        "colab": {
          "base_uri": "https://localhost:8080/"
        },
        "id": "PCYON0qxfh64",
        "outputId": "e78d5e1e-bb30-4d90-81c2-620cf9aeb66d"
      },
      "source": [
        "ragged.shape"
      ],
      "execution_count": null,
      "outputs": [
        {
          "output_type": "execute_result",
          "data": {
            "text/plain": [
              "TensorShape([3, None])"
            ]
          },
          "metadata": {},
          "execution_count": 80
        }
      ]
    },
    {
      "cell_type": "code",
      "metadata": {
        "colab": {
          "base_uri": "https://localhost:8080/"
        },
        "id": "dLVKk3MmgoEQ",
        "outputId": "67e78b32-2c84-4b2f-d81a-ee8c31be3912"
      },
      "source": [
        "ragged[0, :].shape"
      ],
      "execution_count": null,
      "outputs": [
        {
          "output_type": "execute_result",
          "data": {
            "text/plain": [
              "TensorShape([5])"
            ]
          },
          "metadata": {},
          "execution_count": 82
        }
      ]
    },
    {
      "cell_type": "code",
      "metadata": {
        "colab": {
          "base_uri": "https://localhost:8080/"
        },
        "id": "t3dnyuy_gvZA",
        "outputId": "ee2f3e46-f162-4a64-b83b-3b0b57d65da5"
      },
      "source": [
        "ragged[1, :].shape\n"
      ],
      "execution_count": null,
      "outputs": [
        {
          "output_type": "execute_result",
          "data": {
            "text/plain": [
              "TensorShape([0])"
            ]
          },
          "metadata": {},
          "execution_count": 83
        }
      ]
    },
    {
      "cell_type": "code",
      "metadata": {
        "colab": {
          "base_uri": "https://localhost:8080/"
        },
        "id": "x3s0J4JAg4gy",
        "outputId": "0919111f-397c-4248-e08a-c4810a8f0206"
      },
      "source": [
        "ragged[2, :].shape\n"
      ],
      "execution_count": null,
      "outputs": [
        {
          "output_type": "execute_result",
          "data": {
            "text/plain": [
              "TensorShape([3])"
            ]
          },
          "metadata": {},
          "execution_count": 84
        }
      ]
    },
    {
      "cell_type": "markdown",
      "metadata": {
        "id": "1NDkffkVhMSx"
      },
      "source": [
        "## Squared difference of tensors"
      ]
    },
    {
      "cell_type": "code",
      "metadata": {
        "colab": {
          "base_uri": "https://localhost:8080/"
        },
        "id": "qa8U0PGChLIS",
        "outputId": "9c653ebd-08d0-4105-ba06-5b28360222dc"
      },
      "source": [
        "varx = [1,2,3,4,5,6]\n",
        "vary = 2\n",
        "\n",
        "tf.math.squared_difference(varx, vary)"
      ],
      "execution_count": null,
      "outputs": [
        {
          "output_type": "execute_result",
          "data": {
            "text/plain": [
              "<tf.Tensor: shape=(6,), dtype=int32, numpy=array([ 1,  0,  1,  4,  9, 16], dtype=int32)>"
            ]
          },
          "metadata": {},
          "execution_count": 85
        }
      ]
    },
    {
      "cell_type": "code",
      "metadata": {
        "colab": {
          "base_uri": "https://localhost:8080/"
        },
        "id": "Oe4LK7Bag7vT",
        "outputId": "7cbd3988-4180-4936-9670-2482e1066e96"
      },
      "source": [
        "pred = [1,2,3,4,5,6]\n",
        "actual = [1,1,1,1,1,1]\n",
        "\n",
        "tf.math.squared_difference(pred, actual)"
      ],
      "execution_count": null,
      "outputs": [
        {
          "output_type": "execute_result",
          "data": {
            "text/plain": [
              "<tf.Tensor: shape=(6,), dtype=int32, numpy=array([ 0,  1,  4,  9, 16, 25], dtype=int32)>"
            ]
          },
          "metadata": {},
          "execution_count": 86
        }
      ]
    },
    {
      "cell_type": "markdown",
      "metadata": {
        "id": "MVi-JFFch5OS"
      },
      "source": [
        "## calculate mean"
      ]
    },
    {
      "cell_type": "code",
      "metadata": {
        "colab": {
          "base_uri": "https://localhost:8080/"
        },
        "id": "-Hv1npO2hzVS",
        "outputId": "0d7f34e8-d2a1-4ec3-9f2e-3bf22f2d2685"
      },
      "source": [
        "num = tf.constant([[1,2],[3,4]], dtype=tf.float32)\n",
        "num"
      ],
      "execution_count": null,
      "outputs": [
        {
          "output_type": "execute_result",
          "data": {
            "text/plain": [
              "<tf.Tensor: shape=(2, 2), dtype=float32, numpy=\n",
              "array([[1., 2.],\n",
              "       [3., 4.]], dtype=float32)>"
            ]
          },
          "metadata": {},
          "execution_count": 104
        }
      ]
    },
    {
      "cell_type": "code",
      "metadata": {
        "colab": {
          "base_uri": "https://localhost:8080/"
        },
        "id": "1_ke7g9HiDOp",
        "outputId": "42ca0707-fd25-4393-c6aa-0c6c2e6de280"
      },
      "source": [
        "tf.reduce_mean(num)"
      ],
      "execution_count": null,
      "outputs": [
        {
          "output_type": "execute_result",
          "data": {
            "text/plain": [
              "<tf.Tensor: shape=(), dtype=float32, numpy=2.5>"
            ]
          },
          "metadata": {},
          "execution_count": 105
        }
      ]
    },
    {
      "cell_type": "code",
      "metadata": {
        "colab": {
          "base_uri": "https://localhost:8080/"
        },
        "id": "GHGP4WY6iNFc",
        "outputId": "070d2d90-6544-4edf-fe5e-ca7ef8d4cf54"
      },
      "source": [
        "tf.reduce_mean(num, axis=0) # row wise mean"
      ],
      "execution_count": null,
      "outputs": [
        {
          "output_type": "execute_result",
          "data": {
            "text/plain": [
              "<tf.Tensor: shape=(2,), dtype=float32, numpy=array([2., 3.], dtype=float32)>"
            ]
          },
          "metadata": {},
          "execution_count": 106
        }
      ]
    },
    {
      "cell_type": "code",
      "metadata": {
        "colab": {
          "base_uri": "https://localhost:8080/"
        },
        "id": "QK_-aZm7iT26",
        "outputId": "d6e1db74-c4ae-4fa8-c825-f00bda2f4902"
      },
      "source": [
        "tf.reduce_mean(num, axis=1) # col wise mean"
      ],
      "execution_count": null,
      "outputs": [
        {
          "output_type": "execute_result",
          "data": {
            "text/plain": [
              "<tf.Tensor: shape=(2,), dtype=float32, numpy=array([1.5, 3.5], dtype=float32)>"
            ]
          },
          "metadata": {},
          "execution_count": 107
        }
      ]
    },
    {
      "cell_type": "code",
      "metadata": {
        "colab": {
          "base_uri": "https://localhost:8080/"
        },
        "id": "8xH-kHRZigSz",
        "outputId": "bb71b5f3-3411-4f76-b401-3c18b7958e7d"
      },
      "source": [
        "tf.reduce_mean(num, axis=1, keepdims=True) # col wise mean"
      ],
      "execution_count": null,
      "outputs": [
        {
          "output_type": "execute_result",
          "data": {
            "text/plain": [
              "<tf.Tensor: shape=(2, 1), dtype=float32, numpy=\n",
              "array([[1.5],\n",
              "       [3.5]], dtype=float32)>"
            ]
          },
          "metadata": {},
          "execution_count": 108
        }
      ]
    },
    {
      "cell_type": "code",
      "metadata": {
        "id": "QmL4ko-jjGp0"
      },
      "source": [],
      "execution_count": null,
      "outputs": []
    }
  ]
}