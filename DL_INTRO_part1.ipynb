{
  "nbformat": 4,
  "nbformat_minor": 0,
  "metadata": {
    "colab": {
      "provenance": []
    },
    "kernelspec": {
      "display_name": "Python 3 (ipykernel)",
      "language": "python",
      "name": "python3"
    },
    "language_info": {
      "codemirror_mode": {
        "name": "ipython",
        "version": 3
      },
      "file_extension": ".py",
      "mimetype": "text/x-python",
      "name": "python",
      "nbconvert_exporter": "python",
      "pygments_lexer": "ipython3",
      "version": "3.7.11"
    }
  },
  "cells": [
    {
      "cell_type": "code",
      "metadata": {
        "id": "DedBc-YxTjhd",
        "colab": {
          "base_uri": "https://localhost:8080/"
        },
        "outputId": "f6151a5b-5008-4568-bd41-02a763351df9"
      },
      "source": [
        "try:\n",
        "    from HTMLrenderer.render import render_HTML, render_site, render_YouTube_video\n",
        "except:\n",
        "    print(\"required package not found installing fresh\")\n",
        "    !pip install HTMLrenderer==0.0.8 -q\n",
        "    from HTMLrenderer.render import render_HTML, render_site, render_YouTube_video"
      ],
      "execution_count": 1,
      "outputs": [
        {
          "output_type": "stream",
          "name": "stdout",
          "text": [
            "required package not found installing fresh\n",
            "\u001b[2K     \u001b[90m━━━━━━━━━━━━━━━━━━━━━━━━━━━━━━━━━━━━━━━━\u001b[0m \u001b[32m1.6/1.6 MB\u001b[0m \u001b[31m25.2 MB/s\u001b[0m eta \u001b[36m0:00:00\u001b[0m\n",
            "\u001b[?25h"
          ]
        }
      ]
    },
    {
      "cell_type": "markdown",
      "metadata": {
        "id": "bR9ui5zzGyRD"
      },
      "source": [
        "# Deep learning"
      ]
    },
    {
      "cell_type": "markdown",
      "metadata": {
        "id": "aCFzLz5AGyRJ"
      },
      "source": [
        "## Introduction"
      ]
    },
    {
      "cell_type": "markdown",
      "metadata": {
        "id": "Z7WXbIvYGyRJ"
      },
      "source": [
        "* To understand what deep learning is, we first need to understand the relationship deep learning has with machine learning, neural networks, and artificial intelligence. The best way to think of this relationship is to visualize them as concentric circles:\n",
        "\n",
        "<!-- [image source](https://www.safaribooksonline.com/library/view/deep-learning/9781491924570/assets/dpln_0101.png) -->\n",
        "\n",
        "<!-- <img src=\"https://www.safaribooksonline.com/library/view/deep-learning/9781491924570/assets/dpln_0101.png\" width=50%> -->\n",
        "\n",
        "[REFER THIS](https://whimsical.com/ai-5XjNpJReMzRgPzMYF8CvqT)\n",
        "\n",
        "* At the outer most ring you have artificial intelligence (using computers to reason). One layer inside of that is machine learning. With artificial neural networks and deep learning at the center.\n",
        "\n",
        "* *Broadly speaking, deep learning is a more approachable name for an artificial neural network. The “deep” in deep learning refers to the depth of the network. An artificial neural network can be very shallow.*"
      ]
    },
    {
      "cell_type": "markdown",
      "metadata": {
        "id": "ZUZhgN-TGyRK"
      },
      "source": [
        "* Neural networks are inspired by the structure of the cerebral cortex. At the basic level is the perceptron, the mathematical representation of a biological neuron. Like in the cerebral cortex, there can be several layers of interconnected perceptrons.\n",
        "\n",
        "* Machine learning is considered a branch or approach of Artificial intelligence, whereas deep learning is a specialized type of machine learning."
      ]
    },
    {
      "cell_type": "markdown",
      "metadata": {
        "id": "l0jQcMaiGyRK"
      },
      "source": [
        "## Why Deep Learning is Important?\n",
        "\n",
        "[image source](https://image.slidesharecdn.com/andrew-ng-extract-oct2015-nonotes-151124104249-lva1-app6891/95/andrew-ng-chief-scientist-at-baidu-30-638.jpg?cb=1448361887)\n",
        "\n",
        "<img src=\"https://image.slidesharecdn.com/andrew-ng-extract-oct2015-nonotes-151124104249-lva1-app6891/95/andrew-ng-chief-scientist-at-baidu-30-638.jpg?cb=1448361887\">\n",
        "\n",
        "* Computers have long had techniques for recognizing features inside of images. The results weren’t always great. **Computer vision** has been a main beneficiary of deep learning. Computer vision using deep learning now rivals humans on many image recognition tasks.\n",
        "\n",
        "* **Facebook** has had great success with **identifying faces** in photographs by using deep learning. It’s not just a marginal improvement, but a game changer: “Asked whether two unfamiliar photos of faces show the same person, a human being will get it right 97.53 percent of the time. New software developed by researchers at Facebook can score 97.25 percent on the same challenge, regardless of variations in lighting or whether the person in the picture is directly facing the camera.”\n",
        "\n",
        "* **Speech recognition** is a another area that’s felt deep learning’s impact. Spoken languages are so vast and ambiguous. Baidu – one of the leading search engines of China – has developed a voice recognition system that is faster and more accurate than humans at producing text on a mobile phone. In both English and Mandarin.\n",
        "\n",
        "* What is particularly fascinating, is that generalizing the two languages didn’t require much additional design effort: “Historically, people viewed Chinese and English as two vastly different languages, and so there was a need to design very different features,” Andrew Ng says, chief scientist at Baidu. “The learning algorithms are now so general that you can just learn.”\n",
        "\n",
        "* **Google** is now using deep learning to **manage the energy** at the company’s data centers. They’ve cut their energy needs for cooling by 40%. That translates to about a 15% improvement in power usage efficiency for the company and hundreds of millions of dollars in savings."
      ]
    },
    {
      "cell_type": "markdown",
      "metadata": {
        "id": "-fqUXBJOTjhl"
      },
      "source": [
        "# Why you should study Deep Learning? (Motivation)\n",
        "\n",
        "## Real world examples - "
      ]
    },
    {
      "cell_type": "code",
      "metadata": {
        "scrolled": false,
        "colab": {
          "base_uri": "https://localhost:8080/",
          "height": 691
        },
        "id": "t5cLNPwpTjhm",
        "outputId": "3a5ba9c9-c4cc-4599-a15a-39ba95084023"
      },
      "source": [
        "neuralink=\"https://neuralink.com/\"\n",
        "render_site(neuralink) # invasive"
      ],
      "execution_count": 4,
      "outputs": [
        {
          "output_type": "display_data",
          "data": {
            "text/plain": [
              "<IPython.lib.display.IFrame at 0x7f5cd79c9460>"
            ],
            "text/html": [
              "\n",
              "        <iframe\n",
              "            width=\"100%\"\n",
              "            height=\"600\"\n",
              "            src=\"https://neuralink.com/\"\n",
              "            frameborder=\"0\"\n",
              "            allowfullscreen\n",
              "        ></iframe>\n",
              "        "
            ]
          },
          "metadata": {}
        },
        {
          "output_type": "stream",
          "name": "stdout",
          "text": [
            "\n",
            "\n",
            "\n",
            "\n"
          ]
        }
      ]
    },
    {
      "cell_type": "code",
      "metadata": {
        "scrolled": false,
        "colab": {
          "base_uri": "https://localhost:8080/",
          "height": 691
        },
        "id": "upQbXTA0Tjho",
        "outputId": "3e1ea074-863c-419d-f4eb-28779dddffb7"
      },
      "source": [
        "OpenBCI = \"https://openbci.com/\" \n",
        "render_site(OpenBCI) # non invasive tech"
      ],
      "execution_count": 5,
      "outputs": [
        {
          "output_type": "display_data",
          "data": {
            "text/plain": [
              "<IPython.lib.display.IFrame at 0x7f5cd6b849d0>"
            ],
            "text/html": [
              "\n",
              "        <iframe\n",
              "            width=\"100%\"\n",
              "            height=\"600\"\n",
              "            src=\"https://openbci.com/\"\n",
              "            frameborder=\"0\"\n",
              "            allowfullscreen\n",
              "        ></iframe>\n",
              "        "
            ]
          },
          "metadata": {}
        },
        {
          "output_type": "stream",
          "name": "stdout",
          "text": [
            "\n",
            "\n",
            "\n",
            "\n"
          ]
        }
      ]
    },
    {
      "cell_type": "code",
      "metadata": {
        "colab": {
          "base_uri": "https://localhost:8080/",
          "height": 691
        },
        "id": "WCAVg2e_Tjhp",
        "outputId": "8bb4b98e-fc4c-417d-add3-8a6fd6eb32f1"
      },
      "source": [
        "NVIDIA_BLOG = \"https://blogs.nvidia.com/blog/category/deep-learning/\"\n",
        "render_site(NVIDIA_BLOG)"
      ],
      "execution_count": 6,
      "outputs": [
        {
          "output_type": "display_data",
          "data": {
            "text/plain": [
              "<IPython.lib.display.IFrame at 0x7f5cd6b845b0>"
            ],
            "text/html": [
              "\n",
              "        <iframe\n",
              "            width=\"100%\"\n",
              "            height=\"600\"\n",
              "            src=\"https://blogs.nvidia.com/blog/category/deep-learning/\"\n",
              "            frameborder=\"0\"\n",
              "            allowfullscreen\n",
              "        ></iframe>\n",
              "        "
            ]
          },
          "metadata": {}
        },
        {
          "output_type": "stream",
          "name": "stdout",
          "text": [
            "\n",
            "\n",
            "\n",
            "\n"
          ]
        }
      ]
    },
    {
      "cell_type": "code",
      "metadata": {
        "colab": {
          "base_uri": "https://localhost:8080/",
          "height": 376
        },
        "id": "338tbRnDTjhq",
        "outputId": "cd8cfe38-0cf7-4210-ecab-32f60d0a00d9"
      },
      "source": [
        "NVIDIA_BORADCAST = \"https://youtu.be/qblSdDZMmi0\"\n",
        "render_YouTube_video(NVIDIA_BORADCAST, width=\"640\", height=\"320\")"
      ],
      "execution_count": 7,
      "outputs": [
        {
          "output_type": "stream",
          "name": "stderr",
          "text": [
            "/usr/local/lib/python3.9/dist-packages/IPython/core/display.py:701: UserWarning: Consider using IPython.display.IFrame instead\n",
            "  warnings.warn(\"Consider using IPython.display.IFrame instead\")\n"
          ]
        },
        {
          "output_type": "display_data",
          "data": {
            "text/plain": [
              "<IPython.core.display.HTML object>"
            ],
            "text/html": [
              "<iframe \n",
              "            width=\"640\" height=\"320\" \n",
              "            src=\"https://www.youtube.com/embed/qblSdDZMmi0\" \n",
              "            title=\"YouTube video player\" \n",
              "            frameborder=\"0\" \n",
              "            allow=\"accelerometer; \n",
              "            autoplay; clipboard-write; \n",
              "            encrypted-media; gyroscope; \n",
              "            picture-in-picture\" allowfullscreen>\n",
              "            </iframe>"
            ]
          },
          "metadata": {}
        }
      ]
    },
    {
      "cell_type": "markdown",
      "metadata": {
        "id": "-nVDyDxKGyRL"
      },
      "source": [
        "## ANN: Artificial Neural Networks\n",
        "\n",
        "* ANNs are inspired by biological neurons found in cerebral cortex of our brain. \n",
        "> `The cerebral cortex (plural cortices), also known as the cerebral mantle, is the outer layer of neural tissue of the cerebrum of the brain in humans and other mammals. - WikiPedia`\n",
        "\n",
        "    [image source](https://upload.wikimedia.org/wikipedia/commons/8/88/NeuronGolgi.png)\n",
        "\n",
        "    <img src=\"https://upload.wikimedia.org/wikipedia/commons/8/88/NeuronGolgi.png\" width=50%>\n",
        "    \n",
        "    [image source](https://upload.wikimedia.org/wikipedia/commons/thumb/d/d2/Blausen_0102_Brain_Motor%26Sensory.png/1024px-Blausen_0102_Brain_Motor%26Sensory.png)\n",
        "    <img src=\"https://upload.wikimedia.org/wikipedia/commons/thumb/d/d2/Blausen_0102_Brain_Motor%26Sensory.png/1024px-Blausen_0102_Brain_Motor%26Sensory.png\" width=70%>\n",
        "    \n",
        "    > read more about cerebral cortex at [this link](https://simple.wikipedia.org/wiki/Cerebral_cortex)\n",
        "    \n",
        "    >[NCERT reference](https://ncert.nic.in/ncerts/l/kebo121.pdf)\n",
        "    \n",
        "\n",
        "* ANNs are **core of deep learning**. Hence one of the most important topic to understand.\n",
        "\n",
        "* ANNs are **versatile, scalable and powerfull**. Thus it can tackle highly complex ML tasks like classifying images, identying object, speech recognition etc."
      ]
    },
    {
      "cell_type": "markdown",
      "metadata": {
        "id": "WQqbN4rhGyRM"
      },
      "source": [
        "### Biological Neuron\n",
        "\n",
        "[Image source](https://upload.wikimedia.org/wikipedia/commons/thumb/1/10/Blausen_0657_MultipolarNeuron.png/1920px-Blausen_0657_MultipolarNeuron.png)\n",
        "\n",
        "<img src=\"https://upload.wikimedia.org/wikipedia/commons/thumb/1/10/Blausen_0657_MultipolarNeuron.png/1920px-Blausen_0657_MultipolarNeuron.png\" width=70%>\n",
        "\n",
        "* Biological Neuron produce short electrical impulses known as `action potentials` which travels through axons to the synapses which releases chemical signals i.e `neurotransmitters`.\n",
        "\n",
        "* When a connected neuron recieves a sufficient amount of these neurotransmitters within a few milliseconds, it fires ( or does not fires, think of a NOT gate here) its own action potential or elctrical impulse.\n",
        "\n",
        "* These simple units form a strong network known as Biological Neural Network (BNN) to perform very complex computation task."
      ]
    },
    {
      "cell_type": "markdown",
      "metadata": {
        "id": "0DH1e7ExGyRN"
      },
      "source": [
        "### The first artificial neuron\n",
        "\n",
        "* It was in year 1943, Artificial neuron was introduced by-\n",
        "    * Neurophysiologist Warren McCulloh and\n",
        "    * Mathematician Walter Pitts\n",
        "    \n",
        "* They have published their work in `McCulloch, W.S., Pitts, W. A logical calculus of the ideas immanent in nervous activity. Bulletin of Mathematical Biophysics 5, 115–133 (1943). https://doi.org/10.1007/BF02478259`. read full paper at [this link](https://www.cs.cmu.edu/~./epxing/Class/10715/reading/McCulloch.and.Pitts.pdf)\n",
        "\n",
        "* They have shown that these simple neurons can perform small logical operation like OR, NOT, AND gate etc.\n",
        "\n",
        "* Following figure represents these ANs which can perform (a) Buffer, (b) OR, (c) AND and (d) A-B operation\n",
        "\n",
        "    [image source](https://www.cs.cmu.edu/~./epxing/Class/10715/reading/McCulloch.and.Pitts.pdf)\n",
        "\n",
        "![image.png](data:image/png;base64,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)\n",
        "\n",
        "* These neuron only fires when they get two active inputs."
      ]
    },
    {
      "cell_type": "markdown",
      "metadata": {
        "id": "ljxDwGKrGyRN"
      },
      "source": [
        "### The Perceptron\n",
        "\n",
        "* Its the simplest ANN architecture. It was invented by Frank Rosenblatt in 1957 and published as `Rosenblatt, Frank (1958), The Perceptron: A Probabilistic Model for Information Storage and Organization in the Brain, Cornell Aeronautical Laboratory, Psychological Review, v65, No. 6, pp. 386–408. doi:10.1037/h0042519`\n",
        "* It has different architecture then the first neuron that we have seen above. Its known as threshold logic unit(TLU) or linear threshold unit (LTU).\n",
        "* Here inputs are not just binary. \n",
        "* Lets see the architecture shown below - \n",
        "    \n",
        "    <a title=\"Chrislb / CC BY-SA (http://creativecommons.org/licenses/by-sa/3.0/)\" href=\"https://commons.wikimedia.org/wiki/File:ArtificialNeuronModel_english.png\"><img width=\"1024\" alt=\"ArtificialNeuronModel english\" src=\"https://upload.wikimedia.org/wikipedia/commons/thumb/6/60/ArtificialNeuronModel_english.png/1024px-ArtificialNeuronModel_english.png\"></a>"
      ]
    },
    {
      "cell_type": "markdown",
      "metadata": {
        "id": "HCv7jtm1GyRO"
      },
      "source": [
        "* Common activation functions used for Perceptrons are (with threshold at 0)- \n",
        "\n",
        "$$step(z)\\ or\\ heaviside(z) = \\left\\{\\begin{matrix}\n",
        "0 & z<0\\\\ \n",
        "1 & z\\geq 0\n",
        "\\end{matrix}\\right.$$\n",
        "                         "
      ]
    },
    {
      "cell_type": "code",
      "metadata": {
        "colab": {
          "base_uri": "https://localhost:8080/",
          "height": 304
        },
        "id": "-ro13YXZGyRO",
        "outputId": "c7373ba2-1f47-42b7-923a-52be4c8f0bbd"
      },
      "source": [
        "import numpy as np\n",
        "import matplotlib.pyplot as plt\n",
        "plt.style.use(\"fivethirtyeight\")\n",
        "\n",
        "x_axis = np.linspace(-2,2,200)\n",
        "step = np.where(x_axis < 0, 0, 1)\n",
        "\n",
        "plt.plot(x_axis, step)\n",
        "plt.xlabel(\"x_axis\")\n",
        "plt.ylabel(r\"$step(z)$\")\n",
        "plt.axhline(0, color='k', lw=1);\n",
        "plt.axvline(0, color='k', lw=1);"
      ],
      "execution_count": 8,
      "outputs": [
        {
          "output_type": "display_data",
          "data": {
            "text/plain": [
              "<Figure size 432x288 with 1 Axes>"
            ],
            "image/png": "[encoded data removed]"
          },
          "metadata": {}
        }
      ]
    },
    {
      "cell_type": "markdown",
      "metadata": {
        "id": "jQWlVTuoGyRP"
      },
      "source": [
        "* $$sgn(z) = \\left\\{\\begin{matrix}\n",
        "  -1 & z < 0 \\\\ \n",
        "  0 & z = 0 \\\\\n",
        "  1 & z > 0                                \n",
        "  \\end{matrix}\\right.$$"
      ]
    },
    {
      "cell_type": "code",
      "metadata": {
        "colab": {
          "base_uri": "https://localhost:8080/",
          "height": 304
        },
        "id": "CYmYCfAFGyRP",
        "outputId": "e2bd8e5c-6038-47b0-8333-1b5b684ece3e"
      },
      "source": [
        "def sgn(x):\n",
        "    if x < 0:\n",
        "        return -1\n",
        "    elif x > 0:\n",
        "        return 1\n",
        "    return 0\n",
        "\n",
        "sgn = np.array(list(map(sgn, x_axis)))\n",
        "\n",
        "plt.plot(x_axis, sgn)\n",
        "plt.xlabel(\"x_axis\")\n",
        "plt.ylabel(r\"$sgn(z)$\")\n",
        "plt.axhline(0, color='k', lw=1);\n",
        "plt.axvline(0, color='k', lw=1);"
      ],
      "execution_count": 9,
      "outputs": [
        {
          "output_type": "display_data",
          "data": {
            "text/plain": [
              "<Figure size 432x288 with 1 Axes>"
            ],
            "image/png": "[encoded data removed]"
          },
          "metadata": {}
        }
      ]
    },
    {
      "cell_type": "markdown",
      "metadata": {
        "id": "CbrF9M3_GyRQ"
      },
      "source": [
        "* These activation function are **anologous to firing of neurotransmitter** at a specific threshold\n",
        "* Perceptron learning Rule: \n",
        "$$w_{i,j} \\leftarrow w_{i,j} + \\eta(y_j - \\hat{y_j})x_i$$\n",
        "where,\n",
        "  * $w_{i,j}$ : connection weight between $i^{th}$ input neuron and $j^{th}$ output neuron\n",
        "  * $x_i$ : $i^{th}$ input value.\n",
        "  * $\\hat{y_j}$ : output of $j^{th}$ output neuron\n",
        "  * $y_j$ : target output of $j^{th}$ output neuron\n",
        "  * $\\eta$ : learning rate\n",
        "    \n",
        "* It can also be written as for jth element of w vector \n",
        "    $$w_j = w_j + \\triangle w_j$$\n",
        "    $$where,\\ \\triangle w_j =  \\eta(y^{(i)} - \\hat{y_j}^{(i)})x_j^{(i)}$$"
      ]
    },
    {
      "cell_type": "markdown",
      "metadata": {
        "id": "6wS4AAQCGyRQ"
      },
      "source": [
        "* Single TLUs are **simple linear binary classifier** hence not suitable for non linear operation. This is proved in the [*implimentation notebook*](implimentaion_1.ipynb) with coding of simple logic gates.\n",
        "* Rosenblatt proved that if the data is **linearly separable** then only this algorithm will converge which is known as **Perceptron learning theoram**"
      ]
    },
    {
      "cell_type": "markdown",
      "metadata": {
        "id": "7VoldZOKGyRQ"
      },
      "source": [
        "* Some serious weaknesses of Perceptrons was revealed In 1969 by Marvin Minsky and Seymour Papert. Not able to solve some simple logic operations like XOR, EXOR etc.\n",
        "\n",
        "* But above mentioned problem were solved by implimenting multiplayer perceptron"
      ]
    },
    {
      "cell_type": "markdown",
      "metadata": {
        "id": "TadbgfA-GyRR"
      },
      "source": [
        "## Derivation:- "
      ]
    },
    {
      "cell_type": "markdown",
      "metadata": {
        "id": "m8mBgVK4GyRR"
      },
      "source": [
        "Let's assume that you are doing a binary classification with class +1 and -1\n",
        "\n",
        "Let there be decision function $\\phi (z)$ \n",
        "\n",
        "which takes linear combination of certain inputs \"$\\mathbf{x}$\" \n",
        "\n",
        "corresponding weights \"$\\mathbf{w}$\" and net input $\\mathbf{z} = w_1 x_1 + w_2 x_2 + ... + w_n x_n$\n"
      ]
    },
    {
      "cell_type": "markdown",
      "metadata": {
        "id": "NhP-ddNgGyRR"
      },
      "source": [
        "So in vector form we have \n",
        "\n",
        "$\\begin{matrix}\n",
        "\\mathbf{w} = \\begin{bmatrix}\n",
        "w_1\\\\ \n",
        "\\vdots\\\\ \n",
        "w_n\\end{bmatrix}&&\n",
        "\\mathbf{x} = \\begin{bmatrix}\n",
        "x_1\\\\ \n",
        "\\vdots\\\\ \n",
        "x_n\\end{bmatrix}\\end{matrix}$\n",
        "\n",
        "\n",
        "so  $\\mathbf{z = w^T x}$"
      ]
    },
    {
      "cell_type": "markdown",
      "metadata": {
        "id": "8iWFyqRWGyRR"
      },
      "source": [
        "Now, if \n",
        "\n",
        "for a sample $\\mathbf{x}$\n",
        "\n",
        "$\\phi(z) = \\begin{cases}\n",
        "+1 & \\text{ if } z \\geq \\theta \\\\ \n",
        "-1 & \\text{ if } z< \\theta \n",
        "\\end{cases}$\n",
        "\n",
        "Lets simplify the above equation - \n",
        "\n",
        "$\\phi(z) = \\begin{cases}\n",
        "+1 & \\text{ if } z - \\theta \\geq 0\\\\ \n",
        "-1 & \\text{ if } z - \\theta < 0\n",
        "\\end{cases}$\n",
        "\n",
        "Suppose $w_0 = - \\theta$ and $x_0 = 1$ \n",
        "\n",
        "Then, \n",
        "\n",
        "$\\mathbf{z'} = w_0 x_0 + w_1 x_1 + w_2 x_2 + ... + w_n x_n$\n",
        "\n",
        "and \n",
        "\n",
        "$\\phi(z) = \\begin{cases}\n",
        "+1 & \\text{ if } z \\geq 0\\\\ \n",
        "-1 & \\text{ if } z < 0\n",
        "\\end{cases}$\n"
      ]
    },
    {
      "cell_type": "markdown",
      "metadata": {
        "id": "uXc9rMP3GyRS"
      },
      "source": [
        "here $w_0 x_0$ is usually known as bias unit"
      ]
    },
    {
      "cell_type": "markdown",
      "metadata": {
        "id": "CaPEJQFJGyRS"
      },
      "source": [
        "![](https://sebastianraschka.com/images/faq/classifier-history/perceptron-figure.png)"
      ]
    },
    {
      "cell_type": "code",
      "metadata": {
        "id": "qCalkravGyRS"
      },
      "source": [],
      "execution_count": null,
      "outputs": []
    }
  ]
}