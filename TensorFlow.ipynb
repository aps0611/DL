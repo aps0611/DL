{
  "nbformat": 4,
  "nbformat_minor": 0,
  "metadata": {
    "colab": {
      "provenance": []
    },
    "kernelspec": {
      "name": "python3",
      "display_name": "Python 3"
    },
    "language_info": {
      "name": "python"
    },
    "accelerator": "GPU",
    "gpuClass": "standard"
  },
  "cells": [
    {
      "cell_type": "code",
      "execution_count": 1,
      "metadata": {
        "id": "-0xTsQdKcmTn"
      },
      "outputs": [],
      "source": [
        "# import tensorflow\n",
        "import tensorflow as tf"
      ]
    },
    {
      "cell_type": "code",
      "source": [
        "tf.__version__"
      ],
      "metadata": {
        "colab": {
          "base_uri": "https://localhost:8080/",
          "height": 35
        },
        "id": "kLhUR31Yd1Yg",
        "outputId": "f75d0886-9146-4ff6-9519-18d9e714e9f4"
      },
      "execution_count": 2,
      "outputs": [
        {
          "output_type": "execute_result",
          "data": {
            "text/plain": [
              "'2.12.0'"
            ],
            "application/vnd.google.colaboratory.intrinsic+json": {
              "type": "string"
            }
          },
          "metadata": {},
          "execution_count": 2
        }
      ]
    },
    {
      "cell_type": "markdown",
      "source": [
        "## Tensor constant\n",
        "\n",
        "Tensor: Multi dimensional array"
      ],
      "metadata": {
        "id": "YSjI5YeKd_Pz"
      }
    },
    {
      "cell_type": "markdown",
      "source": [
        "Tensorflow supports GPU by default. numpy does not support GPU by default. No parallel processing by default"
      ],
      "metadata": {
        "id": "XHqGUPEC7R40"
      }
    },
    {
      "cell_type": "code",
      "source": [
        "const = tf.constant(43)\n",
        "const"
      ],
      "metadata": {
        "id": "-7y9DmOCd22O",
        "colab": {
          "base_uri": "https://localhost:8080/"
        },
        "outputId": "a5ef31bb-459c-4192-916e-a2a1e4a50532"
      },
      "execution_count": 4,
      "outputs": [
        {
          "output_type": "execute_result",
          "data": {
            "text/plain": [
              "<tf.Tensor: shape=(), dtype=int32, numpy=43>"
            ]
          },
          "metadata": {},
          "execution_count": 4
        }
      ]
    },
    {
      "cell_type": "code",
      "source": [
        "const.numpy()"
      ],
      "metadata": {
        "colab": {
          "base_uri": "https://localhost:8080/"
        },
        "id": "fOQgZzSieIM8",
        "outputId": "419445ad-cc46-4466-ee75-961469333e3e"
      },
      "execution_count": 5,
      "outputs": [
        {
          "output_type": "execute_result",
          "data": {
            "text/plain": [
              "43"
            ]
          },
          "metadata": {},
          "execution_count": 5
        }
      ]
    },
    {
      "cell_type": "markdown",
      "source": [
        "JAX: Built on Numpy but it supports CUDA"
      ],
      "metadata": {
        "id": "2E10Q366exMW"
      }
    },
    {
      "cell_type": "code",
      "source": [
        "# for specific datatype\n",
        "\n",
        "const = tf.constant(43, dtype=tf.float32)\n",
        "\n",
        "const"
      ],
      "metadata": {
        "colab": {
          "base_uri": "https://localhost:8080/"
        },
        "id": "k978Lcghegia",
        "outputId": "dc4a607f-d0f0-462d-9926-62b7307d777f"
      },
      "execution_count": 6,
      "outputs": [
        {
          "output_type": "execute_result",
          "data": {
            "text/plain": [
              "<tf.Tensor: shape=(), dtype=float32, numpy=43.0>"
            ]
          },
          "metadata": {},
          "execution_count": 6
        }
      ]
    },
    {
      "cell_type": "code",
      "source": [
        "const.numpy()"
      ],
      "metadata": {
        "colab": {
          "base_uri": "https://localhost:8080/"
        },
        "id": "oB4acuRkfUHE",
        "outputId": "1fc2a8aa-80a2-4c37-cdee-f1acfc4eaa78"
      },
      "execution_count": 7,
      "outputs": [
        {
          "output_type": "execute_result",
          "data": {
            "text/plain": [
              "43.0"
            ]
          },
          "metadata": {},
          "execution_count": 7
        }
      ]
    },
    {
      "cell_type": "code",
      "source": [
        "const_mat = tf.constant([[1,3],[4,5]], dtype=tf.float32)\n",
        "\n",
        "const_mat"
      ],
      "metadata": {
        "colab": {
          "base_uri": "https://localhost:8080/"
        },
        "id": "5gvXAlQsfYQ7",
        "outputId": "91ec3e56-b8ae-4442-bbdb-62c3b23f637d"
      },
      "execution_count": 8,
      "outputs": [
        {
          "output_type": "execute_result",
          "data": {
            "text/plain": [
              "<tf.Tensor: shape=(2, 2), dtype=float32, numpy=\n",
              "array([[1., 3.],\n",
              "       [4., 5.]], dtype=float32)>"
            ]
          },
          "metadata": {},
          "execution_count": 8
        }
      ]
    },
    {
      "cell_type": "code",
      "source": [
        "const_mat.shape"
      ],
      "metadata": {
        "colab": {
          "base_uri": "https://localhost:8080/"
        },
        "id": "LGi7v1TDfj8S",
        "outputId": "4acc0c34-a588-4c45-dee8-b4e7d59f1f6d"
      },
      "execution_count": 9,
      "outputs": [
        {
          "output_type": "execute_result",
          "data": {
            "text/plain": [
              "TensorShape([2, 2])"
            ]
          },
          "metadata": {},
          "execution_count": 9
        }
      ]
    },
    {
      "cell_type": "code",
      "source": [
        "const_mat.dtype"
      ],
      "metadata": {
        "colab": {
          "base_uri": "https://localhost:8080/"
        },
        "id": "rF0os-xbgBN6",
        "outputId": "93b335e2-2b78-41bb-de51-5ff9eb51bbcd"
      },
      "execution_count": 10,
      "outputs": [
        {
          "output_type": "execute_result",
          "data": {
            "text/plain": [
              "tf.float32"
            ]
          },
          "metadata": {},
          "execution_count": 10
        }
      ]
    },
    {
      "cell_type": "code",
      "source": [
        "const_mat[0][0]"
      ],
      "metadata": {
        "colab": {
          "base_uri": "https://localhost:8080/"
        },
        "id": "5w1Jc0sCgFw0",
        "outputId": "8a19a258-2003-4fce-805a-930d005e0d75"
      },
      "execution_count": 12,
      "outputs": [
        {
          "output_type": "execute_result",
          "data": {
            "text/plain": [
              "<tf.Tensor: shape=(), dtype=float32, numpy=1.0>"
            ]
          },
          "metadata": {},
          "execution_count": 12
        }
      ]
    },
    {
      "cell_type": "code",
      "source": [
        " const_mat[0][0] = 32 # does not support assignment as its a constant"
      ],
      "metadata": {
        "colab": {
          "base_uri": "https://localhost:8080/",
          "height": 217
        },
        "id": "YXfNjvnP8r6W",
        "outputId": "31eb4038-178c-49d5-9c1c-3adbe7799775"
      },
      "execution_count": 35,
      "outputs": [
        {
          "output_type": "error",
          "ename": "TypeError",
          "evalue": "ignored",
          "traceback": [
            "\u001b[0;31m---------------------------------------------------------------------------\u001b[0m",
            "\u001b[0;31mTypeError\u001b[0m                                 Traceback (most recent call last)",
            "\u001b[0;32m<ipython-input-35-f44d85769ee1>\u001b[0m in \u001b[0;36m<cell line: 1>\u001b[0;34m()\u001b[0m\n\u001b[0;32m----> 1\u001b[0;31m \u001b[0mconst_mat\u001b[0m\u001b[0;34m[\u001b[0m\u001b[0;36m0\u001b[0m\u001b[0;34m,\u001b[0m\u001b[0;36m0\u001b[0m\u001b[0;34m]\u001b[0m \u001b[0;34m=\u001b[0m \u001b[0;36m32\u001b[0m \u001b[0;31m# does not support assignment\u001b[0m\u001b[0;34m\u001b[0m\u001b[0;34m\u001b[0m\u001b[0m\n\u001b[0m",
            "\u001b[0;31mTypeError\u001b[0m: 'tensorflow.python.framework.ops.EagerTensor' object does not support item assignment"
          ]
        }
      ]
    },
    {
      "cell_type": "markdown",
      "source": [
        "## Commonly used method"
      ],
      "metadata": {
        "id": "mCyo0RFUgUCm"
      }
    },
    {
      "cell_type": "code",
      "source": [
        "# ones matrix equivalent to one in numpy\n",
        "tf.ones(shape=(2,3))"
      ],
      "metadata": {
        "colab": {
          "base_uri": "https://localhost:8080/"
        },
        "id": "9eYEMbFqgMYP",
        "outputId": "f6d18b0a-b3b1-4f44-9241-a3845eab6c94"
      },
      "execution_count": 16,
      "outputs": [
        {
          "output_type": "execute_result",
          "data": {
            "text/plain": [
              "<tf.Tensor: shape=(2, 3), dtype=float32, numpy=\n",
              "array([[1., 1., 1.],\n",
              "       [1., 1., 1.]], dtype=float32)>"
            ]
          },
          "metadata": {},
          "execution_count": 16
        }
      ]
    },
    {
      "cell_type": "code",
      "source": [
        "# so easily can define biases\n",
        "-1*tf.ones(shape=(2,3))"
      ],
      "metadata": {
        "colab": {
          "base_uri": "https://localhost:8080/"
        },
        "id": "fOb6dNccgb1X",
        "outputId": "93de8e6b-a820-41c8-d8f5-c33fdb63aa6a"
      },
      "execution_count": 17,
      "outputs": [
        {
          "output_type": "execute_result",
          "data": {
            "text/plain": [
              "<tf.Tensor: shape=(2, 3), dtype=float32, numpy=\n",
              "array([[-1., -1., -1.],\n",
              "       [-1., -1., -1.]], dtype=float32)>"
            ]
          },
          "metadata": {},
          "execution_count": 17
        }
      ]
    },
    {
      "cell_type": "code",
      "source": [
        "6*tf.ones(shape=(2,3))"
      ],
      "metadata": {
        "colab": {
          "base_uri": "https://localhost:8080/"
        },
        "id": "n7R0TwkVgrXE",
        "outputId": "baeb032b-e369-482a-fa31-4fb22b936e63"
      },
      "execution_count": 18,
      "outputs": [
        {
          "output_type": "execute_result",
          "data": {
            "text/plain": [
              "<tf.Tensor: shape=(2, 3), dtype=float32, numpy=\n",
              "array([[6., 6., 6.],\n",
              "       [6., 6., 6.]], dtype=float32)>"
            ]
          },
          "metadata": {},
          "execution_count": 18
        }
      ]
    },
    {
      "cell_type": "code",
      "source": [
        "tf.zeros(shape=(2,4))"
      ],
      "metadata": {
        "colab": {
          "base_uri": "https://localhost:8080/"
        },
        "id": "K2GofyOwguc2",
        "outputId": "85f00b1f-9114-4c26-b727-820dcc9a45ac"
      },
      "execution_count": 19,
      "outputs": [
        {
          "output_type": "execute_result",
          "data": {
            "text/plain": [
              "<tf.Tensor: shape=(2, 4), dtype=float32, numpy=\n",
              "array([[0., 0., 0., 0.],\n",
              "       [0., 0., 0., 0.]], dtype=float32)>"
            ]
          },
          "metadata": {},
          "execution_count": 19
        }
      ]
    },
    {
      "cell_type": "markdown",
      "source": [
        "## add operations"
      ],
      "metadata": {
        "id": "wAOwWTE9hJAd"
      }
    },
    {
      "cell_type": "code",
      "source": [
        "const1 = tf.constant([[1,2,3],[4,5,6]])\n",
        "const2 = tf.constant([[2,5,3],[3,5,8]])"
      ],
      "metadata": {
        "id": "66cNuh8khFLM"
      },
      "execution_count": 20,
      "outputs": []
    },
    {
      "cell_type": "code",
      "source": [
        "const1 + const2"
      ],
      "metadata": {
        "colab": {
          "base_uri": "https://localhost:8080/"
        },
        "id": "ST6TgxefhUyJ",
        "outputId": "deb68ef1-99d7-433b-acae-4002331d88ef"
      },
      "execution_count": 21,
      "outputs": [
        {
          "output_type": "execute_result",
          "data": {
            "text/plain": [
              "<tf.Tensor: shape=(2, 3), dtype=int32, numpy=\n",
              "array([[ 3,  7,  6],\n",
              "       [ 7, 10, 14]], dtype=int32)>"
            ]
          },
          "metadata": {},
          "execution_count": 21
        }
      ]
    },
    {
      "cell_type": "code",
      "source": [
        "tf.add(const1, const2)"
      ],
      "metadata": {
        "colab": {
          "base_uri": "https://localhost:8080/"
        },
        "id": "D4lXZRZuhWmJ",
        "outputId": "e7dba04b-faaf-488f-a443-96ac67bb043f"
      },
      "execution_count": 22,
      "outputs": [
        {
          "output_type": "execute_result",
          "data": {
            "text/plain": [
              "<tf.Tensor: shape=(2, 3), dtype=int32, numpy=\n",
              "array([[ 3,  7,  6],\n",
              "       [ 7, 10, 14]], dtype=int32)>"
            ]
          },
          "metadata": {},
          "execution_count": 22
        }
      ]
    },
    {
      "cell_type": "markdown",
      "source": [
        "## Random const"
      ],
      "metadata": {
        "id": "MqSgXhBShfCb"
      }
    },
    {
      "cell_type": "code",
      "source": [
        "tf.random.normal(shape=(2,2), mean=0, stddev=1.0)"
      ],
      "metadata": {
        "colab": {
          "base_uri": "https://localhost:8080/"
        },
        "id": "tnodoq3Ihbd-",
        "outputId": "87350412-51e5-42d7-a53a-cfa84aac5fcc"
      },
      "execution_count": 23,
      "outputs": [
        {
          "output_type": "execute_result",
          "data": {
            "text/plain": [
              "<tf.Tensor: shape=(2, 2), dtype=float32, numpy=\n",
              "array([[ 0.31984803,  1.9295149 ],\n",
              "       [-0.03247683,  0.07476337]], dtype=float32)>"
            ]
          },
          "metadata": {},
          "execution_count": 23
        }
      ]
    },
    {
      "cell_type": "code",
      "source": [
        "tf.random.uniform(shape=(2,2), minval=0, maxval=20)"
      ],
      "metadata": {
        "colab": {
          "base_uri": "https://localhost:8080/"
        },
        "id": "FHrQ6EzNhq4L",
        "outputId": "5f1aa176-c3db-4dfc-8814-3396b388e3b5"
      },
      "execution_count": 24,
      "outputs": [
        {
          "output_type": "execute_result",
          "data": {
            "text/plain": [
              "<tf.Tensor: shape=(2, 2), dtype=float32, numpy=\n",
              "array([[10.060177 , 14.395578 ],\n",
              "       [12.139427 ,  3.3739114]], dtype=float32)>"
            ]
          },
          "metadata": {},
          "execution_count": 24
        }
      ]
    },
    {
      "cell_type": "markdown",
      "source": [
        "## Variables"
      ],
      "metadata": {
        "id": "Kxij8tsrh7Nf"
      }
    },
    {
      "cell_type": "code",
      "source": [
        "var1 = tf.Variable([[1,2,3],[4,5,6]])"
      ],
      "metadata": {
        "id": "HvewIzdxh1Kk"
      },
      "execution_count": 25,
      "outputs": []
    },
    {
      "cell_type": "code",
      "source": [
        "var2 = tf.Variable(43)"
      ],
      "metadata": {
        "id": "YjQXqEZFiIDD"
      },
      "execution_count": 26,
      "outputs": []
    },
    {
      "cell_type": "code",
      "source": [
        "# stick to .assign instead of directly changing\n",
        "# as it may change the datatype\n",
        "var2.assign(32)"
      ],
      "metadata": {
        "colab": {
          "base_uri": "https://localhost:8080/"
        },
        "id": "3aUquiktiS9k",
        "outputId": "8106c05a-42a3-4f26-e49f-5083762a97bd"
      },
      "execution_count": 27,
      "outputs": [
        {
          "output_type": "execute_result",
          "data": {
            "text/plain": [
              "<tf.Variable 'UnreadVariable' shape=() dtype=int32, numpy=32>"
            ]
          },
          "metadata": {},
          "execution_count": 27
        }
      ]
    },
    {
      "cell_type": "code",
      "source": [
        "var2"
      ],
      "metadata": {
        "colab": {
          "base_uri": "https://localhost:8080/"
        },
        "id": "Oz3FmPAziXR6",
        "outputId": "1de1ff3a-541c-4200-bf41-6f78be6892f1"
      },
      "execution_count": 28,
      "outputs": [
        {
          "output_type": "execute_result",
          "data": {
            "text/plain": [
              "<tf.Variable 'Variable:0' shape=() dtype=int32, numpy=32>"
            ]
          },
          "metadata": {},
          "execution_count": 28
        }
      ]
    },
    {
      "cell_type": "code",
      "source": [
        "# see datatype here\n",
        "type(var2)"
      ],
      "metadata": {
        "colab": {
          "base_uri": "https://localhost:8080/"
        },
        "id": "ru3TJzCNjbfu",
        "outputId": "e72af296-b80b-4aeb-f4cd-0e278f62ae9c"
      },
      "execution_count": 29,
      "outputs": [
        {
          "output_type": "execute_result",
          "data": {
            "text/plain": [
              "tensorflow.python.ops.resource_variable_ops.ResourceVariable"
            ]
          },
          "metadata": {},
          "execution_count": 29
        }
      ]
    },
    {
      "cell_type": "code",
      "source": [
        "var2 = 33"
      ],
      "metadata": {
        "id": "1_QNnnX4iYe7"
      },
      "execution_count": 30,
      "outputs": []
    },
    {
      "cell_type": "code",
      "source": [
        "# see datatype here\n",
        "type(var2)"
      ],
      "metadata": {
        "colab": {
          "base_uri": "https://localhost:8080/"
        },
        "id": "7nv06z8xiljW",
        "outputId": "c3fd476d-3bce-46e8-f67e-ca10dd8e0553"
      },
      "execution_count": 31,
      "outputs": [
        {
          "output_type": "execute_result",
          "data": {
            "text/plain": [
              "int"
            ]
          },
          "metadata": {},
          "execution_count": 31
        }
      ]
    },
    {
      "cell_type": "code",
      "source": [
        "var1.assign([[22,2,3],[4,5,6]])"
      ],
      "metadata": {
        "colab": {
          "base_uri": "https://localhost:8080/"
        },
        "id": "5SBYUhbLjVdw",
        "outputId": "34e9b0ee-f783-4d53-b9cb-6ddb0d1a09fb"
      },
      "execution_count": 32,
      "outputs": [
        {
          "output_type": "execute_result",
          "data": {
            "text/plain": [
              "<tf.Variable 'UnreadVariable' shape=(2, 3) dtype=int32, numpy=\n",
              "array([[22,  2,  3],\n",
              "       [ 4,  5,  6]], dtype=int32)>"
            ]
          },
          "metadata": {},
          "execution_count": 32
        }
      ]
    },
    {
      "cell_type": "code",
      "source": [
        "var1[1,1].assign(34)\n",
        "\n",
        "var1"
      ],
      "metadata": {
        "colab": {
          "base_uri": "https://localhost:8080/"
        },
        "id": "qhc9mELIj4YV",
        "outputId": "db9ad6b0-bf00-463a-b10b-a95a54334c95"
      },
      "execution_count": 33,
      "outputs": [
        {
          "output_type": "execute_result",
          "data": {
            "text/plain": [
              "<tf.Variable 'Variable:0' shape=(2, 3) dtype=int32, numpy=\n",
              "array([[22,  2,  3],\n",
              "       [ 4, 34,  6]], dtype=int32)>"
            ]
          },
          "metadata": {},
          "execution_count": 33
        }
      ]
    },
    {
      "cell_type": "code",
      "source": [
        "var1[1][1].assign(34)"
      ],
      "metadata": {
        "colab": {
          "base_uri": "https://localhost:8080/",
          "height": 356
        },
        "id": "tnqBS6cMkDCZ",
        "outputId": "e3014408-9561-4c35-8bc5-646e037e71f2"
      },
      "execution_count": 36,
      "outputs": [
        {
          "output_type": "error",
          "ename": "AttributeError",
          "evalue": "ignored",
          "traceback": [
            "\u001b[0;31m---------------------------------------------------------------------------\u001b[0m",
            "\u001b[0;31mAttributeError\u001b[0m                            Traceback (most recent call last)",
            "\u001b[0;32m<ipython-input-36-17b5377d6999>\u001b[0m in \u001b[0;36m<cell line: 1>\u001b[0;34m()\u001b[0m\n\u001b[0;32m----> 1\u001b[0;31m \u001b[0mvar1\u001b[0m\u001b[0;34m[\u001b[0m\u001b[0;36m1\u001b[0m\u001b[0;34m]\u001b[0m\u001b[0;34m[\u001b[0m\u001b[0;36m1\u001b[0m\u001b[0;34m]\u001b[0m\u001b[0;34m.\u001b[0m\u001b[0massign\u001b[0m\u001b[0;34m(\u001b[0m\u001b[0;36m34\u001b[0m\u001b[0;34m)\u001b[0m\u001b[0;34m\u001b[0m\u001b[0;34m\u001b[0m\u001b[0m\n\u001b[0m",
            "\u001b[0;32m/usr/local/lib/python3.9/dist-packages/tensorflow/python/framework/ops.py\u001b[0m in \u001b[0;36m__getattr__\u001b[0;34m(self, name)\u001b[0m\n\u001b[1;32m    441\u001b[0m         \u001b[0mnp_config\u001b[0m\u001b[0;34m.\u001b[0m\u001b[0menable_numpy_behavior\u001b[0m\u001b[0;34m(\u001b[0m\u001b[0;34m)\u001b[0m\u001b[0;34m\u001b[0m\u001b[0;34m\u001b[0m\u001b[0m\n\u001b[1;32m    442\u001b[0m       \"\"\")\n\u001b[0;32m--> 443\u001b[0;31m     \u001b[0mself\u001b[0m\u001b[0;34m.\u001b[0m\u001b[0m__getattribute__\u001b[0m\u001b[0;34m(\u001b[0m\u001b[0mname\u001b[0m\u001b[0;34m)\u001b[0m\u001b[0;34m\u001b[0m\u001b[0;34m\u001b[0m\u001b[0m\n\u001b[0m\u001b[1;32m    444\u001b[0m \u001b[0;34m\u001b[0m\u001b[0m\n\u001b[1;32m    445\u001b[0m   \u001b[0;34m@\u001b[0m\u001b[0mstaticmethod\u001b[0m\u001b[0;34m\u001b[0m\u001b[0;34m\u001b[0m\u001b[0m\n",
            "\u001b[0;31mAttributeError\u001b[0m: 'tensorflow.python.framework.ops.EagerTensor' object has no attribute 'assign'"
          ]
        }
      ]
    },
    {
      "cell_type": "code",
      "source": [
        "var1.assign([[22,2,3],[4,5,6],[3,4,5]])"
      ],
      "metadata": {
        "colab": {
          "base_uri": "https://localhost:8080/",
          "height": 408
        },
        "id": "lIUa4lK4jqDp",
        "outputId": "bf4eb68b-46bf-4a5a-be2b-c348359f7028"
      },
      "execution_count": 37,
      "outputs": [
        {
          "output_type": "error",
          "ename": "ValueError",
          "evalue": "ignored",
          "traceback": [
            "\u001b[0;31m---------------------------------------------------------------------------\u001b[0m",
            "\u001b[0;31mValueError\u001b[0m                                Traceback (most recent call last)",
            "\u001b[0;32m<ipython-input-37-a7c3647faef9>\u001b[0m in \u001b[0;36m<cell line: 1>\u001b[0;34m()\u001b[0m\n\u001b[0;32m----> 1\u001b[0;31m \u001b[0mvar1\u001b[0m\u001b[0;34m.\u001b[0m\u001b[0massign\u001b[0m\u001b[0;34m(\u001b[0m\u001b[0;34m[\u001b[0m\u001b[0;34m[\u001b[0m\u001b[0;36m22\u001b[0m\u001b[0;34m,\u001b[0m\u001b[0;36m2\u001b[0m\u001b[0;34m,\u001b[0m\u001b[0;36m3\u001b[0m\u001b[0;34m]\u001b[0m\u001b[0;34m,\u001b[0m\u001b[0;34m[\u001b[0m\u001b[0;36m4\u001b[0m\u001b[0;34m,\u001b[0m\u001b[0;36m5\u001b[0m\u001b[0;34m,\u001b[0m\u001b[0;36m6\u001b[0m\u001b[0;34m]\u001b[0m\u001b[0;34m,\u001b[0m\u001b[0;34m[\u001b[0m\u001b[0;36m3\u001b[0m\u001b[0;34m,\u001b[0m\u001b[0;36m4\u001b[0m\u001b[0;34m,\u001b[0m\u001b[0;36m5\u001b[0m\u001b[0;34m]\u001b[0m\u001b[0;34m]\u001b[0m\u001b[0;34m)\u001b[0m\u001b[0;34m\u001b[0m\u001b[0;34m\u001b[0m\u001b[0m\n\u001b[0m",
            "\u001b[0;32m/usr/local/lib/python3.9/dist-packages/tensorflow/python/ops/resource_variable_ops.py\u001b[0m in \u001b[0;36massign\u001b[0;34m(self, value, use_locking, name, read_value)\u001b[0m\n\u001b[1;32m    978\u001b[0m         \u001b[0;32melse\u001b[0m\u001b[0;34m:\u001b[0m\u001b[0;34m\u001b[0m\u001b[0;34m\u001b[0m\u001b[0m\n\u001b[1;32m    979\u001b[0m           \u001b[0mtensor_name\u001b[0m \u001b[0;34m=\u001b[0m \u001b[0;34m\" \"\u001b[0m \u001b[0;34m+\u001b[0m \u001b[0mstr\u001b[0m\u001b[0;34m(\u001b[0m\u001b[0mself\u001b[0m\u001b[0;34m.\u001b[0m\u001b[0mname\u001b[0m\u001b[0;34m)\u001b[0m\u001b[0;34m\u001b[0m\u001b[0;34m\u001b[0m\u001b[0m\n\u001b[0;32m--> 980\u001b[0;31m         raise ValueError(\n\u001b[0m\u001b[1;32m    981\u001b[0m             (f\"Cannot assign value to variable '{tensor_name}': Shape mismatch.\"\n\u001b[1;32m    982\u001b[0m              \u001b[0;34mf\"The variable shape {self._shape}, and the \"\u001b[0m\u001b[0;34m\u001b[0m\u001b[0;34m\u001b[0m\u001b[0m\n",
            "\u001b[0;31mValueError\u001b[0m: Cannot assign value to variable ' Variable:0': Shape mismatch.The variable shape (2, 3), and the assigned value shape (3, 3) are incompatible."
          ]
        }
      ]
    },
    {
      "cell_type": "markdown",
      "source": [
        "## reshaping operation"
      ],
      "metadata": {
        "id": "rSwjWNoSkYP7"
      }
    },
    {
      "cell_type": "code",
      "source": [
        "tensor = tf.Variable([[22,2,3],[4,5,6]])\n",
        "\n",
        "tensor.shape"
      ],
      "metadata": {
        "colab": {
          "base_uri": "https://localhost:8080/"
        },
        "id": "e314JN9pjtYF",
        "outputId": "05f89a80-0c6c-4377-866e-0867921ce6d5"
      },
      "execution_count": 38,
      "outputs": [
        {
          "output_type": "execute_result",
          "data": {
            "text/plain": [
              "TensorShape([2, 3])"
            ]
          },
          "metadata": {},
          "execution_count": 38
        }
      ]
    },
    {
      "cell_type": "code",
      "source": [
        "# reshaping operation\n",
        "tf.reshape(tensor, [3,2])"
      ],
      "metadata": {
        "colab": {
          "base_uri": "https://localhost:8080/"
        },
        "id": "nBdiGl_PklW2",
        "outputId": "4d60cd5c-a45e-42db-f1a9-794c45a3e8d4"
      },
      "execution_count": 39,
      "outputs": [
        {
          "output_type": "execute_result",
          "data": {
            "text/plain": [
              "<tf.Tensor: shape=(3, 2), dtype=int32, numpy=\n",
              "array([[22,  2],\n",
              "       [ 3,  4],\n",
              "       [ 5,  6]], dtype=int32)>"
            ]
          },
          "metadata": {},
          "execution_count": 39
        }
      ]
    },
    {
      "cell_type": "code",
      "source": [
        "tf.reshape(tensor, [1,6])\n"
      ],
      "metadata": {
        "colab": {
          "base_uri": "https://localhost:8080/"
        },
        "id": "U9rIN5n_ktXp",
        "outputId": "4bb47a25-3892-4d3c-9829-8158b3af2787"
      },
      "execution_count": 40,
      "outputs": [
        {
          "output_type": "execute_result",
          "data": {
            "text/plain": [
              "<tf.Tensor: shape=(1, 6), dtype=int32, numpy=array([[22,  2,  3,  4,  5,  6]], dtype=int32)>"
            ]
          },
          "metadata": {},
          "execution_count": 40
        }
      ]
    },
    {
      "cell_type": "code",
      "source": [
        "tf.reshape(tensor, [6,1])\n"
      ],
      "metadata": {
        "colab": {
          "base_uri": "https://localhost:8080/"
        },
        "id": "EwBnYdeMkxIR",
        "outputId": "3066a7c7-82f0-4c26-fff7-732821d24d8b"
      },
      "execution_count": 41,
      "outputs": [
        {
          "output_type": "execute_result",
          "data": {
            "text/plain": [
              "<tf.Tensor: shape=(6, 1), dtype=int32, numpy=\n",
              "array([[22],\n",
              "       [ 2],\n",
              "       [ 3],\n",
              "       [ 4],\n",
              "       [ 5],\n",
              "       [ 6]], dtype=int32)>"
            ]
          },
          "metadata": {},
          "execution_count": 41
        }
      ]
    },
    {
      "cell_type": "markdown",
      "source": [
        "## Rank"
      ],
      "metadata": {
        "id": "cLMuYghn_tTc"
      }
    },
    {
      "cell_type": "code",
      "source": [
        "reshape_val = tf.reshape(tensor, [1,6])\n",
        "reshape_val"
      ],
      "metadata": {
        "colab": {
          "base_uri": "https://localhost:8080/"
        },
        "id": "zmu1je_i_1LF",
        "outputId": "806ce67f-9c9a-4a4a-b697-83a12569d3d9"
      },
      "execution_count": 46,
      "outputs": [
        {
          "output_type": "execute_result",
          "data": {
            "text/plain": [
              "<tf.Tensor: shape=(1, 6), dtype=int32, numpy=array([[22,  2,  3,  4,  5,  6]], dtype=int32)>"
            ]
          },
          "metadata": {},
          "execution_count": 46
        }
      ]
    },
    {
      "cell_type": "code",
      "source": [
        "tf.rank(reshape_val)"
      ],
      "metadata": {
        "colab": {
          "base_uri": "https://localhost:8080/"
        },
        "id": "E74NQbZE_wEW",
        "outputId": "a4c5b3d2-52c7-4947-a892-f8fe270f865c"
      },
      "execution_count": 47,
      "outputs": [
        {
          "output_type": "execute_result",
          "data": {
            "text/plain": [
              "<tf.Tensor: shape=(), dtype=int32, numpy=2>"
            ]
          },
          "metadata": {},
          "execution_count": 47
        }
      ]
    },
    {
      "cell_type": "markdown",
      "source": [
        "## other mathematical ops"
      ],
      "metadata": {
        "id": "v5gYdlJIlAtz"
      }
    },
    {
      "cell_type": "code",
      "source": [
        "var1"
      ],
      "metadata": {
        "colab": {
          "base_uri": "https://localhost:8080/"
        },
        "id": "DaNHbSGZkz7O",
        "outputId": "46f65425-7149-4050-80f0-c18f7d25321a"
      },
      "execution_count": 42,
      "outputs": [
        {
          "output_type": "execute_result",
          "data": {
            "text/plain": [
              "<tf.Variable 'Variable:0' shape=(2, 3) dtype=int32, numpy=\n",
              "array([[22,  2,  3],\n",
              "       [ 4, 34,  6]], dtype=int32)>"
            ]
          },
          "metadata": {},
          "execution_count": 42
        }
      ]
    },
    {
      "cell_type": "code",
      "source": [
        "tf.square(var1)"
      ],
      "metadata": {
        "colab": {
          "base_uri": "https://localhost:8080/"
        },
        "id": "HnVU_JxilD34",
        "outputId": "12cf8132-32cd-4d44-8c22-6fe0a0819e2a"
      },
      "execution_count": 43,
      "outputs": [
        {
          "output_type": "execute_result",
          "data": {
            "text/plain": [
              "<tf.Tensor: shape=(2, 3), dtype=int32, numpy=\n",
              "array([[ 484,    4,    9],\n",
              "       [  16, 1156,   36]], dtype=int32)>"
            ]
          },
          "metadata": {},
          "execution_count": 43
        }
      ]
    },
    {
      "cell_type": "markdown",
      "source": [
        "## [detailed link of the demo of all the funcitons in tensorflow ](https://colab.research.google.com/drive/12sBvm2ON-gAWNisJD1dpoNTdFri3dEjE?usp=sharing)"
      ],
      "metadata": {
        "id": "DtCZYB8xl9Kn"
      }
    },
    {
      "cell_type": "markdown",
      "source": [
        "## Broadcasting in TF"
      ],
      "metadata": {
        "id": "EdzniccgmR1h"
      }
    },
    {
      "cell_type": "code",
      "source": [
        "tensor"
      ],
      "metadata": {
        "colab": {
          "base_uri": "https://localhost:8080/"
        },
        "id": "ACsR0-WSmaEY",
        "outputId": "79ea4978-3cdb-4050-fb3c-2a9a815c32b6"
      },
      "execution_count": 48,
      "outputs": [
        {
          "output_type": "execute_result",
          "data": {
            "text/plain": [
              "<tf.Variable 'Variable:0' shape=(2, 3) dtype=int32, numpy=\n",
              "array([[22,  2,  3],\n",
              "       [ 4,  5,  6]], dtype=int32)>"
            ]
          },
          "metadata": {},
          "execution_count": 48
        }
      ]
    },
    {
      "cell_type": "code",
      "source": [
        "scaler = 4\n",
        "\n",
        "scaler * tensor"
      ],
      "metadata": {
        "colab": {
          "base_uri": "https://localhost:8080/"
        },
        "id": "huV2ZAtjlvUb",
        "outputId": "c761f545-9f6e-45de-fe72-112ad5166e76"
      },
      "execution_count": 49,
      "outputs": [
        {
          "output_type": "execute_result",
          "data": {
            "text/plain": [
              "<tf.Tensor: shape=(2, 3), dtype=int32, numpy=\n",
              "array([[88,  8, 12],\n",
              "       [16, 20, 24]], dtype=int32)>"
            ]
          },
          "metadata": {},
          "execution_count": 49
        }
      ]
    },
    {
      "cell_type": "code",
      "source": [
        "scaler + tensor"
      ],
      "metadata": {
        "colab": {
          "base_uri": "https://localhost:8080/"
        },
        "id": "XE1X41ncmdkd",
        "outputId": "319f267b-3d9f-47d5-a29b-e0825ede919a"
      },
      "execution_count": 50,
      "outputs": [
        {
          "output_type": "execute_result",
          "data": {
            "text/plain": [
              "<tf.Tensor: shape=(2, 3), dtype=int32, numpy=\n",
              "array([[26,  6,  7],\n",
              "       [ 8,  9, 10]], dtype=int32)>"
            ]
          },
          "metadata": {},
          "execution_count": 50
        }
      ]
    },
    {
      "cell_type": "code",
      "source": [],
      "metadata": {
        "id": "8xPgxuQvENe9"
      },
      "execution_count": null,
      "outputs": []
    },
    {
      "cell_type": "markdown",
      "source": [
        "## Matrix Multiplication"
      ],
      "metadata": {
        "id": "pqhfxArqnHhR"
      }
    },
    {
      "cell_type": "code",
      "source": [
        "mat_u = tf.constant([[6,7,7]])\n",
        "mat_v = tf.constant([[3,4,3]])"
      ],
      "metadata": {
        "id": "NaMDFsYynFAS"
      },
      "execution_count": 51,
      "outputs": []
    },
    {
      "cell_type": "code",
      "source": [
        "mat_u.shape"
      ],
      "metadata": {
        "colab": {
          "base_uri": "https://localhost:8080/"
        },
        "id": "EOSqMEkfnLag",
        "outputId": "92e1e77e-b6a3-4b76-d28f-f36409f87b90"
      },
      "execution_count": 52,
      "outputs": [
        {
          "output_type": "execute_result",
          "data": {
            "text/plain": [
              "TensorShape([1, 3])"
            ]
          },
          "metadata": {},
          "execution_count": 52
        }
      ]
    },
    {
      "cell_type": "code",
      "source": [
        "mat_v.shape"
      ],
      "metadata": {
        "colab": {
          "base_uri": "https://localhost:8080/"
        },
        "id": "V41yml_mnNj8",
        "outputId": "557302df-2055-4b82-dd45-42e9b9368c63"
      },
      "execution_count": 53,
      "outputs": [
        {
          "output_type": "execute_result",
          "data": {
            "text/plain": [
              "TensorShape([1, 3])"
            ]
          },
          "metadata": {},
          "execution_count": 53
        }
      ]
    },
    {
      "cell_type": "markdown",
      "source": [
        "Rule: column of mat A = row of matrix B. If you are multiplying AB"
      ],
      "metadata": {
        "id": "dA9B2vHjnUzH"
      }
    },
    {
      "cell_type": "code",
      "source": [
        "tf.matmul(mat_u, mat_v)"
      ],
      "metadata": {
        "colab": {
          "base_uri": "https://localhost:8080/",
          "height": 415
        },
        "id": "RS4UDhxrnPKX",
        "outputId": "5aec06f0-27f7-4649-b82f-d0aa2aa4065b"
      },
      "execution_count": 54,
      "outputs": [
        {
          "output_type": "error",
          "ename": "InvalidArgumentError",
          "evalue": "ignored",
          "traceback": [
            "\u001b[0;31m---------------------------------------------------------------------------\u001b[0m",
            "\u001b[0;31mInvalidArgumentError\u001b[0m                      Traceback (most recent call last)",
            "\u001b[0;32m<ipython-input-54-d8abcae5178c>\u001b[0m in \u001b[0;36m<cell line: 1>\u001b[0;34m()\u001b[0m\n\u001b[0;32m----> 1\u001b[0;31m \u001b[0mtf\u001b[0m\u001b[0;34m.\u001b[0m\u001b[0mmatmul\u001b[0m\u001b[0;34m(\u001b[0m\u001b[0mmat_u\u001b[0m\u001b[0;34m,\u001b[0m \u001b[0mmat_v\u001b[0m\u001b[0;34m)\u001b[0m\u001b[0;34m\u001b[0m\u001b[0;34m\u001b[0m\u001b[0m\n\u001b[0m",
            "\u001b[0;32m/usr/local/lib/python3.9/dist-packages/tensorflow/python/util/traceback_utils.py\u001b[0m in \u001b[0;36merror_handler\u001b[0;34m(*args, **kwargs)\u001b[0m\n\u001b[1;32m    151\u001b[0m     \u001b[0;32mexcept\u001b[0m \u001b[0mException\u001b[0m \u001b[0;32mas\u001b[0m \u001b[0me\u001b[0m\u001b[0;34m:\u001b[0m\u001b[0;34m\u001b[0m\u001b[0;34m\u001b[0m\u001b[0m\n\u001b[1;32m    152\u001b[0m       \u001b[0mfiltered_tb\u001b[0m \u001b[0;34m=\u001b[0m \u001b[0m_process_traceback_frames\u001b[0m\u001b[0;34m(\u001b[0m\u001b[0me\u001b[0m\u001b[0;34m.\u001b[0m\u001b[0m__traceback__\u001b[0m\u001b[0;34m)\u001b[0m\u001b[0;34m\u001b[0m\u001b[0;34m\u001b[0m\u001b[0m\n\u001b[0;32m--> 153\u001b[0;31m       \u001b[0;32mraise\u001b[0m \u001b[0me\u001b[0m\u001b[0;34m.\u001b[0m\u001b[0mwith_traceback\u001b[0m\u001b[0;34m(\u001b[0m\u001b[0mfiltered_tb\u001b[0m\u001b[0;34m)\u001b[0m \u001b[0;32mfrom\u001b[0m \u001b[0;32mNone\u001b[0m\u001b[0;34m\u001b[0m\u001b[0;34m\u001b[0m\u001b[0m\n\u001b[0m\u001b[1;32m    154\u001b[0m     \u001b[0;32mfinally\u001b[0m\u001b[0;34m:\u001b[0m\u001b[0;34m\u001b[0m\u001b[0;34m\u001b[0m\u001b[0m\n\u001b[1;32m    155\u001b[0m       \u001b[0;32mdel\u001b[0m \u001b[0mfiltered_tb\u001b[0m\u001b[0;34m\u001b[0m\u001b[0;34m\u001b[0m\u001b[0m\n",
            "\u001b[0;32m/usr/local/lib/python3.9/dist-packages/tensorflow/python/framework/ops.py\u001b[0m in \u001b[0;36mraise_from_not_ok_status\u001b[0;34m(e, name)\u001b[0m\n\u001b[1;32m   7260\u001b[0m \u001b[0;32mdef\u001b[0m \u001b[0mraise_from_not_ok_status\u001b[0m\u001b[0;34m(\u001b[0m\u001b[0me\u001b[0m\u001b[0;34m,\u001b[0m \u001b[0mname\u001b[0m\u001b[0;34m)\u001b[0m\u001b[0;34m:\u001b[0m\u001b[0;34m\u001b[0m\u001b[0;34m\u001b[0m\u001b[0m\n\u001b[1;32m   7261\u001b[0m   \u001b[0me\u001b[0m\u001b[0;34m.\u001b[0m\u001b[0mmessage\u001b[0m \u001b[0;34m+=\u001b[0m \u001b[0;34m(\u001b[0m\u001b[0;34m\" name: \"\u001b[0m \u001b[0;34m+\u001b[0m \u001b[0mname\u001b[0m \u001b[0;32mif\u001b[0m \u001b[0mname\u001b[0m \u001b[0;32mis\u001b[0m \u001b[0;32mnot\u001b[0m \u001b[0;32mNone\u001b[0m \u001b[0;32melse\u001b[0m \u001b[0;34m\"\"\u001b[0m\u001b[0;34m)\u001b[0m\u001b[0;34m\u001b[0m\u001b[0;34m\u001b[0m\u001b[0m\n\u001b[0;32m-> 7262\u001b[0;31m   \u001b[0;32mraise\u001b[0m \u001b[0mcore\u001b[0m\u001b[0;34m.\u001b[0m\u001b[0m_status_to_exception\u001b[0m\u001b[0;34m(\u001b[0m\u001b[0me\u001b[0m\u001b[0;34m)\u001b[0m \u001b[0;32mfrom\u001b[0m \u001b[0;32mNone\u001b[0m  \u001b[0;31m# pylint: disable=protected-access\u001b[0m\u001b[0;34m\u001b[0m\u001b[0;34m\u001b[0m\u001b[0m\n\u001b[0m\u001b[1;32m   7263\u001b[0m \u001b[0;34m\u001b[0m\u001b[0m\n\u001b[1;32m   7264\u001b[0m \u001b[0;34m\u001b[0m\u001b[0m\n",
            "\u001b[0;31mInvalidArgumentError\u001b[0m: {{function_node __wrapped__MatMul_device_/job:localhost/replica:0/task:0/device:CPU:0}} Matrix size-incompatible: In[0]: [1,3], In[1]: [1,3] [Op:MatMul]"
          ]
        }
      ]
    },
    {
      "cell_type": "code",
      "source": [
        "tf.matmul(mat_u, tf.transpose(mat_v))"
      ],
      "metadata": {
        "colab": {
          "base_uri": "https://localhost:8080/"
        },
        "id": "EiQfLYbtniSY",
        "outputId": "90a4a332-07c6-47c2-af59-6ddb2345fc59"
      },
      "execution_count": 55,
      "outputs": [
        {
          "output_type": "execute_result",
          "data": {
            "text/plain": [
              "<tf.Tensor: shape=(1, 1), dtype=int32, numpy=array([[67]], dtype=int32)>"
            ]
          },
          "metadata": {},
          "execution_count": 55
        }
      ]
    },
    {
      "cell_type": "code",
      "source": [
        "## alternative to above\n",
        "\n",
        "mat_u @ tf.transpose(mat_v)"
      ],
      "metadata": {
        "colab": {
          "base_uri": "https://localhost:8080/"
        },
        "id": "EOOTxICDn5w7",
        "outputId": "7084eeb1-9544-45f2-a0b3-59573f994914"
      },
      "execution_count": 56,
      "outputs": [
        {
          "output_type": "execute_result",
          "data": {
            "text/plain": [
              "<tf.Tensor: shape=(1, 1), dtype=int32, numpy=array([[67]], dtype=int32)>"
            ]
          },
          "metadata": {},
          "execution_count": 56
        }
      ]
    },
    {
      "cell_type": "code",
      "source": [
        "tf.matmul(tf.transpose(mat_u), mat_v)"
      ],
      "metadata": {
        "colab": {
          "base_uri": "https://localhost:8080/"
        },
        "id": "zaC139UbnqEY",
        "outputId": "7429e03a-3761-4757-ae94-2bf7e1a7143c"
      },
      "execution_count": 57,
      "outputs": [
        {
          "output_type": "execute_result",
          "data": {
            "text/plain": [
              "<tf.Tensor: shape=(3, 3), dtype=int32, numpy=\n",
              "array([[18, 24, 18],\n",
              "       [21, 28, 21],\n",
              "       [21, 28, 21]], dtype=int32)>"
            ]
          },
          "metadata": {},
          "execution_count": 57
        }
      ]
    },
    {
      "cell_type": "code",
      "source": [
        "mat_u * mat_v # element wise multiplication\n",
        "# shape of both should be same"
      ],
      "metadata": {
        "colab": {
          "base_uri": "https://localhost:8080/"
        },
        "id": "HREUXEtNnzRQ",
        "outputId": "edbae82c-1091-4042-dc1a-dfe3b78a6d4d"
      },
      "execution_count": 58,
      "outputs": [
        {
          "output_type": "execute_result",
          "data": {
            "text/plain": [
              "<tf.Tensor: shape=(1, 3), dtype=int32, numpy=array([[18, 28, 21]], dtype=int32)>"
            ]
          },
          "metadata": {},
          "execution_count": 58
        }
      ]
    },
    {
      "cell_type": "markdown",
      "source": [
        "## Casting method in tf to change the data type "
      ],
      "metadata": {
        "id": "p18KORyPoSos"
      }
    },
    {
      "cell_type": "code",
      "source": [
        "mat_u.dtype"
      ],
      "metadata": {
        "colab": {
          "base_uri": "https://localhost:8080/"
        },
        "id": "fwxDsyHSoDbv",
        "outputId": "a00fa0bc-e4bc-4f91-bb62-41a85f3f2180"
      },
      "execution_count": 59,
      "outputs": [
        {
          "output_type": "execute_result",
          "data": {
            "text/plain": [
              "tf.int32"
            ]
          },
          "metadata": {},
          "execution_count": 59
        }
      ]
    },
    {
      "cell_type": "code",
      "source": [
        "tf.cast(mat_u, dtype=tf.int16) \n",
        "## can be used in quantizing a model to save the space in the memory allocation\n"
      ],
      "metadata": {
        "colab": {
          "base_uri": "https://localhost:8080/"
        },
        "id": "s3l3utrYoa9h",
        "outputId": "02815786-0927-4057-cdcd-b2dc2ed6695a"
      },
      "execution_count": 60,
      "outputs": [
        {
          "output_type": "execute_result",
          "data": {
            "text/plain": [
              "<tf.Tensor: shape=(1, 3), dtype=int16, numpy=array([[6, 7, 7]], dtype=int16)>"
            ]
          },
          "metadata": {},
          "execution_count": 60
        }
      ]
    },
    {
      "cell_type": "code",
      "source": [
        "34.34343434 ## <<< This will be more precise\n",
        "34.34"
      ],
      "metadata": {
        "id": "m5VbyvGioftA",
        "colab": {
          "base_uri": "https://localhost:8080/"
        },
        "outputId": "421b5828-d465-49a2-967d-678ee04a02fb"
      },
      "execution_count": 61,
      "outputs": [
        {
          "output_type": "execute_result",
          "data": {
            "text/plain": [
              "34.34"
            ]
          },
          "metadata": {},
          "execution_count": 61
        }
      ]
    },
    {
      "cell_type": "markdown",
      "source": [
        "## Ragged tensors\n",
        "nested variable length arrays"
      ],
      "metadata": {
        "id": "jj1zVVbKpqnk"
      }
    },
    {
      "cell_type": "code",
      "source": [
        "ragged = tf.ragged.constant([[1,2,4,5,6], [1], [135,1]])"
      ],
      "metadata": {
        "id": "bYF-7TogpvVN"
      },
      "execution_count": 68,
      "outputs": []
    },
    {
      "cell_type": "code",
      "source": [
        "ragged.shape"
      ],
      "metadata": {
        "colab": {
          "base_uri": "https://localhost:8080/"
        },
        "id": "WtoKcYpLqG58",
        "outputId": "fac5ef03-25d6-479f-c5c8-0466e6028386"
      },
      "execution_count": 69,
      "outputs": [
        {
          "output_type": "execute_result",
          "data": {
            "text/plain": [
              "TensorShape([3, None])"
            ]
          },
          "metadata": {},
          "execution_count": 69
        }
      ]
    },
    {
      "cell_type": "code",
      "source": [
        "ragged[0].shape"
      ],
      "metadata": {
        "colab": {
          "base_uri": "https://localhost:8080/"
        },
        "id": "kTGK17eAqI0d",
        "outputId": "4562cae8-7059-4600-e0ed-20267b9540e5"
      },
      "execution_count": 70,
      "outputs": [
        {
          "output_type": "execute_result",
          "data": {
            "text/plain": [
              "TensorShape([5])"
            ]
          },
          "metadata": {},
          "execution_count": 70
        }
      ]
    },
    {
      "cell_type": "code",
      "source": [
        "ragged[1].shape\n"
      ],
      "metadata": {
        "colab": {
          "base_uri": "https://localhost:8080/"
        },
        "id": "E8NZsLNcql3w",
        "outputId": "374e22a4-0a92-4846-961a-f6b3fe8dc09d"
      },
      "execution_count": 71,
      "outputs": [
        {
          "output_type": "execute_result",
          "data": {
            "text/plain": [
              "TensorShape([1])"
            ]
          },
          "metadata": {},
          "execution_count": 71
        }
      ]
    },
    {
      "cell_type": "code",
      "source": [
        "ragged[2].shape\n"
      ],
      "metadata": {
        "id": "ZqZWsSERqqjn",
        "colab": {
          "base_uri": "https://localhost:8080/"
        },
        "outputId": "fa3d4d71-68df-42f2-dabd-d7a9e9a4866f"
      },
      "execution_count": 72,
      "outputs": [
        {
          "output_type": "execute_result",
          "data": {
            "text/plain": [
              "TensorShape([2])"
            ]
          },
          "metadata": {},
          "execution_count": 72
        }
      ]
    },
    {
      "cell_type": "markdown",
      "source": [
        "## Checkpointing to restore the matrix vals"
      ],
      "metadata": {
        "id": "qAT-uLabv5nj"
      }
    },
    {
      "cell_type": "code",
      "source": [
        "var1 = tf.Variable(5*tf.ones((5,5)))\n",
        "\n",
        "var1"
      ],
      "metadata": {
        "colab": {
          "base_uri": "https://localhost:8080/"
        },
        "id": "rLV5-4Upv6Hu",
        "outputId": "6de9be37-a1a2-4005-861f-a56b70f62f3f"
      },
      "execution_count": 79,
      "outputs": [
        {
          "output_type": "execute_result",
          "data": {
            "text/plain": [
              "<tf.Variable 'Variable:0' shape=(5, 5) dtype=float32, numpy=\n",
              "array([[5., 5., 5., 5., 5.],\n",
              "       [5., 5., 5., 5., 5.],\n",
              "       [5., 5., 5., 5., 5.],\n",
              "       [5., 5., 5., 5., 5.],\n",
              "       [5., 5., 5., 5., 5.]], dtype=float32)>"
            ]
          },
          "metadata": {},
          "execution_count": 79
        }
      ]
    },
    {
      "cell_type": "code",
      "source": [
        "ckpt = tf.train.Checkpoint(var=var1)\n",
        "savepath = ckpt.save(\"./vars.ckpt\")"
      ],
      "metadata": {
        "id": "XSI1knpIwAi0"
      },
      "execution_count": 81,
      "outputs": []
    },
    {
      "cell_type": "code",
      "source": [
        "var1.assign(tf.zeros((5,5)))"
      ],
      "metadata": {
        "colab": {
          "base_uri": "https://localhost:8080/"
        },
        "id": "an6n07dQwTyW",
        "outputId": "5aa51342-9a8f-49e3-87e7-d53bca3a6963"
      },
      "execution_count": 82,
      "outputs": [
        {
          "output_type": "execute_result",
          "data": {
            "text/plain": [
              "<tf.Variable 'UnreadVariable' shape=(5, 5) dtype=float32, numpy=\n",
              "array([[0., 0., 0., 0., 0.],\n",
              "       [0., 0., 0., 0., 0.],\n",
              "       [0., 0., 0., 0., 0.],\n",
              "       [0., 0., 0., 0., 0.],\n",
              "       [0., 0., 0., 0., 0.]], dtype=float32)>"
            ]
          },
          "metadata": {},
          "execution_count": 82
        }
      ]
    },
    {
      "cell_type": "code",
      "source": [
        "var1"
      ],
      "metadata": {
        "colab": {
          "base_uri": "https://localhost:8080/"
        },
        "id": "9gGRqL7dwhPI",
        "outputId": "00351cb7-c99b-49ec-80b7-225995db4751"
      },
      "execution_count": 83,
      "outputs": [
        {
          "output_type": "execute_result",
          "data": {
            "text/plain": [
              "<tf.Variable 'Variable:0' shape=(5, 5) dtype=float32, numpy=\n",
              "array([[0., 0., 0., 0., 0.],\n",
              "       [0., 0., 0., 0., 0.],\n",
              "       [0., 0., 0., 0., 0.],\n",
              "       [0., 0., 0., 0., 0.],\n",
              "       [0., 0., 0., 0., 0.]], dtype=float32)>"
            ]
          },
          "metadata": {},
          "execution_count": 83
        }
      ]
    },
    {
      "cell_type": "code",
      "source": [
        "ckpt.restore(savepath)"
      ],
      "metadata": {
        "colab": {
          "base_uri": "https://localhost:8080/"
        },
        "id": "yCoyeJpAwiUi",
        "outputId": "64b15425-e6f3-4e91-e94a-36c579b2961f"
      },
      "execution_count": 84,
      "outputs": [
        {
          "output_type": "execute_result",
          "data": {
            "text/plain": [
              "<tensorflow.python.checkpoint.checkpoint.CheckpointLoadStatus at 0x7f6202670c40>"
            ]
          },
          "metadata": {},
          "execution_count": 84
        }
      ]
    },
    {
      "cell_type": "code",
      "source": [
        "var1"
      ],
      "metadata": {
        "colab": {
          "base_uri": "https://localhost:8080/"
        },
        "id": "l-P_BslPwnCR",
        "outputId": "b8945af1-e2ea-428c-f2a3-45c3e1486ac4"
      },
      "execution_count": 85,
      "outputs": [
        {
          "output_type": "execute_result",
          "data": {
            "text/plain": [
              "<tf.Variable 'Variable:0' shape=(5, 5) dtype=float32, numpy=\n",
              "array([[5., 5., 5., 5., 5.],\n",
              "       [5., 5., 5., 5., 5.],\n",
              "       [5., 5., 5., 5., 5.],\n",
              "       [5., 5., 5., 5., 5.],\n",
              "       [5., 5., 5., 5., 5.]], dtype=float32)>"
            ]
          },
          "metadata": {},
          "execution_count": 85
        }
      ]
    },
    {
      "cell_type": "markdown",
      "source": [
        "## tf.function"
      ],
      "metadata": {
        "id": "J2M7RpwYxl_A"
      }
    },
    {
      "cell_type": "markdown",
      "source": [
        "$z = x^3 * 6 + y^3$"
      ],
      "metadata": {
        "id": "rg2SL5goxpFa"
      }
    },
    {
      "cell_type": "code",
      "source": [
        "def f1(x, y):\n",
        "  input_var = tf.multiply(x ** 3, 6) + y ** 3\n",
        "  # as x and y can be mat as well so return the reduced mean\n",
        "  return tf.reduce_mean(input_tensor=input_var)"
      ],
      "metadata": {
        "id": "8F64OaDywoDs"
      },
      "execution_count": 88,
      "outputs": []
    },
    {
      "cell_type": "code",
      "source": [
        "# use tensorflow optimization\n",
        "func = tf.function(f1)"
      ],
      "metadata": {
        "id": "-IySBRVUyGEf"
      },
      "execution_count": 89,
      "outputs": []
    },
    {
      "cell_type": "code",
      "source": [
        "x = tf.constant([3.,-4.])\n",
        "y = tf.constant([1.,4.])"
      ],
      "metadata": {
        "id": "6ZCpqKLwyKVh"
      },
      "execution_count": 90,
      "outputs": []
    },
    {
      "cell_type": "code",
      "source": [
        "f1(x,y) ## using a simple python function"
      ],
      "metadata": {
        "colab": {
          "base_uri": "https://localhost:8080/"
        },
        "id": "4kamzCA4yZFz",
        "outputId": "80c4a8a7-8b3a-40c1-bfc5-21188c658511"
      },
      "execution_count": 91,
      "outputs": [
        {
          "output_type": "execute_result",
          "data": {
            "text/plain": [
              "<tf.Tensor: shape=(), dtype=float32, numpy=-78.5>"
            ]
          },
          "metadata": {},
          "execution_count": 91
        }
      ]
    },
    {
      "cell_type": "code",
      "source": [
        "# more faster and tensorflow optimization\n",
        "func(x, y)"
      ],
      "metadata": {
        "colab": {
          "base_uri": "https://localhost:8080/"
        },
        "id": "9Bvfw7pjybpX",
        "outputId": "b9f61402-8dfa-4fca-b115-999b7fadd576"
      },
      "execution_count": 93,
      "outputs": [
        {
          "output_type": "execute_result",
          "data": {
            "text/plain": [
              "<tf.Tensor: shape=(), dtype=float32, numpy=-78.5>"
            ]
          },
          "metadata": {},
          "execution_count": 93
        }
      ]
    },
    {
      "cell_type": "markdown",
      "source": [
        "Same thing can be done in alternate way:"
      ],
      "metadata": {
        "id": "zjnU5a6fLIZA"
      }
    },
    {
      "cell_type": "markdown",
      "source": [
        "using decorator: decorator tries to behave as a wrapper for the function:"
      ],
      "metadata": {
        "id": "GYNWdX5pLNMB"
      }
    },
    {
      "cell_type": "code",
      "source": [
        "@tf.function ## tf decorator function\n",
        "def f2(x, y):\n",
        "  input_var = tf.multiply(x ** 3, 6) + y ** 3\n",
        "  return tf.reduce_mean(input_tensor=input_var)"
      ],
      "metadata": {
        "id": "g55tgSuhym4_"
      },
      "execution_count": 94,
      "outputs": []
    },
    {
      "cell_type": "code",
      "source": [
        "f2(x,y)"
      ],
      "metadata": {
        "colab": {
          "base_uri": "https://localhost:8080/"
        },
        "id": "GPU5St1Wzjp9",
        "outputId": "591ca9d1-8c8e-4c02-da1f-33995378be2d"
      },
      "execution_count": 95,
      "outputs": [
        {
          "output_type": "execute_result",
          "data": {
            "text/plain": [
              "<tf.Tensor: shape=(), dtype=float32, numpy=-78.5>"
            ]
          },
          "metadata": {},
          "execution_count": 95
        }
      ]
    },
    {
      "cell_type": "markdown",
      "source": [
        "## Example of decorator"
      ],
      "metadata": {
        "id": "-_v_LMbGzuPs"
      }
    },
    {
      "cell_type": "code",
      "source": [
        "def print_me():\n",
        "  print(\"Hi FSDS\")"
      ],
      "metadata": {
        "id": "Tpy9lAAzzmd-"
      },
      "execution_count": 96,
      "outputs": []
    },
    {
      "cell_type": "code",
      "source": [
        "print_me()"
      ],
      "metadata": {
        "colab": {
          "base_uri": "https://localhost:8080/"
        },
        "id": "ljMsYpd1z2mR",
        "outputId": "87181273-9b43-45e3-d559-639ec9f50eda"
      },
      "execution_count": 97,
      "outputs": [
        {
          "output_type": "stream",
          "name": "stdout",
          "text": [
            "Hi FSDS\n"
          ]
        }
      ]
    },
    {
      "cell_type": "code",
      "source": [
        "print(\"**\"*20)\n",
        "print_me()\n",
        "print(\"**\"*20)"
      ],
      "metadata": {
        "colab": {
          "base_uri": "https://localhost:8080/"
        },
        "id": "b5dD9LUsz6Vu",
        "outputId": "88c1ea04-0d7e-4faf-db96-1402676828d9"
      },
      "execution_count": 98,
      "outputs": [
        {
          "output_type": "stream",
          "name": "stdout",
          "text": [
            "****************************************\n",
            "Hi FSDS\n",
            "****************************************\n"
          ]
        }
      ]
    },
    {
      "cell_type": "code",
      "source": [
        "# creating decorator\n",
        "def decorate_it(input_func):\n",
        "  def decorated_func():\n",
        "    print(\"**\"*20)\n",
        "    input_func()\n",
        "    print(\"**\"*20)\n",
        "\n",
        "  return decorated_func"
      ],
      "metadata": {
        "id": "VncvEoMt0Aka"
      },
      "execution_count": 99,
      "outputs": []
    },
    {
      "cell_type": "code",
      "source": [
        "decorated_func = decorate_it(print_me)\n",
        "\n",
        "decorated_func()"
      ],
      "metadata": {
        "colab": {
          "base_uri": "https://localhost:8080/"
        },
        "id": "KA5UZUs20YF_",
        "outputId": "6fc71529-f2dd-457b-cdd4-8591e332d6d4"
      },
      "execution_count": 100,
      "outputs": [
        {
          "output_type": "stream",
          "name": "stdout",
          "text": [
            "****************************************\n",
            "Hi FSDS\n",
            "****************************************\n"
          ]
        }
      ]
    },
    {
      "cell_type": "markdown",
      "source": [
        "The best way to do is:"
      ],
      "metadata": {
        "id": "7BQARbk6Nbwh"
      }
    },
    {
      "cell_type": "code",
      "source": [
        "@decorate_it\n",
        "def print_me2():\n",
        "  print(\"Hi FSDS\")"
      ],
      "metadata": {
        "id": "XHS0wqQw0gR1"
      },
      "execution_count": 101,
      "outputs": []
    },
    {
      "cell_type": "code",
      "source": [
        "print_me2()"
      ],
      "metadata": {
        "colab": {
          "base_uri": "https://localhost:8080/"
        },
        "id": "vVfJKwph0tt4",
        "outputId": "429a2466-8f99-402f-8c9a-7a667201bd45"
      },
      "execution_count": 102,
      "outputs": [
        {
          "output_type": "stream",
          "name": "stdout",
          "text": [
            "****************************************\n",
            "Hi FSDS\n",
            "****************************************\n"
          ]
        }
      ]
    },
    {
      "cell_type": "code",
      "source": [
        "@decorate_it\n",
        "def print_my_name():\n",
        "  print(\"Sunny\")"
      ],
      "metadata": {
        "id": "ZINfTl460vJP"
      },
      "execution_count": 103,
      "outputs": []
    },
    {
      "cell_type": "code",
      "source": [
        "print_my_name()"
      ],
      "metadata": {
        "colab": {
          "base_uri": "https://localhost:8080/"
        },
        "id": "s3GgJKU905JF",
        "outputId": "f0ead5a0-c581-4683-d6d1-c4219e8ff39c"
      },
      "execution_count": 104,
      "outputs": [
        {
          "output_type": "stream",
          "name": "stdout",
          "text": [
            "****************************************\n",
            "Sunny\n",
            "****************************************\n"
          ]
        }
      ]
    },
    {
      "cell_type": "markdown",
      "source": [
        "# Calculation of Gradients in tf"
      ],
      "metadata": {
        "id": "S8rmVScp1d8b"
      }
    },
    {
      "cell_type": "code",
      "source": [
        "x = tf.random.normal(shape=(2,2)) ## this creates a const by default\n",
        "y = tf.random.normal(shape=(2,2))"
      ],
      "metadata": {
        "id": "PR-iXxml066Y"
      },
      "execution_count": 105,
      "outputs": []
    },
    {
      "cell_type": "markdown",
      "source": [
        "$f(x,y) = \\sqrt{(x^2 + y^2)}$\n",
        "\n",
        "$\\nabla f(x,y) = \\frac{\\partial f}{\\partial x} \\hat{\\imath} + \\frac{\\partial f}{\\partial y} \\hat{\\jmath}$"
      ],
      "metadata": {
        "id": "uEp1aP4w1pJJ"
      }
    },
    {
      "cell_type": "code",
      "source": [
        "with tf.GradientTape() as tape:\n",
        "  tape.watch(x) ### <<< I want to calculate grad wrt x\n",
        "  f = tf.sqrt(tf.square(x) + tf.square(y))\n",
        "\n",
        "  df_dx = tape.gradient(f, x)\n",
        "\n",
        "  print(df_dx)"
      ],
      "metadata": {
        "colab": {
          "base_uri": "https://localhost:8080/"
        },
        "id": "svzN56yi1oRJ",
        "outputId": "4d8a1c8d-5b04-45d3-cbd5-f2a85de51258"
      },
      "execution_count": 106,
      "outputs": [
        {
          "output_type": "stream",
          "name": "stdout",
          "text": [
            "tf.Tensor(\n",
            "[[ 0.90524393  0.70493406]\n",
            " [-0.925988   -0.6381453 ]], shape=(2, 2), dtype=float32)\n"
          ]
        }
      ]
    },
    {
      "cell_type": "code",
      "source": [
        "with tf.GradientTape() as tape:\n",
        "  tape.watch(y) ### <<< I want to calculate grad wrt y\n",
        "  f = tf.sqrt(tf.square(x) + tf.square(y))\n",
        "\n",
        "  df_dy = tape.gradient(f, y)\n",
        "\n",
        "  print(df_dy)"
      ],
      "metadata": {
        "colab": {
          "base_uri": "https://localhost:8080/"
        },
        "id": "TEdK3IHc2nlN",
        "outputId": "d3ca05ab-5fcb-4f79-e7b0-436a1dbf1518"
      },
      "execution_count": 107,
      "outputs": [
        {
          "output_type": "stream",
          "name": "stdout",
          "text": [
            "tf.Tensor(\n",
            "[[-0.42489228 -0.7092728 ]\n",
            " [-0.37755293 -0.7699158 ]], shape=(2, 2), dtype=float32)\n"
          ]
        }
      ]
    },
    {
      "cell_type": "code",
      "source": [
        "## tf.watch is only needed when X and Y are not variables\n",
        "\n",
        "with tf.GradientTape() as tape:\n",
        "  tape.watch(y) ### <<< I want to calculate grad wrt y\n",
        "  tape.watch(x) ### <<< I want to calculate grad wrt x\n",
        "  f = tf.sqrt(tf.square(x) + tf.square(y))\n",
        "\n",
        "  df_dx, df_dy = tape.gradient(f, [x, y]) ## partial diff wrt x and y\n",
        "\n",
        "  print(df_dx)\n",
        "  print(df_dy)"
      ],
      "metadata": {
        "colab": {
          "base_uri": "https://localhost:8080/"
        },
        "id": "cUOQFNY0262l",
        "outputId": "b3fdcd29-63fe-4e62-b917-ed20bfae60d4"
      },
      "execution_count": 108,
      "outputs": [
        {
          "output_type": "stream",
          "name": "stdout",
          "text": [
            "tf.Tensor(\n",
            "[[ 0.90524393  0.70493406]\n",
            " [-0.925988   -0.6381453 ]], shape=(2, 2), dtype=float32)\n",
            "tf.Tensor(\n",
            "[[-0.42489228 -0.7092728 ]\n",
            " [-0.37755293 -0.7699158 ]], shape=(2, 2), dtype=float32)\n"
          ]
        }
      ]
    },
    {
      "cell_type": "code",
      "source": [
        "with tf.GradientTape() as tape:\n",
        "  f = tf.sqrt(tf.square(x) + tf.square(y))\n",
        "\n",
        "  df_dx, df_dy = tape.gradient(f, [x, y]) ## partial diff wrt x and y\n",
        "\n",
        "  print(df_dx)\n",
        "  print(df_dy)"
      ],
      "metadata": {
        "colab": {
          "base_uri": "https://localhost:8080/"
        },
        "id": "_VEsoD9A3LDV",
        "outputId": "8a4a8db5-7332-4a03-e85f-3a3869abec8e"
      },
      "execution_count": 109,
      "outputs": [
        {
          "output_type": "stream",
          "name": "stdout",
          "text": [
            "None\n",
            "None\n"
          ]
        }
      ]
    },
    {
      "cell_type": "code",
      "source": [
        "# here our x and y are defined as variable so no need to use watch\n",
        "x = tf.Variable(tf.random.normal(shape=(2,2)))\n",
        "y = tf.Variable(tf.random.normal(shape=(2,2)))"
      ],
      "metadata": {
        "id": "StiJ6jBT3fbN"
      },
      "execution_count": 110,
      "outputs": []
    },
    {
      "cell_type": "code",
      "source": [
        "with tf.GradientTape() as tape:\n",
        "  f = tf.sqrt(tf.square(x) + tf.square(y))\n",
        "\n",
        "  df_dx, df_dy = tape.gradient(f, [x, y]) ## partial diff wrt x and y\n",
        "\n",
        "  print(df_dx)\n",
        "  print(df_dy)"
      ],
      "metadata": {
        "colab": {
          "base_uri": "https://localhost:8080/"
        },
        "id": "Q3WEHsa23uGy",
        "outputId": "d33756dd-7420-4243-df21-4c556bddb357"
      },
      "execution_count": 111,
      "outputs": [
        {
          "output_type": "stream",
          "name": "stdout",
          "text": [
            "tf.Tensor(\n",
            "[[-0.97447443 -0.995909  ]\n",
            " [-0.9959643  -0.93980426]], shape=(2, 2), dtype=float32)\n",
            "tf.Tensor(\n",
            "[[-0.22449814  0.0903633 ]\n",
            " [-0.08975012 -0.34171325]], shape=(2, 2), dtype=float32)\n"
          ]
        }
      ]
    },
    {
      "cell_type": "code",
      "source": [
        "# example: find gradient at x = 3 and y = 2\n",
        "x = tf.Variable(3.)\n",
        "y = tf.Variable(2.)"
      ],
      "metadata": {
        "id": "CVIcc6tr3v9s"
      },
      "execution_count": 113,
      "outputs": []
    },
    {
      "cell_type": "code",
      "source": [
        "with tf.GradientTape() as tape:\n",
        "  f = tf.sqrt(tf.square(x) + tf.square(y))\n",
        "\n",
        "  df_dx, df_dy = tape.gradient(f, [x, y]) ## partial diff wrt x and y\n",
        "\n",
        "  print(df_dx)\n",
        "  print(df_dy)"
      ],
      "metadata": {
        "colab": {
          "base_uri": "https://localhost:8080/"
        },
        "id": "VUxyhzQh37L3",
        "outputId": "d6a6542c-3591-455e-a887-e3a90a96d2e9"
      },
      "execution_count": 114,
      "outputs": [
        {
          "output_type": "stream",
          "name": "stdout",
          "text": [
            "tf.Tensor(0.8320503, shape=(), dtype=float32)\n",
            "tf.Tensor(0.5547002, shape=(), dtype=float32)\n"
          ]
        }
      ]
    },
    {
      "cell_type": "markdown",
      "source": [
        "*CHECK"
      ],
      "metadata": {
        "id": "TrXlsG7_Qrcs"
      }
    },
    {
      "cell_type": "code",
      "source": [
        "x/tf.sqrt(tf.square(x) + tf.square(y))"
      ],
      "metadata": {
        "colab": {
          "base_uri": "https://localhost:8080/"
        },
        "id": "YmODoIjV5Ari",
        "outputId": "fceb57c3-af96-4b1a-c4ed-935a3da17515"
      },
      "execution_count": 115,
      "outputs": [
        {
          "output_type": "execute_result",
          "data": {
            "text/plain": [
              "<tf.Tensor: shape=(), dtype=float32, numpy=0.8320503>"
            ]
          },
          "metadata": {},
          "execution_count": 115
        }
      ]
    },
    {
      "cell_type": "code",
      "source": [
        "y/tf.sqrt(tf.square(x) + tf.square(y))"
      ],
      "metadata": {
        "colab": {
          "base_uri": "https://localhost:8080/"
        },
        "id": "pYDdE_iK5REh",
        "outputId": "ebf2456f-b181-4d7f-ccec-bf05a71b35aa"
      },
      "execution_count": 116,
      "outputs": [
        {
          "output_type": "execute_result",
          "data": {
            "text/plain": [
              "<tf.Tensor: shape=(), dtype=float32, numpy=0.5547002>"
            ]
          },
          "metadata": {},
          "execution_count": 116
        }
      ]
    },
    {
      "cell_type": "markdown",
      "source": [
        "## Simple linear regression example"
      ],
      "metadata": {
        "id": "IpkKw1yb5c6p"
      }
    },
    {
      "cell_type": "markdown",
      "source": [
        "$f(x) = W.x + b$"
      ],
      "metadata": {
        "id": "pw46VlPA5nfh"
      }
    },
    {
      "cell_type": "code",
      "source": [
        "TRUE_W = 3.0\n",
        "TRUE_B = 2.0\n",
        "\n",
        "NUM_EXAMPLES = 1000\n",
        "\n",
        "x = tf.random.normal(shape=[NUM_EXAMPLES])"
      ],
      "metadata": {
        "id": "oajRhzIU5Ucm"
      },
      "execution_count": 118,
      "outputs": []
    },
    {
      "cell_type": "code",
      "source": [
        "noise = tf.random.normal(shape=[NUM_EXAMPLES])"
      ],
      "metadata": {
        "id": "xuZ4DFU857ng"
      },
      "execution_count": 119,
      "outputs": []
    },
    {
      "cell_type": "code",
      "source": [
        "y = x * TRUE_W + TRUE_B + noise"
      ],
      "metadata": {
        "id": "hIzgxmVN6FXo"
      },
      "execution_count": 120,
      "outputs": []
    },
    {
      "cell_type": "code",
      "source": [
        "import matplotlib.pyplot as plt\n",
        "\n",
        "plt.scatter(x, y, c=\"b\")\n",
        "plt.show()"
      ],
      "metadata": {
        "colab": {
          "base_uri": "https://localhost:8080/",
          "height": 430
        },
        "id": "UNOKYHp96KL1",
        "outputId": "967828cf-89f6-4c3a-c66a-ef393535f37b"
      },
      "execution_count": 121,
      "outputs": [
        {
          "output_type": "display_data",
          "data": {
            "text/plain": [
              "<Figure size 640x480 with 1 Axes>"
            ],
            "image/png": "[encoded data removed]"
          },
          "metadata": {}
        }
      ]
    },
    {
      "cell_type": "markdown",
      "source": [
        "### Lets define a model"
      ],
      "metadata": {
        "id": "WcYrKlHM6f58"
      }
    },
    {
      "cell_type": "code",
      "source": [
        "class MyModel(tf.Module):\n",
        "  def __init__(self, **kwargs):\n",
        "    super().__init__(**kwargs)\n",
        "\n",
        "    # initial weights\n",
        "    self.w = tf.Variable(5.0)\n",
        "    self.b = tf.Variable(0.0)\n",
        "\n",
        "  def __call__(self, x):\n",
        "    return self.w*x + self.b"
      ],
      "metadata": {
        "id": "ACGiBJHw6VQp"
      },
      "execution_count": 122,
      "outputs": []
    },
    {
      "cell_type": "code",
      "source": [
        "class Test:\n",
        "  def __init__(self, x):\n",
        "    self.x = x\n",
        "\n",
        "  def __call__(self):\n",
        "    return self.x ** 3"
      ],
      "metadata": {
        "id": "m4R6I0lT7Ajd"
      },
      "execution_count": 123,
      "outputs": []
    },
    {
      "cell_type": "code",
      "source": [
        "obj = Test(2)\n",
        "obj"
      ],
      "metadata": {
        "colab": {
          "base_uri": "https://localhost:8080/"
        },
        "id": "abzFnvhd7NTz",
        "outputId": "91de2c83-2a7c-4095-e7fd-592806ff17e1"
      },
      "execution_count": 124,
      "outputs": [
        {
          "output_type": "execute_result",
          "data": {
            "text/plain": [
              "<__main__.Test at 0x7f62025b17c0>"
            ]
          },
          "metadata": {},
          "execution_count": 124
        }
      ]
    },
    {
      "cell_type": "code",
      "source": [
        "obj()"
      ],
      "metadata": {
        "colab": {
          "base_uri": "https://localhost:8080/"
        },
        "id": "xzJUOt6F7QYW",
        "outputId": "5fbd5a10-d641-4df0-eb01-2c774622fdd0"
      },
      "execution_count": 125,
      "outputs": [
        {
          "output_type": "execute_result",
          "data": {
            "text/plain": [
              "8"
            ]
          },
          "metadata": {},
          "execution_count": 125
        }
      ]
    },
    {
      "cell_type": "code",
      "source": [
        "model = MyModel()"
      ],
      "metadata": {
        "id": "mQVSyWXV7Syo"
      },
      "execution_count": 126,
      "outputs": []
    },
    {
      "cell_type": "code",
      "source": [
        "model(3)"
      ],
      "metadata": {
        "colab": {
          "base_uri": "https://localhost:8080/"
        },
        "id": "wubS1NxS7cQv",
        "outputId": "0c14d44f-6977-4dca-a2ad-a632271e5244"
      },
      "execution_count": 127,
      "outputs": [
        {
          "output_type": "execute_result",
          "data": {
            "text/plain": [
              "<tf.Tensor: shape=(), dtype=float32, numpy=15.0>"
            ]
          },
          "metadata": {},
          "execution_count": 127
        }
      ]
    },
    {
      "cell_type": "code",
      "source": [
        "model.w"
      ],
      "metadata": {
        "colab": {
          "base_uri": "https://localhost:8080/"
        },
        "id": "9OBNo2RQ7djt",
        "outputId": "f118c094-efd4-472d-e711-573b6ac91c0a"
      },
      "execution_count": 128,
      "outputs": [
        {
          "output_type": "execute_result",
          "data": {
            "text/plain": [
              "<tf.Variable 'Variable:0' shape=() dtype=float32, numpy=5.0>"
            ]
          },
          "metadata": {},
          "execution_count": 128
        }
      ]
    },
    {
      "cell_type": "code",
      "source": [
        "model.b"
      ],
      "metadata": {
        "colab": {
          "base_uri": "https://localhost:8080/"
        },
        "id": "pECICIjf7ok-",
        "outputId": "92c29038-98ed-455a-cecb-6a0f1195244c"
      },
      "execution_count": 129,
      "outputs": [
        {
          "output_type": "execute_result",
          "data": {
            "text/plain": [
              "<tf.Variable 'Variable:0' shape=() dtype=float32, numpy=0.0>"
            ]
          },
          "metadata": {},
          "execution_count": 129
        }
      ]
    },
    {
      "cell_type": "code",
      "source": [
        "model.variables"
      ],
      "metadata": {
        "colab": {
          "base_uri": "https://localhost:8080/"
        },
        "id": "zs_4v_dA7p-Y",
        "outputId": "db215f8c-2a3c-454d-f66a-7ba404293dfc"
      },
      "execution_count": 130,
      "outputs": [
        {
          "output_type": "execute_result",
          "data": {
            "text/plain": [
              "(<tf.Variable 'Variable:0' shape=() dtype=float32, numpy=0.0>,\n",
              " <tf.Variable 'Variable:0' shape=() dtype=float32, numpy=5.0>)"
            ]
          },
          "metadata": {},
          "execution_count": 130
        }
      ]
    },
    {
      "cell_type": "markdown",
      "source": [
        "### Define loss function"
      ],
      "metadata": {
        "id": "GhIp3fZo7xMZ"
      }
    },
    {
      "cell_type": "code",
      "source": [
        "def MSE_loss(target_y, predicted_y):\n",
        "  error = target_y - predicted_y\n",
        "  squared_error = tf.square(error)\n",
        "  mse = tf.reduce_mean(squared_error)\n",
        "  return mse"
      ],
      "metadata": {
        "id": "_EE5h0WG7tky"
      },
      "execution_count": 131,
      "outputs": []
    },
    {
      "cell_type": "code",
      "source": [
        "plt.scatter(x, y, c=\"b\")\n",
        "\n",
        "pred_y = model(x) ## without training\n",
        "plt.scatter(x, pred_y, c=\"r\") \n",
        "\n",
        "plt.show()"
      ],
      "metadata": {
        "colab": {
          "base_uri": "https://localhost:8080/",
          "height": 430
        },
        "id": "YBL05AZP8DGz",
        "outputId": "9cdee395-a116-4eaa-947d-114fdc6cc8ad"
      },
      "execution_count": 132,
      "outputs": [
        {
          "output_type": "display_data",
          "data": {
            "text/plain": [
              "<Figure size 640x480 with 1 Axes>"
            ],
            "image/png": "[encoded data removed]"
          },
          "metadata": {}
        }
      ]
    },
    {
      "cell_type": "code",
      "source": [
        "current_loss  = MSE_loss(y, model(x))\n",
        "current_loss.numpy()"
      ],
      "metadata": {
        "colab": {
          "base_uri": "https://localhost:8080/"
        },
        "id": "QnbPsj348Q83",
        "outputId": "f86cb7ba-ed7f-443a-ac42-f45341c108d0"
      },
      "execution_count": 133,
      "outputs": [
        {
          "output_type": "execute_result",
          "data": {
            "text/plain": [
              "8.68892"
            ]
          },
          "metadata": {},
          "execution_count": 133
        }
      ]
    },
    {
      "cell_type": "markdown",
      "source": [
        "### training function def"
      ],
      "metadata": {
        "id": "g1G_PZ318miA"
      }
    },
    {
      "cell_type": "code",
      "source": [
        "def train(model, x, y, learning_rate):\n",
        "\n",
        "  with tf.GradientTape() as tape:\n",
        "    current_loss = MSE_loss(y, model(x))\n",
        "\n",
        "  dc_dw, dc_db = tape.gradient(current_loss, [model.w, model.b])\n",
        "\n",
        "  model.w.assign_sub(learning_rate * dc_dw)\n",
        "  model.b.assign_sub(learning_rate * dc_db)"
      ],
      "metadata": {
        "id": "rt2_p-Rk8ggk"
      },
      "execution_count": 134,
      "outputs": []
    },
    {
      "cell_type": "code",
      "source": [
        "model = MyModel()\n",
        "\n",
        "Ws, bs = [], []\n",
        "\n",
        "epochs = 10*2\n",
        "\n",
        "learning_rate = 0.1\n",
        "\n",
        "w = model.w.numpy()\n",
        "b = model.b.numpy()\n",
        "\n",
        "init_loss = MSE_loss(y, model(x)).numpy()\n",
        "\n",
        "print(f\"Initial W: {w}, initial bias: {b}, initial_loss: {init_loss}\")"
      ],
      "metadata": {
        "colab": {
          "base_uri": "https://localhost:8080/"
        },
        "id": "5estg-TG9UHr",
        "outputId": "ee911aa7-2652-4ee8-93a2-3e659a8b41d4"
      },
      "execution_count": 135,
      "outputs": [
        {
          "output_type": "stream",
          "name": "stdout",
          "text": [
            "Initial W: 5.0, initial bias: 0.0, initial_loss: 8.688920021057129\n"
          ]
        }
      ]
    },
    {
      "cell_type": "code",
      "source": [
        "for epoch in range(epochs):\n",
        "  train(model, x, y, learning_rate)\n",
        "\n",
        "  Ws.append(model.w.numpy())\n",
        "  bs.append(model.b.numpy())\n",
        "\n",
        "  current_loss = MSE_loss(y, model(x))\n",
        "\n",
        "  print(f\"For epoch: {epoch}, W: {Ws[-1]}, b: {bs[-1]}, current_loss: {current_loss}\")"
      ],
      "metadata": {
        "colab": {
          "base_uri": "https://localhost:8080/"
        },
        "id": "LO7TnnHy9y3G",
        "outputId": "878fbff9-f888-4b2c-e21e-16db191c41f1"
      },
      "execution_count": 136,
      "outputs": [
        {
          "output_type": "stream",
          "name": "stdout",
          "text": [
            "For epoch: 0, W: 4.607633113861084, b: 0.3846360146999359, current_loss: 5.965823173522949\n",
            "For epoch: 1, W: 4.292056560516357, b: 0.6937618255615234, current_loss: 4.205600738525391\n",
            "For epoch: 2, W: 4.038242340087891, b: 0.9422021508216858, current_loss: 3.0677831172943115\n",
            "For epoch: 3, W: 3.8341031074523926, b: 1.1418710947036743, current_loss: 2.3322904109954834\n",
            "For epoch: 4, W: 3.669917583465576, b: 1.302343487739563, current_loss: 1.8568634986877441\n",
            "For epoch: 5, W: 3.5378665924072266, b: 1.4313143491744995, current_loss: 1.549544334411621\n",
            "For epoch: 6, W: 3.4316608905792236, b: 1.5349678993225098, current_loss: 1.35089111328125\n",
            "For epoch: 7, W: 3.3462424278259277, b: 1.6182743310928345, current_loss: 1.222480297088623\n",
            "For epoch: 8, W: 3.2775425910949707, b: 1.685227870941162, current_loss: 1.139474630355835\n",
            "For epoch: 9, W: 3.222289562225342, b: 1.7390388250350952, current_loss: 1.085819125175476\n",
            "For epoch: 10, W: 3.1778512001037598, b: 1.7822871208190918, current_loss: 1.051135540008545\n",
            "For epoch: 11, W: 3.14211106300354, b: 1.8170462846755981, current_loss: 1.028715968132019\n",
            "For epoch: 12, W: 3.1133666038513184, b: 1.844982624053955, current_loss: 1.0142238140106201\n",
            "For epoch: 13, W: 3.0902485847473145, b: 1.8674355745315552, current_loss: 1.004855751991272\n",
            "For epoch: 14, W: 3.071655750274658, b: 1.885481357574463, current_loss: 0.9988002777099609\n",
            "For epoch: 15, W: 3.0567023754119873, b: 1.8999851942062378, current_loss: 0.9948859214782715\n",
            "For epoch: 16, W: 3.0446760654449463, b: 1.9116421937942505, current_loss: 0.9923556447029114\n",
            "For epoch: 17, W: 3.035003900527954, b: 1.9210113286972046, current_loss: 0.9907200932502747\n",
            "For epoch: 18, W: 3.0272250175476074, b: 1.9285415410995483, current_loss: 0.9896628856658936\n",
            "For epoch: 19, W: 3.0209689140319824, b: 1.9345937967300415, current_loss: 0.9889792799949646\n"
          ]
        }
      ]
    },
    {
      "cell_type": "code",
      "source": [
        "plt.plot(range(epochs), Ws, 'r', range(epochs), bs, \"b\")\n",
        "\n",
        "plt.plot([TRUE_W] * epochs, \"r--\", [TRUE_B] * epochs, \"b--\")\n",
        "\n",
        "plt.legend([\"W\", \"b\", \"True W\", \"True B\"])\n",
        "\n",
        "plt.show()"
      ],
      "metadata": {
        "colab": {
          "base_uri": "https://localhost:8080/",
          "height": 430
        },
        "id": "N0xFi-9i-WEk",
        "outputId": "bb006fa1-3529-47bb-fae1-633c5f7ecc5b"
      },
      "execution_count": 137,
      "outputs": [
        {
          "output_type": "display_data",
          "data": {
            "text/plain": [
              "<Figure size 640x480 with 1 Axes>"
            ],
            "image/png": "[encoded data removed]"
          },
          "metadata": {}
        }
      ]
    },
    {
      "cell_type": "code",
      "source": [
        "plt.scatter(x, y, c=\"b\")\n",
        "\n",
        "pred_y = model(x) ## after training\n",
        "plt.scatter(x, pred_y, c=\"r\") \n",
        "\n",
        "plt.show()"
      ],
      "metadata": {
        "colab": {
          "base_uri": "https://localhost:8080/",
          "height": 430
        },
        "id": "ELZIh7Zq-9M3",
        "outputId": "9b12ff7f-9cd5-4c7c-bcf9-a247c631dabb"
      },
      "execution_count": 138,
      "outputs": [
        {
          "output_type": "display_data",
          "data": {
            "text/plain": [
              "<Figure size 640x480 with 1 Axes>"
            ],
            "image/png": "[encoded data removed]"
          },
          "metadata": {}
        }
      ]
    },
    {
      "cell_type": "code",
      "source": [],
      "metadata": {
        "id": "YlVzgx_-_Gcy"
      },
      "execution_count": null,
      "outputs": []
    }
  ]
}