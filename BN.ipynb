{
  "nbformat": 4,
  "nbformat_minor": 0,
  "metadata": {
    "colab": {
      "provenance": []
    },
    "kernelspec": {
      "name": "python3",
      "display_name": "Python 3"
    },
    "language_info": {
      "name": "python"
    },
    "accelerator": "GPU",
    "gpuClass": "standard"
  },
  "cells": [
    {
      "cell_type": "code",
      "execution_count": 36,
      "metadata": {
        "colab": {
          "base_uri": "https://localhost:8080/"
        },
        "id": "0xOZP-hmuFzh",
        "outputId": "24e1057c-3cff-4942-fdc7-dbbeed1096be"
      },
      "outputs": [
        {
          "output_type": "stream",
          "name": "stdout",
          "text": [
            "The tensorboard extension is already loaded. To reload it, use:\n",
            "  %reload_ext tensorboard\n"
          ]
        }
      ],
      "source": [
        "import os\n",
        "import tensorflow as tf\n",
        "import numpy as np\n",
        "import matplotlib.pyplot as plt\n",
        "import seaborn as sns\n",
        "plt.style.use('fivethirtyeight')\n",
        "%load_ext tensorboard"
      ]
    },
    {
      "cell_type": "code",
      "source": [
        "# get the data- mnist\n",
        "(X_train_full, y_train_full), (X_test, y_test) = tf.keras.datasets.fashion_mnist.load_data()\n",
        "\n",
        "#scale the data\n",
        "X_train_full = X_train_full / 255.0\n",
        "X_test = X_test / 255.0\n",
        "\n",
        "# split the data into validation and train set\n",
        "X_valid, X_train = X_train_full[:5000], X_train_full[5000:]\n",
        "y_valid, y_train = y_train_full[:5000], y_train_full[5000:]"
      ],
      "metadata": {
        "id": "8awfW7CuueI0"
      },
      "execution_count": 37,
      "outputs": []
    },
    {
      "cell_type": "code",
      "source": [
        "tf.random.set_seed(42)\n",
        "np.random.seed(42)\n",
        "\n",
        "LAYERS = [ tf.keras.layers.Flatten(input_shape=[28, 28]),\n",
        "    tf.keras.layers.Dense(300, kernel_initializer=\"he_normal\"),\n",
        "    tf.keras.layers.LeakyReLU(),\n",
        "    tf.keras.layers.Dense(100, kernel_initializer=\"he_normal\"),\n",
        "    tf.keras.layers.LeakyReLU(),\n",
        "    tf.keras.layers.Dense(10, activation=\"softmax\")]\n",
        "\n",
        "model = tf.keras.models.Sequential(LAYERS)"
      ],
      "metadata": {
        "id": "1MugIqd8uylV"
      },
      "execution_count": 38,
      "outputs": []
    },
    {
      "cell_type": "code",
      "source": [
        "# compile the model:\n",
        "\n",
        "model.compile(loss=\"sparse_categorical_crossentropy\",\n",
        "              optimizer=tf.keras.optimizers.SGD(learning_rate=1e-3),\n",
        "              metrics=[\"accuracy\"])\n"
      ],
      "metadata": {
        "id": "sHKlI_nXv20j"
      },
      "execution_count": 39,
      "outputs": []
    },
    {
      "cell_type": "code",
      "source": [
        "# get the summary of the model\n",
        "model.summary()"
      ],
      "metadata": {
        "colab": {
          "base_uri": "https://localhost:8080/"
        },
        "id": "Ye8J61JZwHiT",
        "outputId": "c7626ffd-5746-4060-ac9d-6f355b4dc9af"
      },
      "execution_count": 40,
      "outputs": [
        {
          "output_type": "stream",
          "name": "stdout",
          "text": [
            "Model: \"sequential_4\"\n",
            "_________________________________________________________________\n",
            " Layer (type)                Output Shape              Param #   \n",
            "=================================================================\n",
            " flatten_4 (Flatten)         (None, 784)               0         \n",
            "                                                                 \n",
            " dense_12 (Dense)            (None, 300)               235500    \n",
            "                                                                 \n",
            " leaky_re_lu_2 (LeakyReLU)   (None, 300)               0         \n",
            "                                                                 \n",
            " dense_13 (Dense)            (None, 100)               30100     \n",
            "                                                                 \n",
            " leaky_re_lu_3 (LeakyReLU)   (None, 100)               0         \n",
            "                                                                 \n",
            " dense_14 (Dense)            (None, 10)                1010      \n",
            "                                                                 \n",
            "=================================================================\n",
            "Total params: 266,610\n",
            "Trainable params: 266,610\n",
            "Non-trainable params: 0\n",
            "_________________________________________________________________\n"
          ]
        }
      ]
    },
    {
      "cell_type": "code",
      "source": [
        "# training\n",
        "history = model.fit(X_train, y_train, epochs=10,\n",
        "                    validation_data=(X_valid, y_valid), verbose=2)"
      ],
      "metadata": {
        "colab": {
          "base_uri": "https://localhost:8080/"
        },
        "id": "7L-_QFi5wUSU",
        "outputId": "27b961f2-dfac-4b5f-8482-64dc3b869d1a"
      },
      "execution_count": 41,
      "outputs": [
        {
          "output_type": "stream",
          "name": "stdout",
          "text": [
            "Epoch 1/10\n",
            "1719/1719 - 6s - loss: 1.2977 - accuracy: 0.6057 - val_loss: 0.8853 - val_accuracy: 0.7094 - 6s/epoch - 4ms/step\n",
            "Epoch 2/10\n",
            "1719/1719 - 5s - loss: 0.7965 - accuracy: 0.7353 - val_loss: 0.7112 - val_accuracy: 0.7612 - 5s/epoch - 3ms/step\n",
            "Epoch 3/10\n",
            "1719/1719 - 5s - loss: 0.6834 - accuracy: 0.7714 - val_loss: 0.6455 - val_accuracy: 0.7866 - 5s/epoch - 3ms/step\n",
            "Epoch 4/10\n",
            "1719/1719 - 5s - loss: 0.6255 - accuracy: 0.7918 - val_loss: 0.5936 - val_accuracy: 0.8046 - 5s/epoch - 3ms/step\n",
            "Epoch 5/10\n",
            "1719/1719 - 5s - loss: 0.5885 - accuracy: 0.8033 - val_loss: 0.5629 - val_accuracy: 0.8148 - 5s/epoch - 3ms/step\n",
            "Epoch 6/10\n",
            "1719/1719 - 5s - loss: 0.5618 - accuracy: 0.8105 - val_loss: 0.5402 - val_accuracy: 0.8200 - 5s/epoch - 3ms/step\n",
            "Epoch 7/10\n",
            "1719/1719 - 4s - loss: 0.5413 - accuracy: 0.8171 - val_loss: 0.5214 - val_accuracy: 0.8256 - 4s/epoch - 3ms/step\n",
            "Epoch 8/10\n",
            "1719/1719 - 5s - loss: 0.5255 - accuracy: 0.8212 - val_loss: 0.5132 - val_accuracy: 0.8258 - 5s/epoch - 3ms/step\n",
            "Epoch 9/10\n",
            "1719/1719 - 5s - loss: 0.5125 - accuracy: 0.8253 - val_loss: 0.4964 - val_accuracy: 0.8330 - 5s/epoch - 3ms/step\n",
            "Epoch 10/10\n",
            "1719/1719 - 4s - loss: 0.5012 - accuracy: 0.8286 - val_loss: 0.4888 - val_accuracy: 0.8372 - 4s/epoch - 3ms/step\n"
          ]
        }
      ]
    },
    {
      "cell_type": "markdown",
      "source": [
        "# Batch Normalization approach one"
      ],
      "metadata": {
        "id": "bJ1j8TrQwdBO"
      }
    },
    {
      "cell_type": "code",
      "source": [
        "# delete the instance of model as we are using BN Approach now\n",
        "del model"
      ],
      "metadata": {
        "id": "v-vpo3jtwcuv"
      },
      "execution_count": 42,
      "outputs": []
    },
    {
      "cell_type": "code",
      "source": [
        "# Batch normalization after activation function\n",
        "LAYERS_BN = [\n",
        "    tf.keras.layers.Flatten(input_shape=[28, 28]),\n",
        "    tf.keras.layers.BatchNormalization(),\n",
        "    tf.keras.layers.Dense(300, activation=\"relu\"),\n",
        "    tf.keras.layers.BatchNormalization(),\n",
        "    tf.keras.layers.Dense(100, activation=\"relu\"),\n",
        "    tf.keras.layers.BatchNormalization(),\n",
        "    tf.keras.layers.Dense(10, activation=\"softmax\")\n",
        "]\n",
        "\n",
        "model = tf.keras.models.Sequential(LAYERS_BN)"
      ],
      "metadata": {
        "id": "pLtiHsAwwoGF"
      },
      "execution_count": 43,
      "outputs": []
    },
    {
      "cell_type": "code",
      "source": [
        "model.summary()"
      ],
      "metadata": {
        "colab": {
          "base_uri": "https://localhost:8080/"
        },
        "id": "VCNIjhHvwzdz",
        "outputId": "37806d91-9bca-43b8-ade2-faced7ec4b31"
      },
      "execution_count": 44,
      "outputs": [
        {
          "output_type": "stream",
          "name": "stdout",
          "text": [
            "Model: \"sequential_5\"\n",
            "_________________________________________________________________\n",
            " Layer (type)                Output Shape              Param #   \n",
            "=================================================================\n",
            " flatten_5 (Flatten)         (None, 784)               0         \n",
            "                                                                 \n",
            " batch_normalization_9 (Batc  (None, 784)              3136      \n",
            " hNormalization)                                                 \n",
            "                                                                 \n",
            " dense_15 (Dense)            (None, 300)               235500    \n",
            "                                                                 \n",
            " batch_normalization_10 (Bat  (None, 300)              1200      \n",
            " chNormalization)                                                \n",
            "                                                                 \n",
            " dense_16 (Dense)            (None, 100)               30100     \n",
            "                                                                 \n",
            " batch_normalization_11 (Bat  (None, 100)              400       \n",
            " chNormalization)                                                \n",
            "                                                                 \n",
            " dense_17 (Dense)            (None, 10)                1010      \n",
            "                                                                 \n",
            "=================================================================\n",
            "Total params: 271,346\n",
            "Trainable params: 268,978\n",
            "Non-trainable params: 2,368\n",
            "_________________________________________________________________\n"
          ]
        }
      ]
    },
    {
      "cell_type": "markdown",
      "source": [
        "$784 = input neurons$\n",
        "\n",
        "$batch_mean, batch_var, gamman, beta = 4$\n",
        "\n",
        "$784*4 + 300*4 + 100 * 4$"
      ],
      "metadata": {
        "id": "g2TEXFbYw6aV"
      }
    },
    {
      "cell_type": "code",
      "source": [
        "sum([3136,1200,400])"
      ],
      "metadata": {
        "colab": {
          "base_uri": "https://localhost:8080/"
        },
        "id": "3SgHjsdvw3Ka",
        "outputId": "5b82de4d-2d2c-4aab-cc71-04db4211d499"
      },
      "execution_count": 45,
      "outputs": [
        {
          "output_type": "execute_result",
          "data": {
            "text/plain": [
              "4736"
            ]
          },
          "metadata": {},
          "execution_count": 45
        }
      ]
    },
    {
      "cell_type": "code",
      "source": [
        "#total parameters\n",
        "266610 + 4736"
      ],
      "metadata": {
        "colab": {
          "base_uri": "https://localhost:8080/"
        },
        "id": "qsI0e25JxUuL",
        "outputId": "3041ac2c-b80b-461e-948c-22c867e69041"
      },
      "execution_count": 46,
      "outputs": [
        {
          "output_type": "execute_result",
          "data": {
            "text/plain": [
              "271346"
            ]
          },
          "metadata": {},
          "execution_count": 46
        }
      ]
    },
    {
      "cell_type": "code",
      "source": [
        "# train parameters:\n",
        "\n",
        "# as only B and gamma are trainable\n",
        "\n",
        "266610 + (4736/2)\n",
        "\n",
        "# mean and variance are calculated internally"
      ],
      "metadata": {
        "colab": {
          "base_uri": "https://localhost:8080/"
        },
        "id": "Rq7P1Z82xdxA",
        "outputId": "8f9b9b3a-09c3-4897-de93-67522744a5b9"
      },
      "execution_count": 47,
      "outputs": [
        {
          "output_type": "execute_result",
          "data": {
            "text/plain": [
              "268978.0"
            ]
          },
          "metadata": {},
          "execution_count": 47
        }
      ]
    },
    {
      "cell_type": "code",
      "source": [
        "bn1 = model.layers[1]"
      ],
      "metadata": {
        "id": "p_T9emljx0JK"
      },
      "execution_count": 48,
      "outputs": []
    },
    {
      "cell_type": "code",
      "source": [
        "# check which parameters are trainable:\n",
        "for var in bn1.variables:\n",
        "  print(var.name, var.trainable)"
      ],
      "metadata": {
        "colab": {
          "base_uri": "https://localhost:8080/"
        },
        "id": "A9tPXRgYyNyb",
        "outputId": "189d2382-7037-467d-fa5e-a42adacc5790"
      },
      "execution_count": 49,
      "outputs": [
        {
          "output_type": "stream",
          "name": "stdout",
          "text": [
            "batch_normalization_9/gamma:0 True\n",
            "batch_normalization_9/beta:0 True\n",
            "batch_normalization_9/moving_mean:0 False\n",
            "batch_normalization_9/moving_variance:0 False\n"
          ]
        }
      ]
    },
    {
      "cell_type": "code",
      "source": [
        "model.compile(loss=\"sparse_categorical_crossentropy\",\n",
        "              optimizer=tf.keras.optimizers.SGD(learning_rate=1e-3),\n",
        "              metrics=[\"accuracy\"])"
      ],
      "metadata": {
        "id": "1khzA0_7zBI5"
      },
      "execution_count": 50,
      "outputs": []
    },
    {
      "cell_type": "code",
      "source": [
        "history = model.fit(X_train, y_train, epochs=10,\n",
        "                    validation_data=(X_valid, y_valid), verbose=2)"
      ],
      "metadata": {
        "colab": {
          "base_uri": "https://localhost:8080/"
        },
        "id": "zLWx0X4fzHUC",
        "outputId": "95c7b524-3eba-4a9b-ae2d-f10227eda101"
      },
      "execution_count": 51,
      "outputs": [
        {
          "output_type": "stream",
          "name": "stdout",
          "text": [
            "Epoch 1/10\n",
            "1719/1719 - 10s - loss: 0.8532 - accuracy: 0.7153 - val_loss: 0.5578 - val_accuracy: 0.8198 - 10s/epoch - 6ms/step\n",
            "Epoch 2/10\n",
            "1719/1719 - 8s - loss: 0.5734 - accuracy: 0.8032 - val_loss: 0.4764 - val_accuracy: 0.8434 - 8s/epoch - 5ms/step\n",
            "Epoch 3/10\n",
            "1719/1719 - 8s - loss: 0.5176 - accuracy: 0.8190 - val_loss: 0.4404 - val_accuracy: 0.8506 - 8s/epoch - 4ms/step\n",
            "Epoch 4/10\n",
            "1719/1719 - 8s - loss: 0.4792 - accuracy: 0.8331 - val_loss: 0.4186 - val_accuracy: 0.8566 - 8s/epoch - 5ms/step\n",
            "Epoch 5/10\n",
            "1719/1719 - 8s - loss: 0.4516 - accuracy: 0.8408 - val_loss: 0.4039 - val_accuracy: 0.8628 - 8s/epoch - 5ms/step\n",
            "Epoch 6/10\n",
            "1719/1719 - 8s - loss: 0.4361 - accuracy: 0.8462 - val_loss: 0.3927 - val_accuracy: 0.8646 - 8s/epoch - 4ms/step\n",
            "Epoch 7/10\n",
            "1719/1719 - 8s - loss: 0.4223 - accuracy: 0.8510 - val_loss: 0.3815 - val_accuracy: 0.8654 - 8s/epoch - 5ms/step\n",
            "Epoch 8/10\n",
            "1719/1719 - 9s - loss: 0.4098 - accuracy: 0.8557 - val_loss: 0.3751 - val_accuracy: 0.8688 - 9s/epoch - 5ms/step\n",
            "Epoch 9/10\n",
            "1719/1719 - 7s - loss: 0.3998 - accuracy: 0.8592 - val_loss: 0.3676 - val_accuracy: 0.8688 - 7s/epoch - 4ms/step\n",
            "Epoch 10/10\n",
            "1719/1719 - 8s - loss: 0.3889 - accuracy: 0.8620 - val_loss: 0.3610 - val_accuracy: 0.8698 - 8s/epoch - 5ms/step\n"
          ]
        }
      ]
    },
    {
      "cell_type": "markdown",
      "source": [],
      "metadata": {
        "id": "Ko2yOi6szA1N"
      }
    },
    {
      "cell_type": "markdown",
      "source": [
        "# Batch Normalization approach 2"
      ],
      "metadata": {
        "id": "taOwvh4Kyd0_"
      }
    },
    {
      "cell_type": "code",
      "source": [
        "del model"
      ],
      "metadata": {
        "id": "xWxEJWeSyToN"
      },
      "execution_count": 52,
      "outputs": []
    },
    {
      "cell_type": "code",
      "source": [
        "# applying BN before activation function\n",
        "LAYERS_BN_BIAS_FALSE = [\n",
        "    tf.keras.layers.Flatten(input_shape=[28, 28]),\n",
        "    tf.keras.layers.BatchNormalization(),\n",
        "    tf.keras.layers.Dense(300, use_bias=False),\n",
        "    tf.keras.layers.BatchNormalization(),\n",
        "    tf.keras.layers.Activation(\"relu\"),\n",
        "    tf.keras.layers.Dense(100, use_bias=False),\n",
        "    tf.keras.layers.BatchNormalization(),\n",
        "    tf.keras.layers.Activation(\"relu\"),\n",
        "    tf.keras.layers.Dense(10, activation=\"softmax\")\n",
        "]\n",
        "\n",
        "model = tf.keras.models.Sequential(LAYERS_BN_BIAS_FALSE)"
      ],
      "metadata": {
        "id": "t_nanMTUyiDd"
      },
      "execution_count": 53,
      "outputs": []
    },
    {
      "cell_type": "code",
      "source": [
        "model.compile(loss=\"sparse_categorical_crossentropy\",\n",
        "              optimizer=tf.keras.optimizers.SGD(learning_rate=1e-3),\n",
        "              metrics=[\"accuracy\"])"
      ],
      "metadata": {
        "id": "4rGJcqgcy4KR"
      },
      "execution_count": 54,
      "outputs": []
    },
    {
      "cell_type": "code",
      "source": [
        "history = model.fit(X_train, y_train, epochs=10,\n",
        "                    validation_data=(X_valid, y_valid), verbose=2)"
      ],
      "metadata": {
        "colab": {
          "base_uri": "https://localhost:8080/"
        },
        "id": "7K77D_lwzObv",
        "outputId": "bd6d936d-db85-49e8-8724-3bec777c8d31"
      },
      "execution_count": 55,
      "outputs": [
        {
          "output_type": "stream",
          "name": "stdout",
          "text": [
            "Epoch 1/10\n",
            "1719/1719 - 9s - loss: 1.0727 - accuracy: 0.6686 - val_loss: 0.6811 - val_accuracy: 0.7888 - 9s/epoch - 5ms/step\n",
            "Epoch 2/10\n",
            "1719/1719 - 7s - loss: 0.6868 - accuracy: 0.7783 - val_loss: 0.5586 - val_accuracy: 0.8194 - 7s/epoch - 4ms/step\n",
            "Epoch 3/10\n",
            "1719/1719 - 8s - loss: 0.6024 - accuracy: 0.7998 - val_loss: 0.5016 - val_accuracy: 0.8340 - 8s/epoch - 4ms/step\n",
            "Epoch 4/10\n",
            "1719/1719 - 8s - loss: 0.5515 - accuracy: 0.8149 - val_loss: 0.4670 - val_accuracy: 0.8434 - 8s/epoch - 5ms/step\n",
            "Epoch 5/10\n",
            "1719/1719 - 7s - loss: 0.5175 - accuracy: 0.8241 - val_loss: 0.4431 - val_accuracy: 0.8502 - 7s/epoch - 4ms/step\n",
            "Epoch 6/10\n",
            "1719/1719 - 8s - loss: 0.4949 - accuracy: 0.8297 - val_loss: 0.4246 - val_accuracy: 0.8556 - 8s/epoch - 5ms/step\n",
            "Epoch 7/10\n",
            "1719/1719 - 8s - loss: 0.4772 - accuracy: 0.8368 - val_loss: 0.4105 - val_accuracy: 0.8586 - 8s/epoch - 5ms/step\n",
            "Epoch 8/10\n",
            "1719/1719 - 8s - loss: 0.4618 - accuracy: 0.8389 - val_loss: 0.4008 - val_accuracy: 0.8624 - 8s/epoch - 4ms/step\n",
            "Epoch 9/10\n",
            "1719/1719 - 8s - loss: 0.4486 - accuracy: 0.8447 - val_loss: 0.3907 - val_accuracy: 0.8650 - 8s/epoch - 5ms/step\n",
            "Epoch 10/10\n",
            "1719/1719 - 8s - loss: 0.4363 - accuracy: 0.8480 - val_loss: 0.3819 - val_accuracy: 0.8684 - 8s/epoch - 4ms/step\n"
          ]
        }
      ]
    }
  ]
}