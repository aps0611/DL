{
  "nbformat": 4,
  "nbformat_minor": 0,
  "metadata": {
    "colab": {
      "provenance": []
    },
    "kernelspec": {
      "name": "python3",
      "display_name": "Python 3"
    },
    "language_info": {
      "name": "python"
    },
    "accelerator": "GPU",
    "gpuClass": "standard"
  },
  "cells": [
    {
      "cell_type": "code",
      "execution_count": 2,
      "metadata": {
        "id": "CTmGUVTe1qci"
      },
      "outputs": [],
      "source": [
        "import os\n",
        "ROOT = \"/content/drive/MyDrive/ineuron/DL\"\n",
        "os.chdir(ROOT)"
      ]
    },
    {
      "cell_type": "code",
      "source": [
        "assert os.getcwd() == ROOT"
      ],
      "metadata": {
        "id": "uBalSLMZ2E-o"
      },
      "execution_count": 3,
      "outputs": []
    },
    {
      "cell_type": "code",
      "source": [
        "import os\n",
        "import tensorflow as tf\n",
        "import numpy as np\n",
        "import matplotlib.pyplot as plt\n",
        "import seaborn as sns\n",
        "plt.style.use(\"fivethirtyeight\")\n",
        "%load_ext tensorboard"
      ],
      "metadata": {
        "id": "6iQtWOu728Py"
      },
      "execution_count": 4,
      "outputs": []
    },
    {
      "cell_type": "code",
      "source": [
        "(X_train_full, y_train_full), (X_test, y_test) = tf.keras.datasets.mnist.load_data()\n",
        "X_train_full = X_train_full / 255.0\n",
        "X_test = X_test / 255.0\n",
        "X_valid, X_train = X_train_full[:5000], X_train_full[5000:]\n",
        "y_valid, y_train = y_train_full[:5000], y_train_full[5000:]"
      ],
      "metadata": {
        "colab": {
          "base_uri": "https://localhost:8080/"
        },
        "id": "rQxpVSee2_du",
        "outputId": "8dbe85be-77da-4e67-d713-ec2965c4ed11"
      },
      "execution_count": 5,
      "outputs": [
        {
          "output_type": "stream",
          "name": "stdout",
          "text": [
            "Downloading data from https://storage.googleapis.com/tensorflow/tf-keras-datasets/mnist.npz\n",
            "11490434/11490434 [==============================] - 2s 0us/step\n"
          ]
        }
      ]
    },
    {
      "cell_type": "code",
      "source": [
        "tf.random.set_seed(42)\n",
        "np.random.seed(42)"
      ],
      "metadata": {
        "id": "GbGyrANR3B1J"
      },
      "execution_count": 6,
      "outputs": []
    },
    {
      "cell_type": "code",
      "source": [
        "LAYERS = [ tf.keras.layers.Flatten(input_shape=[28, 28]),\n",
        "    tf.keras.layers.Dense(300, kernel_initializer=\"he_normal\"),\n",
        "    tf.keras.layers.LeakyReLU(),\n",
        "    tf.keras.layers.Dense(100, kernel_initializer=\"he_normal\"),\n",
        "    tf.keras.layers.LeakyReLU(),\n",
        "    tf.keras.layers.Dense(10, activation=\"softmax\")]\n",
        "\n",
        "\n",
        "model = tf.keras.models.Sequential(LAYERS)"
      ],
      "metadata": {
        "id": "pYedeobC3FbT"
      },
      "execution_count": 7,
      "outputs": []
    },
    {
      "cell_type": "code",
      "source": [
        "model.compile(loss=\"sparse_categorical_crossentropy\",\n",
        "              optimizer=tf.keras.optimizers.SGD(learning_rate=1e-3),\n",
        "              metrics=[\"accuracy\"])"
      ],
      "metadata": {
        "id": "0XllhOZ83Hns"
      },
      "execution_count": 8,
      "outputs": []
    },
    {
      "cell_type": "code",
      "source": [
        "model.summary()"
      ],
      "metadata": {
        "colab": {
          "base_uri": "https://localhost:8080/"
        },
        "id": "ELJmZeli3JID",
        "outputId": "ba5b8475-a0c2-4cb6-ff17-6a9186121c8c"
      },
      "execution_count": 9,
      "outputs": [
        {
          "output_type": "stream",
          "name": "stdout",
          "text": [
            "Model: \"sequential\"\n",
            "_________________________________________________________________\n",
            " Layer (type)                Output Shape              Param #   \n",
            "=================================================================\n",
            " flatten (Flatten)           (None, 784)               0         \n",
            "                                                                 \n",
            " dense (Dense)               (None, 300)               235500    \n",
            "                                                                 \n",
            " leaky_re_lu (LeakyReLU)     (None, 300)               0         \n",
            "                                                                 \n",
            " dense_1 (Dense)             (None, 100)               30100     \n",
            "                                                                 \n",
            " leaky_re_lu_1 (LeakyReLU)   (None, 100)               0         \n",
            "                                                                 \n",
            " dense_2 (Dense)             (None, 10)                1010      \n",
            "                                                                 \n",
            "=================================================================\n",
            "Total params: 266,610\n",
            "Trainable params: 266,610\n",
            "Non-trainable params: 0\n",
            "_________________________________________________________________\n"
          ]
        }
      ]
    },
    {
      "cell_type": "code",
      "source": [
        "history = model.fit(X_train, y_train, epochs=10,\n",
        "                    validation_data=(X_valid, y_valid), verbose=2)"
      ],
      "metadata": {
        "colab": {
          "base_uri": "https://localhost:8080/"
        },
        "id": "XZ0O0MIs3KJT",
        "outputId": "5ea73c48-3a8e-427d-83cd-b53089484fa6"
      },
      "execution_count": 10,
      "outputs": [
        {
          "output_type": "stream",
          "name": "stdout",
          "text": [
            "Epoch 1/10\n",
            "1719/1719 - 13s - loss: 1.5464 - accuracy: 0.6019 - val_loss: 0.9486 - val_accuracy: 0.8002 - 13s/epoch - 8ms/step\n",
            "Epoch 2/10\n",
            "1719/1719 - 7s - loss: 0.7480 - accuracy: 0.8265 - val_loss: 0.5900 - val_accuracy: 0.8578 - 7s/epoch - 4ms/step\n",
            "Epoch 3/10\n",
            "1719/1719 - 7s - loss: 0.5410 - accuracy: 0.8621 - val_loss: 0.4712 - val_accuracy: 0.8786 - 7s/epoch - 4ms/step\n",
            "Epoch 4/10\n",
            "1719/1719 - 5s - loss: 0.4587 - accuracy: 0.8773 - val_loss: 0.4134 - val_accuracy: 0.8922 - 5s/epoch - 3ms/step\n",
            "Epoch 5/10\n",
            "1719/1719 - 6s - loss: 0.4144 - accuracy: 0.8863 - val_loss: 0.3785 - val_accuracy: 0.8986 - 6s/epoch - 4ms/step\n",
            "Epoch 6/10\n",
            "1719/1719 - 6s - loss: 0.3860 - accuracy: 0.8919 - val_loss: 0.3554 - val_accuracy: 0.9040 - 6s/epoch - 3ms/step\n",
            "Epoch 7/10\n",
            "1719/1719 - 6s - loss: 0.3658 - accuracy: 0.8966 - val_loss: 0.3381 - val_accuracy: 0.9082 - 6s/epoch - 3ms/step\n",
            "Epoch 8/10\n",
            "1719/1719 - 4s - loss: 0.3502 - accuracy: 0.9004 - val_loss: 0.3245 - val_accuracy: 0.9118 - 4s/epoch - 3ms/step\n",
            "Epoch 9/10\n",
            "1719/1719 - 4s - loss: 0.3376 - accuracy: 0.9038 - val_loss: 0.3143 - val_accuracy: 0.9140 - 4s/epoch - 2ms/step\n",
            "Epoch 10/10\n",
            "1719/1719 - 6s - loss: 0.3273 - accuracy: 0.9061 - val_loss: 0.3046 - val_accuracy: 0.9172 - 6s/epoch - 4ms/step\n"
          ]
        }
      ]
    },
    {
      "cell_type": "code",
      "source": [
        "model.save(\"pretrained_mnist_model.h5\")"
      ],
      "metadata": {
        "id": "TAIYpTd83MeN"
      },
      "execution_count": 11,
      "outputs": []
    },
    {
      "cell_type": "markdown",
      "source": [
        "# Transfer Learning:"
      ],
      "metadata": {
        "id": "fxSPmaWK3PD6"
      }
    },
    {
      "cell_type": "markdown",
      "source": [
        "## New Problem Statement-\n",
        "Classify handwritten digits into odd and even"
      ],
      "metadata": {
        "id": "n6CzCsdJ3R30"
      }
    },
    {
      "cell_type": "code",
      "source": [
        "# load the previous model\n",
        "pretrained_mnist_model = tf.keras.models.load_model(\"pretrained_mnist_model.h5\")"
      ],
      "metadata": {
        "id": "CHKsKcGI3OEa"
      },
      "execution_count": 12,
      "outputs": []
    },
    {
      "cell_type": "code",
      "source": [
        "pretrained_mnist_model.summary()"
      ],
      "metadata": {
        "colab": {
          "base_uri": "https://localhost:8080/"
        },
        "id": "ouXMmYCy3c13",
        "outputId": "fc4aa211-1c73-4604-c90a-7f40a6228c31"
      },
      "execution_count": 13,
      "outputs": [
        {
          "output_type": "stream",
          "name": "stdout",
          "text": [
            "Model: \"sequential\"\n",
            "_________________________________________________________________\n",
            " Layer (type)                Output Shape              Param #   \n",
            "=================================================================\n",
            " flatten (Flatten)           (None, 784)               0         \n",
            "                                                                 \n",
            " dense (Dense)               (None, 300)               235500    \n",
            "                                                                 \n",
            " leaky_re_lu (LeakyReLU)     (None, 300)               0         \n",
            "                                                                 \n",
            " dense_1 (Dense)             (None, 100)               30100     \n",
            "                                                                 \n",
            " leaky_re_lu_1 (LeakyReLU)   (None, 100)               0         \n",
            "                                                                 \n",
            " dense_2 (Dense)             (None, 10)                1010      \n",
            "                                                                 \n",
            "=================================================================\n",
            "Total params: 266,610\n",
            "Trainable params: 266,610\n",
            "Non-trainable params: 0\n",
            "_________________________________________________________________\n"
          ]
        }
      ]
    },
    {
      "cell_type": "code",
      "source": [
        "for layer in pretrained_mnist_model.layers:\n",
        "  print(f\"{layer.name}: {layer.trainable}\")"
      ],
      "metadata": {
        "colab": {
          "base_uri": "https://localhost:8080/"
        },
        "id": "kpEmhOk43fzd",
        "outputId": "a1e997a2-e0a5-48b3-b15e-40657cbe5f8c"
      },
      "execution_count": 14,
      "outputs": [
        {
          "output_type": "stream",
          "name": "stdout",
          "text": [
            "flatten: True\n",
            "dense: True\n",
            "leaky_re_lu: True\n",
            "dense_1: True\n",
            "leaky_re_lu_1: True\n",
            "dense_2: True\n"
          ]
        }
      ]
    },
    {
      "cell_type": "code",
      "source": [
        "for layer in pretrained_mnist_model.layers[:-1]: # leaves the last layer unfreezed => trainable\n",
        "  layer.trainable = False # freezing the layers from getting trained\n",
        "  print(f\"{layer.name}: {layer.trainable}\")"
      ],
      "metadata": {
        "colab": {
          "base_uri": "https://localhost:8080/"
        },
        "id": "ywWwaxAO3nlr",
        "outputId": "6dd50c51-bb0b-422e-a60c-d6c2f06c8720"
      },
      "execution_count": 15,
      "outputs": [
        {
          "output_type": "stream",
          "name": "stdout",
          "text": [
            "flatten: False\n",
            "dense: False\n",
            "leaky_re_lu: False\n",
            "dense_1: False\n",
            "leaky_re_lu_1: False\n"
          ]
        }
      ]
    },
    {
      "cell_type": "code",
      "source": [
        "for layer in pretrained_mnist_model.layers:\n",
        "  print(f\"{layer.name}: {layer.trainable}\")"
      ],
      "metadata": {
        "colab": {
          "base_uri": "https://localhost:8080/"
        },
        "id": "KqKet89d3wA1",
        "outputId": "444c2582-9808-4ec1-d7f7-541e5a4e0b98"
      },
      "execution_count": 16,
      "outputs": [
        {
          "output_type": "stream",
          "name": "stdout",
          "text": [
            "flatten: False\n",
            "dense: False\n",
            "leaky_re_lu: False\n",
            "dense_1: False\n",
            "leaky_re_lu_1: False\n",
            "dense_2: True\n"
          ]
        }
      ]
    },
    {
      "cell_type": "code",
      "source": [
        "try:\n",
        "  del new_model\n",
        "except:\n",
        "  pass"
      ],
      "metadata": {
        "id": "TnGllGgt3ypl"
      },
      "execution_count": 17,
      "outputs": []
    },
    {
      "cell_type": "code",
      "source": [
        "lower_pretrained_layers = pretrained_mnist_model.layers[:-1]\n",
        "\n",
        "new_model = tf.keras.models.Sequential(lower_pretrained_layers)\n",
        "\n",
        "new_model.add(\n",
        "    tf.keras.layers.Dense(2, activation=\"softmax\")\n",
        ")"
      ],
      "metadata": {
        "id": "pVTknRSZ304N"
      },
      "execution_count": 18,
      "outputs": []
    },
    {
      "cell_type": "code",
      "source": [
        "new_model.summary()"
      ],
      "metadata": {
        "colab": {
          "base_uri": "https://localhost:8080/"
        },
        "id": "iNMRcNMj4xQk",
        "outputId": "8cb17f35-fe7b-4ae6-dbf2-65072a93c254"
      },
      "execution_count": 19,
      "outputs": [
        {
          "output_type": "stream",
          "name": "stdout",
          "text": [
            "Model: \"sequential_1\"\n",
            "_________________________________________________________________\n",
            " Layer (type)                Output Shape              Param #   \n",
            "=================================================================\n",
            " flatten (Flatten)           (None, 784)               0         \n",
            "                                                                 \n",
            " dense (Dense)               (None, 300)               235500    \n",
            "                                                                 \n",
            " leaky_re_lu (LeakyReLU)     (None, 300)               0         \n",
            "                                                                 \n",
            " dense_1 (Dense)             (None, 100)               30100     \n",
            "                                                                 \n",
            " leaky_re_lu_1 (LeakyReLU)   (None, 100)               0         \n",
            "                                                                 \n",
            " dense_3 (Dense)             (None, 2)                 202       \n",
            "                                                                 \n",
            "=================================================================\n",
            "Total params: 265,802\n",
            "Trainable params: 202\n",
            "Non-trainable params: 265,600\n",
            "_________________________________________________________________\n"
          ]
        }
      ]
    },
    {
      "cell_type": "markdown",
      "source": [
        "200 * 2(weights) + 2 (bias)"
      ],
      "metadata": {
        "id": "RgelWlUU5C5g"
      }
    },
    {
      "cell_type": "code",
      "source": [
        "# remove last layer\n",
        "266610 - 1010"
      ],
      "metadata": {
        "colab": {
          "base_uri": "https://localhost:8080/"
        },
        "id": "jRiuTgY34ymR",
        "outputId": "acaf0207-2a50-49e8-f815-a06584e1d12a"
      },
      "execution_count": 20,
      "outputs": [
        {
          "output_type": "execute_result",
          "data": {
            "text/plain": [
              "265600"
            ]
          },
          "metadata": {},
          "execution_count": 20
        }
      ]
    },
    {
      "cell_type": "code",
      "source": [
        "265600 + 202"
      ],
      "metadata": {
        "colab": {
          "base_uri": "https://localhost:8080/"
        },
        "id": "qbCYIMBe5ZvJ",
        "outputId": "841727d4-4a65-443a-ae2b-57f6faf1f1b7"
      },
      "execution_count": 21,
      "outputs": [
        {
          "output_type": "execute_result",
          "data": {
            "text/plain": [
              "265802"
            ]
          },
          "metadata": {},
          "execution_count": 21
        }
      ]
    },
    {
      "cell_type": "code",
      "source": [
        "# less parameters to train\n",
        "# less number of time to train\n",
        "# less resources and thus less cost"
      ],
      "metadata": {
        "id": "hVEMx_Jc5c4N"
      },
      "execution_count": 22,
      "outputs": []
    },
    {
      "cell_type": "code",
      "source": [],
      "metadata": {
        "id": "2ttmk3Dv5jPl"
      },
      "execution_count": null,
      "outputs": []
    }
  ]
}